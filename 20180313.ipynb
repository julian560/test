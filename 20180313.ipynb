{
 "cells": [
  {
   "cell_type": "code",
   "execution_count": 2,
   "metadata": {},
   "outputs": [
    {
     "name": "stdout",
     "output_type": "stream",
     "text": [
      "星期一 看 魔戒 喝 紅茶\n",
      "星期二 看 葉問 喝 奶茶\n",
      "星期三 看 小王子 喝 可樂\n",
      "星期四 看 007 喝 烏龍茶\n",
      "星期五 看 高年級實習生 喝 高山茶\n"
     ]
    }
   ],
   "source": [
    "days = [\"星期一\", \"星期二\", \"星期三\", \"星期四\", \"星期五\"]\n",
    "movies = ['魔戒', '葉問', '小王子', '007', '高年級實習生']\n",
    "drinks = [\"紅茶\", \"奶茶\", \"可樂\", \"烏龍茶\", \"高山茶\"]\n",
    "for days, movies, drinks in zip(days, movies, drinks):\n",
    "    print(days, \"看\", movies, \"喝\", drinks)\n",
    "#zip\n",
    "#星期一 看 魔戒 喝 紅茶\n",
    "#星期二 看 葉問 喝 奶茶\n",
    "#星期三 看 小王子 喝 可樂\n",
    "#星期四 看 007 喝 烏龍茶\n",
    "#星期五 看 高年年級實習生 喝 高山茶"
   ]
  },
  {
   "cell_type": "code",
   "execution_count": 7,
   "metadata": {},
   "outputs": [
    {
     "data": {
      "text/plain": [
       "[('星期一', '猴子穿新衣'),\n",
       " ('星期二', '猴子肚子餓'),\n",
       " ('星期三', '猴子去爬山'),\n",
       " ('星期四', '猴子逛夜市'),\n",
       " ('星期五', '猴子去跳舞')]"
      ]
     },
     "execution_count": 7,
     "metadata": {},
     "output_type": "execute_result"
    }
   ],
   "source": [
    "days = [\"星期一\", \"星期二\", \"星期三\", \"星期四\", \"星期五\"]\n",
    "actions = ['猴子穿新衣', '猴子肚子餓', '猴子去爬山', '猴子逛夜市','猴子去跳舞']\n",
    "list(zip(days, actions))"
   ]
  },
  {
   "cell_type": "code",
   "execution_count": 9,
   "metadata": {},
   "outputs": [
    {
     "data": {
      "text/plain": [
       "[('book', '書'), ('apple', '蘋果'), ('computer', '電腦')]"
      ]
     },
     "execution_count": 9,
     "metadata": {},
     "output_type": "execute_result"
    }
   ],
   "source": [
    "english = \"book\", \"apple\", \"computer\"\n",
    "chinese = \"書\", \"蘋果\", \"電腦\"\n",
    "list(zip(english, chinese))"
   ]
  },
  {
   "cell_type": "code",
   "execution_count": 10,
   "metadata": {},
   "outputs": [
    {
     "data": {
      "text/plain": [
       "tuple"
      ]
     },
     "execution_count": 10,
     "metadata": {},
     "output_type": "execute_result"
    }
   ],
   "source": [
    "type(chinese)"
   ]
  },
  {
   "cell_type": "code",
   "execution_count": 11,
   "metadata": {},
   "outputs": [
    {
     "data": {
      "text/plain": [
       "[('book', '書'), ('apple', '蘋果'), ('computer', '電腦')]"
      ]
     },
     "execution_count": 11,
     "metadata": {},
     "output_type": "execute_result"
    }
   ],
   "source": [
    "list(zip(english,chinese))"
   ]
  },
  {
   "cell_type": "code",
   "execution_count": 12,
   "metadata": {},
   "outputs": [
    {
     "name": "stdout",
     "output_type": "stream",
     "text": [
      "1\n",
      "2\n",
      "3\n",
      "4\n",
      "5\n",
      "6\n",
      "7\n",
      "8\n",
      "9\n"
     ]
    }
   ],
   "source": [
    "for x in range(1,10):\n",
    "    print(x)"
   ]
  },
  {
   "cell_type": "code",
   "execution_count": 13,
   "metadata": {},
   "outputs": [
    {
     "data": {
      "text/plain": [
       "[0, 1, 2, 3, 4, 5, 6, 7, 8, 9]"
      ]
     },
     "execution_count": 13,
     "metadata": {},
     "output_type": "execute_result"
    }
   ],
   "source": [
    "list(range(0,10))"
   ]
  },
  {
   "cell_type": "code",
   "execution_count": 16,
   "metadata": {},
   "outputs": [
    {
     "data": {
      "text/plain": [
       "[1, 3, 5, 7, 9]"
      ]
     },
     "execution_count": 16,
     "metadata": {},
     "output_type": "execute_result"
    }
   ],
   "source": [
    "list(range(1,10,2))"
   ]
  },
  {
   "cell_type": "code",
   "execution_count": 18,
   "metadata": {},
   "outputs": [
    {
     "data": {
      "text/plain": [
       "[0, 1, 2, 3, 4, 5, 6, 7, 8, 9]"
      ]
     },
     "execution_count": 18,
     "metadata": {},
     "output_type": "execute_result"
    }
   ],
   "source": [
    "list(range(0,10))"
   ]
  },
  {
   "cell_type": "code",
   "execution_count": 19,
   "metadata": {},
   "outputs": [],
   "source": [
    "number_list = list(range(1,6))"
   ]
  },
  {
   "cell_type": "code",
   "execution_count": 20,
   "metadata": {},
   "outputs": [
    {
     "data": {
      "text/plain": [
       "[1, 2, 3, 4, 5]"
      ]
     },
     "execution_count": 20,
     "metadata": {},
     "output_type": "execute_result"
    }
   ],
   "source": [
    "number_list"
   ]
  },
  {
   "cell_type": "code",
   "execution_count": 21,
   "metadata": {},
   "outputs": [
    {
     "data": {
      "text/plain": [
       "[1, 2, 3, 4, 5]"
      ]
     },
     "execution_count": 21,
     "metadata": {},
     "output_type": "execute_result"
    }
   ],
   "source": [
    "number_list = []\n",
    "number_list.append(1)\n",
    "number_list.append(2)\n",
    "number_list.append(3)\n",
    "number_list.append(4)\n",
    "number_list.append(5)\n",
    "number_list"
   ]
  },
  {
   "cell_type": "code",
   "execution_count": 23,
   "metadata": {},
   "outputs": [],
   "source": [
    "number_list = []\n",
    "for n in range(1,6):\n",
    "    number_list.append(n)\n"
   ]
  },
  {
   "cell_type": "code",
   "execution_count": 24,
   "metadata": {},
   "outputs": [
    {
     "data": {
      "text/plain": [
       "[1, 2, 3, 4, 5]"
      ]
     },
     "execution_count": 24,
     "metadata": {},
     "output_type": "execute_result"
    }
   ],
   "source": [
    "number_list"
   ]
  },
  {
   "cell_type": "code",
   "execution_count": 26,
   "metadata": {},
   "outputs": [],
   "source": [
    "number_list = [n for n in range(1,6)]"
   ]
  },
  {
   "cell_type": "code",
   "execution_count": 27,
   "metadata": {},
   "outputs": [
    {
     "data": {
      "text/plain": [
       "[1, 2, 3, 4, 5]"
      ]
     },
     "execution_count": 27,
     "metadata": {},
     "output_type": "execute_result"
    }
   ],
   "source": [
    "number_list"
   ]
  },
  {
   "cell_type": "code",
   "execution_count": 30,
   "metadata": {},
   "outputs": [],
   "source": [
    "number_list = [n-2 for n in range(1,6)]"
   ]
  },
  {
   "cell_type": "code",
   "execution_count": 31,
   "metadata": {},
   "outputs": [
    {
     "data": {
      "text/plain": [
       "[-1, 0, 1, 2, 3]"
      ]
     },
     "execution_count": 31,
     "metadata": {},
     "output_type": "execute_result"
    }
   ],
   "source": [
    "number_list"
   ]
  },
  {
   "cell_type": "code",
   "execution_count": 38,
   "metadata": {},
   "outputs": [],
   "source": [
    "a_list = []\n",
    "for number in range(1,6):\n",
    "    if number % 2 == 1:\n",
    "        a_list.append(number)"
   ]
  },
  {
   "cell_type": "code",
   "execution_count": 40,
   "metadata": {},
   "outputs": [
    {
     "data": {
      "text/plain": [
       "[1, 3, 5]"
      ]
     },
     "execution_count": 40,
     "metadata": {},
     "output_type": "execute_result"
    }
   ],
   "source": [
    "a_list"
   ]
  },
  {
   "cell_type": "code",
   "execution_count": 35,
   "metadata": {},
   "outputs": [
    {
     "data": {
      "text/plain": [
       "[1, 3, 5]"
      ]
     },
     "execution_count": 35,
     "metadata": {},
     "output_type": "execute_result"
    }
   ],
   "source": [
    "[number for number in range(1,6) if number % 2 == 1]"
   ]
  },
  {
   "cell_type": "code",
   "execution_count": 44,
   "metadata": {},
   "outputs": [
    {
     "name": "stdout",
     "output_type": "stream",
     "text": [
      "1 1\n",
      "1 2\n",
      "1 3\n",
      "1 4\n",
      "1 5\n",
      "1 6\n",
      "1 7\n",
      "1 8\n",
      "1 9\n",
      "2 1\n",
      "2 2\n",
      "2 3\n",
      "2 4\n",
      "2 5\n",
      "2 6\n",
      "2 7\n",
      "2 8\n",
      "2 9\n",
      "3 1\n",
      "3 2\n",
      "3 3\n",
      "3 4\n",
      "3 5\n",
      "3 6\n",
      "3 7\n",
      "3 8\n",
      "3 9\n",
      "4 1\n",
      "4 2\n",
      "4 3\n",
      "4 4\n",
      "4 5\n",
      "4 6\n",
      "4 7\n",
      "4 8\n",
      "4 9\n",
      "5 1\n",
      "5 2\n",
      "5 3\n",
      "5 4\n",
      "5 5\n",
      "5 6\n",
      "5 7\n",
      "5 8\n",
      "5 9\n",
      "6 1\n",
      "6 2\n",
      "6 3\n",
      "6 4\n",
      "6 5\n",
      "6 6\n",
      "6 7\n",
      "6 8\n",
      "6 9\n",
      "7 1\n",
      "7 2\n",
      "7 3\n",
      "7 4\n",
      "7 5\n",
      "7 6\n",
      "7 7\n",
      "7 8\n",
      "7 9\n",
      "8 1\n",
      "8 2\n",
      "8 3\n",
      "8 4\n",
      "8 5\n",
      "8 6\n",
      "8 7\n",
      "8 8\n",
      "8 9\n",
      "9 1\n",
      "9 2\n",
      "9 3\n",
      "9 4\n",
      "9 5\n",
      "9 6\n",
      "9 7\n",
      "9 8\n",
      "9 9\n"
     ]
    }
   ],
   "source": [
    "rows = range(1,10)\n",
    "cols = range(1,10)\n",
    "for row in rows:\n",
    "    for col in cols:\n",
    "        print(row, col)"
   ]
  },
  {
   "cell_type": "code",
   "execution_count": 45,
   "metadata": {},
   "outputs": [
    {
     "name": "stdout",
     "output_type": "stream",
     "text": [
      "1 * 1 = 1\n",
      "1 * 2 = 2\n",
      "1 * 3 = 3\n",
      "1 * 4 = 4\n",
      "1 * 5 = 5\n",
      "1 * 6 = 6\n",
      "1 * 7 = 7\n",
      "1 * 8 = 8\n",
      "1 * 9 = 9\n",
      "2 * 1 = 2\n",
      "2 * 2 = 4\n",
      "2 * 3 = 6\n",
      "2 * 4 = 8\n",
      "2 * 5 = 10\n",
      "2 * 6 = 12\n",
      "2 * 7 = 14\n",
      "2 * 8 = 16\n",
      "2 * 9 = 18\n",
      "3 * 1 = 3\n",
      "3 * 2 = 6\n",
      "3 * 3 = 9\n",
      "3 * 4 = 12\n",
      "3 * 5 = 15\n",
      "3 * 6 = 18\n",
      "3 * 7 = 21\n",
      "3 * 8 = 24\n",
      "3 * 9 = 27\n",
      "4 * 1 = 4\n",
      "4 * 2 = 8\n",
      "4 * 3 = 12\n",
      "4 * 4 = 16\n",
      "4 * 5 = 20\n",
      "4 * 6 = 24\n",
      "4 * 7 = 28\n",
      "4 * 8 = 32\n",
      "4 * 9 = 36\n",
      "5 * 1 = 5\n",
      "5 * 2 = 10\n",
      "5 * 3 = 15\n",
      "5 * 4 = 20\n",
      "5 * 5 = 25\n",
      "5 * 6 = 30\n",
      "5 * 7 = 35\n",
      "5 * 8 = 40\n",
      "5 * 9 = 45\n",
      "6 * 1 = 6\n",
      "6 * 2 = 12\n",
      "6 * 3 = 18\n",
      "6 * 4 = 24\n",
      "6 * 5 = 30\n",
      "6 * 6 = 36\n",
      "6 * 7 = 42\n",
      "6 * 8 = 48\n",
      "6 * 9 = 54\n",
      "7 * 1 = 7\n",
      "7 * 2 = 14\n",
      "7 * 3 = 21\n",
      "7 * 4 = 28\n",
      "7 * 5 = 35\n",
      "7 * 6 = 42\n",
      "7 * 7 = 49\n",
      "7 * 8 = 56\n",
      "7 * 9 = 63\n",
      "8 * 1 = 8\n",
      "8 * 2 = 16\n",
      "8 * 3 = 24\n",
      "8 * 4 = 32\n",
      "8 * 5 = 40\n",
      "8 * 6 = 48\n",
      "8 * 7 = 56\n",
      "8 * 8 = 64\n",
      "8 * 9 = 72\n",
      "9 * 1 = 9\n",
      "9 * 2 = 18\n",
      "9 * 3 = 27\n",
      "9 * 4 = 36\n",
      "9 * 5 = 45\n",
      "9 * 6 = 54\n",
      "9 * 7 = 63\n",
      "9 * 8 = 72\n",
      "9 * 9 = 81\n"
     ]
    }
   ],
   "source": [
    "for row in range(1,10):\n",
    "    for col in range(1,10):\n",
    "        print(row, '*', col, '=', row*col)"
   ]
  },
  {
   "cell_type": "code",
   "execution_count": 47,
   "metadata": {},
   "outputs": [],
   "source": [
    "cells = [(row, '*', col, '=', row*col) for row in range(1,10) for col in range(1,10)]"
   ]
  },
  {
   "cell_type": "code",
   "execution_count": 48,
   "metadata": {},
   "outputs": [
    {
     "name": "stdout",
     "output_type": "stream",
     "text": [
      "(1, '*', 1, '=', 1)\n",
      "(1, '*', 2, '=', 2)\n",
      "(1, '*', 3, '=', 3)\n",
      "(1, '*', 4, '=', 4)\n",
      "(1, '*', 5, '=', 5)\n",
      "(1, '*', 6, '=', 6)\n",
      "(1, '*', 7, '=', 7)\n",
      "(1, '*', 8, '=', 8)\n",
      "(1, '*', 9, '=', 9)\n",
      "(2, '*', 1, '=', 2)\n",
      "(2, '*', 2, '=', 4)\n",
      "(2, '*', 3, '=', 6)\n",
      "(2, '*', 4, '=', 8)\n",
      "(2, '*', 5, '=', 10)\n",
      "(2, '*', 6, '=', 12)\n",
      "(2, '*', 7, '=', 14)\n",
      "(2, '*', 8, '=', 16)\n",
      "(2, '*', 9, '=', 18)\n",
      "(3, '*', 1, '=', 3)\n",
      "(3, '*', 2, '=', 6)\n",
      "(3, '*', 3, '=', 9)\n",
      "(3, '*', 4, '=', 12)\n",
      "(3, '*', 5, '=', 15)\n",
      "(3, '*', 6, '=', 18)\n",
      "(3, '*', 7, '=', 21)\n",
      "(3, '*', 8, '=', 24)\n",
      "(3, '*', 9, '=', 27)\n",
      "(4, '*', 1, '=', 4)\n",
      "(4, '*', 2, '=', 8)\n",
      "(4, '*', 3, '=', 12)\n",
      "(4, '*', 4, '=', 16)\n",
      "(4, '*', 5, '=', 20)\n",
      "(4, '*', 6, '=', 24)\n",
      "(4, '*', 7, '=', 28)\n",
      "(4, '*', 8, '=', 32)\n",
      "(4, '*', 9, '=', 36)\n",
      "(5, '*', 1, '=', 5)\n",
      "(5, '*', 2, '=', 10)\n",
      "(5, '*', 3, '=', 15)\n",
      "(5, '*', 4, '=', 20)\n",
      "(5, '*', 5, '=', 25)\n",
      "(5, '*', 6, '=', 30)\n",
      "(5, '*', 7, '=', 35)\n",
      "(5, '*', 8, '=', 40)\n",
      "(5, '*', 9, '=', 45)\n",
      "(6, '*', 1, '=', 6)\n",
      "(6, '*', 2, '=', 12)\n",
      "(6, '*', 3, '=', 18)\n",
      "(6, '*', 4, '=', 24)\n",
      "(6, '*', 5, '=', 30)\n",
      "(6, '*', 6, '=', 36)\n",
      "(6, '*', 7, '=', 42)\n",
      "(6, '*', 8, '=', 48)\n",
      "(6, '*', 9, '=', 54)\n",
      "(7, '*', 1, '=', 7)\n",
      "(7, '*', 2, '=', 14)\n",
      "(7, '*', 3, '=', 21)\n",
      "(7, '*', 4, '=', 28)\n",
      "(7, '*', 5, '=', 35)\n",
      "(7, '*', 6, '=', 42)\n",
      "(7, '*', 7, '=', 49)\n",
      "(7, '*', 8, '=', 56)\n",
      "(7, '*', 9, '=', 63)\n",
      "(8, '*', 1, '=', 8)\n",
      "(8, '*', 2, '=', 16)\n",
      "(8, '*', 3, '=', 24)\n",
      "(8, '*', 4, '=', 32)\n",
      "(8, '*', 5, '=', 40)\n",
      "(8, '*', 6, '=', 48)\n",
      "(8, '*', 7, '=', 56)\n",
      "(8, '*', 8, '=', 64)\n",
      "(8, '*', 9, '=', 72)\n",
      "(9, '*', 1, '=', 9)\n",
      "(9, '*', 2, '=', 18)\n",
      "(9, '*', 3, '=', 27)\n",
      "(9, '*', 4, '=', 36)\n",
      "(9, '*', 5, '=', 45)\n",
      "(9, '*', 6, '=', 54)\n",
      "(9, '*', 7, '=', 63)\n",
      "(9, '*', 8, '=', 72)\n",
      "(9, '*', 9, '=', 81)\n"
     ]
    }
   ],
   "source": [
    "    for cell in cells:\n",
    "        print(cell)"
   ]
  },
  {
   "cell_type": "code",
   "execution_count": 51,
   "metadata": {},
   "outputs": [
    {
     "name": "stdout",
     "output_type": "stream",
     "text": [
      "1*1=1\t1*2=2\t1*3=3\t1*4=4\t1*5=5\t1*6=6\t1*7=7\t1*8=8\t1*9=9\n",
      "2*1=2\t2*2=4\t2*3=6\t2*4=8\t2*5=10\t2*6=12\t2*7=14\t2*8=16\t2*9=18\n",
      "3*1=3\t3*2=6\t3*3=9\t3*4=12\t3*5=15\t3*6=18\t3*7=21\t3*8=24\t3*9=27\n",
      "4*1=4\t4*2=8\t4*3=12\t4*4=16\t4*5=20\t4*6=24\t4*7=28\t4*8=32\t4*9=36\n",
      "5*1=5\t5*2=10\t5*3=15\t5*4=20\t5*5=25\t5*6=30\t5*7=35\t5*8=40\t5*9=45\n",
      "6*1=6\t6*2=12\t6*3=18\t6*4=24\t6*5=30\t6*6=36\t6*7=42\t6*8=48\t6*9=54\n",
      "7*1=7\t7*2=14\t7*3=21\t7*4=28\t7*5=35\t7*6=42\t7*7=49\t7*8=56\t7*9=63\n",
      "8*1=8\t8*2=16\t8*3=24\t8*4=32\t8*5=40\t8*6=48\t8*7=56\t8*8=64\t8*9=72\n",
      "9*1=9\t9*2=18\t9*3=27\t9*4=36\t9*5=45\t9*6=54\t9*7=63\t9*8=72\t9*9=81\n"
     ]
    }
   ],
   "source": [
    "print (\n",
    "    '\\n'.join(\n",
    "        ['\\t'.join(\n",
    "            ['%d*%d=%d' % (j,i,i*j) for i in range(1,10)]\n",
    "        ) for j in range(1,10)]\n",
    "    )\n",
    ")"
   ]
  },
  {
   "cell_type": "code",
   "execution_count": 52,
   "metadata": {},
   "outputs": [],
   "source": [
    "def do_nothing():\n",
    "    pass"
   ]
  },
  {
   "cell_type": "code",
   "execution_count": 54,
   "metadata": {},
   "outputs": [],
   "source": [
    "do_nothing()"
   ]
  },
  {
   "cell_type": "raw",
   "metadata": {},
   "source": []
  },
  {
   "cell_type": "code",
   "execution_count": 60,
   "metadata": {},
   "outputs": [],
   "source": [
    "def add_args(rag1, rag2):\n",
    "    print(rag1 + rag2)"
   ]
  },
  {
   "cell_type": "code",
   "execution_count": 61,
   "metadata": {},
   "outputs": [
    {
     "name": "stdout",
     "output_type": "stream",
     "text": [
      "3\n"
     ]
    }
   ],
   "source": [
    "add_args(1, 2)"
   ]
  },
  {
   "cell_type": "code",
   "execution_count": 67,
   "metadata": {},
   "outputs": [],
   "source": [
    "def iron_man_color(x):\n",
    "    if iron_man_color == \"紅色\":\n",
    "        return(\"鋼鐵人盔甲是紅色的\")\n",
    "    elif iron_man_color == \"綠色\":\n",
    "        return(\"鋼鐵人其實也可以參考浩克的顏色\")\n",
    "    elif iron_man_color == \"藍色\":\n",
    "        return(\"鋼鐵人變成藍色小精靈也不錯\")\n",
    "    else:\n",
    "        print(\"好像沒有\",x)"
   ]
  },
  {
   "cell_type": "code",
   "execution_count": 69,
   "metadata": {},
   "outputs": [
    {
     "name": "stdout",
     "output_type": "stream",
     "text": [
      "好像沒有 綠色\n"
     ]
    }
   ],
   "source": [
    "iron_man_color(\"綠色\")"
   ]
  },
  {
   "cell_type": "code",
   "execution_count": 70,
   "metadata": {},
   "outputs": [],
   "source": [
    "def answer():\n",
    "    print(42)"
   ]
  },
  {
   "cell_type": "code",
   "execution_count": 71,
   "metadata": {},
   "outputs": [
    {
     "name": "stdout",
     "output_type": "stream",
     "text": [
      "42\n"
     ]
    }
   ],
   "source": [
    "answer()"
   ]
  },
  {
   "cell_type": "code",
   "execution_count": 72,
   "metadata": {},
   "outputs": [
    {
     "name": "stdout",
     "output_type": "stream",
     "text": [
      "42\n"
     ]
    }
   ],
   "source": [
    "x = answer()"
   ]
  },
  {
   "cell_type": "code",
   "execution_count": 74,
   "metadata": {},
   "outputs": [
    {
     "name": "stdout",
     "output_type": "stream",
     "text": [
      "None\n"
     ]
    }
   ],
   "source": [
    "print(x)"
   ]
  },
  {
   "cell_type": "code",
   "execution_count": 92,
   "metadata": {},
   "outputs": [],
   "source": [
    "def add_args(rag1, rag2):\n",
    "    print(rag1 + rag2)"
   ]
  },
  {
   "cell_type": "code",
   "execution_count": 75,
   "metadata": {},
   "outputs": [],
   "source": [
    "def run_with_args(func, arg1,arg2):\n",
    "    func(arg1, arg2)"
   ]
  },
  {
   "cell_type": "code",
   "execution_count": 76,
   "metadata": {},
   "outputs": [
    {
     "name": "stdout",
     "output_type": "stream",
     "text": [
      "3\n"
     ]
    }
   ],
   "source": [
    "run_with_args(add_args, 1, 2)"
   ]
  },
  {
   "cell_type": "code",
   "execution_count": 93,
   "metadata": {},
   "outputs": [],
   "source": [
    "def run_with_args_new(func, *args):\n",
    "    return sum (args)"
   ]
  },
  {
   "cell_type": "code",
   "execution_count": 94,
   "metadata": {},
   "outputs": [
    {
     "data": {
      "text/plain": [
       "55"
      ]
     },
     "execution_count": 94,
     "metadata": {},
     "output_type": "execute_result"
    }
   ],
   "source": [
    "run_with_args_new(add_args, 1,2,3,4,5,6,7,8,9,10)"
   ]
  },
  {
   "cell_type": "code",
   "execution_count": 95,
   "metadata": {},
   "outputs": [],
   "source": [
    "def cowsay(saying):\n",
    "    def inner(quote):\n",
    "        return \"Cowsay: '%s'\" % quote\n",
    "    return inner(saying)"
   ]
  },
  {
   "cell_type": "code",
   "execution_count": 96,
   "metadata": {},
   "outputs": [
    {
     "data": {
      "text/plain": [
       "\"Cowsay: 'Yes'\""
      ]
     },
     "execution_count": 96,
     "metadata": {},
     "output_type": "execute_result"
    }
   ],
   "source": [
    "cowsay('Yes')"
   ]
  },
  {
   "cell_type": "code",
   "execution_count": 97,
   "metadata": {},
   "outputs": [],
   "source": [
    "def cowsay(saying):\n",
    "    def inner():\n",
    "        return \"Cowsay: '%s'\" % saying\n",
    "    return inner"
   ]
  },
  {
   "cell_type": "code",
   "execution_count": 98,
   "metadata": {},
   "outputs": [],
   "source": [
    "a = cowsay('Yes')"
   ]
  },
  {
   "cell_type": "code",
   "execution_count": 99,
   "metadata": {},
   "outputs": [
    {
     "data": {
      "text/plain": [
       "\"Cowsay: 'Yes'\""
      ]
     },
     "execution_count": 99,
     "metadata": {},
     "output_type": "execute_result"
    }
   ],
   "source": [
    "a()"
   ]
  },
  {
   "cell_type": "code",
   "execution_count": 104,
   "metadata": {},
   "outputs": [],
   "source": [
    "def gen_power(base):\n",
    "    def power():\n",
    "        return base\n",
    "    return power"
   ]
  },
  {
   "cell_type": "code",
   "execution_count": 105,
   "metadata": {},
   "outputs": [],
   "source": [
    "power2 = gen_power(10)"
   ]
  },
  {
   "cell_type": "code",
   "execution_count": 106,
   "metadata": {},
   "outputs": [
    {
     "data": {
      "text/plain": [
       "10"
      ]
     },
     "execution_count": 106,
     "metadata": {},
     "output_type": "execute_result"
    }
   ],
   "source": [
    "power2()"
   ]
  },
  {
   "cell_type": "code",
   "execution_count": 107,
   "metadata": {},
   "outputs": [],
   "source": [
    "def gen_power(base):\n",
    "    def power(exp):\n",
    "        return base + exp\n",
    "    return power"
   ]
  },
  {
   "cell_type": "code",
   "execution_count": 108,
   "metadata": {},
   "outputs": [],
   "source": [
    "power2 = gen_power(10)\n",
    "power3 = gen_power(20)"
   ]
  },
  {
   "cell_type": "code",
   "execution_count": 109,
   "metadata": {},
   "outputs": [
    {
     "data": {
      "text/plain": [
       "13"
      ]
     },
     "execution_count": 109,
     "metadata": {},
     "output_type": "execute_result"
    }
   ],
   "source": [
    "power2(3)"
   ]
  },
  {
   "cell_type": "code",
   "execution_count": 110,
   "metadata": {},
   "outputs": [
    {
     "data": {
      "text/plain": [
       "22"
      ]
     },
     "execution_count": 110,
     "metadata": {},
     "output_type": "execute_result"
    }
   ],
   "source": [
    "power3(2)"
   ]
  },
  {
   "cell_type": "code",
   "execution_count": 111,
   "metadata": {},
   "outputs": [],
   "source": [
    "def edit_story(words, func):\n",
    "    for word in words:\n",
    "        print(func(word))\n",
    "        "
   ]
  },
  {
   "cell_type": "code",
   "execution_count": 113,
   "metadata": {},
   "outputs": [],
   "source": [
    "A= ['hello', 'hi', 'hey', 'oops']"
   ]
  },
  {
   "cell_type": "code",
   "execution_count": 114,
   "metadata": {},
   "outputs": [],
   "source": [
    "def cap(word):\n",
    "    return word.capitalize() + '!'"
   ]
  },
  {
   "cell_type": "code",
   "execution_count": 115,
   "metadata": {},
   "outputs": [
    {
     "name": "stdout",
     "output_type": "stream",
     "text": [
      "Hello!\n",
      "Hi!\n",
      "Hey!\n",
      "Oops!\n"
     ]
    }
   ],
   "source": [
    "edit_story(A, cap)"
   ]
  },
  {
   "cell_type": "code",
   "execution_count": 116,
   "metadata": {},
   "outputs": [],
   "source": [
    "def document_it(func):\n",
    "    def new_function(*args, **kwargs):\n",
    "        print('執行行函式',func.__name__)\n",
    "        print('參數位置', args)\n",
    "        print('關鍵字參參數', kwargs)\n",
    "        result = func(*args, **kwargs)\n",
    "        print('結果:',result)\n",
    "        return result\n",
    "    return new_function"
   ]
  },
  {
   "cell_type": "code",
   "execution_count": 117,
   "metadata": {},
   "outputs": [
    {
     "data": {
      "text/plain": [
       "8"
      ]
     },
     "execution_count": 117,
     "metadata": {},
     "output_type": "execute_result"
    }
   ],
   "source": [
    "def add_ints(a, b):\n",
    "    return a + b\n",
    "add_ints(3, 5)"
   ]
  },
  {
   "cell_type": "code",
   "execution_count": 119,
   "metadata": {},
   "outputs": [],
   "source": [
    "@document_it\n",
    "def add_ints(a, b):\n",
    "    return a + b"
   ]
  },
  {
   "cell_type": "code",
   "execution_count": 120,
   "metadata": {},
   "outputs": [
    {
     "name": "stdout",
     "output_type": "stream",
     "text": [
      "執行行函式 add_ints\n",
      "參數位置 (3, 5)\n",
      "關鍵字參參數 {}\n",
      "結果: 8\n"
     ]
    },
    {
     "data": {
      "text/plain": [
       "8"
      ]
     },
     "execution_count": 120,
     "metadata": {},
     "output_type": "execute_result"
    }
   ],
   "source": [
    "add_ints(3, 5)"
   ]
  },
  {
   "cell_type": "code",
   "execution_count": 121,
   "metadata": {},
   "outputs": [],
   "source": [
    "a ='pig'"
   ]
  },
  {
   "cell_type": "code",
   "execution_count": 122,
   "metadata": {},
   "outputs": [],
   "source": [
    "def print_global():\n",
    "    print('全域變數', a)"
   ]
  },
  {
   "cell_type": "code",
   "execution_count": 123,
   "metadata": {},
   "outputs": [
    {
     "name": "stdout",
     "output_type": "stream",
     "text": [
      "全域變數 pig\n"
     ]
    }
   ],
   "source": [
    "print_global()"
   ]
  },
  {
   "cell_type": "code",
   "execution_count": 124,
   "metadata": {},
   "outputs": [],
   "source": [
    "def s():\n",
    "    print(45)"
   ]
  },
  {
   "cell_type": "code",
   "execution_count": 125,
   "metadata": {},
   "outputs": [
    {
     "name": "stdout",
     "output_type": "stream",
     "text": [
      "45\n"
     ]
    }
   ],
   "source": [
    "xx = s()"
   ]
  },
  {
   "cell_type": "code",
   "execution_count": 126,
   "metadata": {},
   "outputs": [
    {
     "name": "stdout",
     "output_type": "stream",
     "text": [
      "None\n"
     ]
    }
   ],
   "source": [
    "print(xx)"
   ]
  },
  {
   "cell_type": "code",
   "execution_count": 129,
   "metadata": {},
   "outputs": [],
   "source": [
    "def change_local():\n",
    "    a = 'dog'\n",
    "    print(a)"
   ]
  },
  {
   "cell_type": "code",
   "execution_count": 130,
   "metadata": {},
   "outputs": [
    {
     "name": "stdout",
     "output_type": "stream",
     "text": [
      "dog\n"
     ]
    }
   ],
   "source": [
    "change_local()"
   ]
  },
  {
   "cell_type": "code",
   "execution_count": 131,
   "metadata": {},
   "outputs": [
    {
     "data": {
      "text/plain": [
       "{'A': ['hello', 'hi', 'hey', 'oops'],\n",
       " 'In': ['',\n",
       "  'days = [\"星期一\", \"星期二\", \"星期三\", \"星期四\", \"星期五\"]\\nmovies = [\\'魔戒\\', \\'葉問\\', \\'小王子\\', \\'007\\', \\'高年級實習生\\']\\ndrinks = [\"紅茶\", \"奶茶\", \"可樂\", \"烏龍茶\", \"高山茶\"]\\nfor days, movies, drinks in zip(days, movies, drinks):\\n    print(days, \"看\", movies, \"喝\", drinks)\\n\\n星期一 看 魔戒 喝 紅茶\\n星期二 看 葉問 喝 奶茶\\n星期三 看 小王子 喝 可樂\\n星期四 看 007 喝 烏龍茶\\n星期五 看 高年年級實習生 喝 高山茶',\n",
       "  'days = [\"星期一\", \"星期二\", \"星期三\", \"星期四\", \"星期五\"]\\nmovies = [\\'魔戒\\', \\'葉問\\', \\'小王子\\', \\'007\\', \\'高年級實習生\\']\\ndrinks = [\"紅茶\", \"奶茶\", \"可樂\", \"烏龍茶\", \"高山茶\"]\\nfor days, movies, drinks in zip(days, movies, drinks):\\n    print(days, \"看\", movies, \"喝\", drinks)\\n\\n#星期一 看 魔戒 喝 紅茶\\n#星期二 看 葉問 喝 奶茶\\n#星期三 看 小王子 喝 可樂\\n#星期四 看 007 喝 烏龍茶\\n#星期五 看 高年年級實習生 喝 高山茶',\n",
       "  'days = [\"星期一\", \"星期二\", \"星期三\", \"星期四\", \"星期五\"]\\n    actions = [\\'猴子穿新衣\\', \\'猴子肚子餓\\', \\'猴子去爬山\\', \\'猴子逛夜市\\',\\n\\'猴子去跳舞\\']\\n    list(zip(days, actions))\\n[(\\'星期一\\', \\'猴子穿新衣\\'), (\\'星期二\\', \\'猴子肚子餓\\'), (\\'星期三\\', \\'猴子去爬山\\'),\\n(\\'星期四\\', \\'猴子逛夜市\\'), (\\'星期五\\', \\'猴子去跳舞\\')]',\n",
       "  'days = [\"星期一\", \"星期二\", \"星期三\", \"星期四\", \"星期五\"]\\n    actions = [\\'猴子穿新衣\\', \\'猴子肚子餓\\', \\'猴子去爬山\\', \\'猴子逛夜市\\',\\'猴子去跳舞\\']\\n    list(zip(days, actions))\\n[(\\'星期一\\', \\'猴子穿新衣\\'), (\\'星期二\\', \\'猴子肚子餓\\'), (\\'星期三\\', \\'猴子去爬山\\'),\\n(\\'星期四\\', \\'猴子逛夜市\\'), (\\'星期五\\', \\'猴子去跳舞\\')]',\n",
       "  'days = [\"星期一\", \"星期二\", \"星期三\", \"星期四\", \"星期五\"]\\n    actions = [\\'猴子穿新衣\\', \\'猴子肚子餓\\', \\'猴子去爬山\\', \\'猴子逛夜市\\',\\'猴子去跳舞\\']\\n    list(zip(days, actions))',\n",
       "  'days = [\"星期一\", \"星期二\", \"星期三\", \"星期四\", \"星期五\"]\\n    actions = [\\'猴子穿新衣\\', \\'猴子肚子餓\\', \\'猴子去爬山\\', \\'猴子逛夜市\\',\\'猴子去跳舞\\']\\n    list(zip(days, actions))',\n",
       "  'days = [\"星期一\", \"星期二\", \"星期三\", \"星期四\", \"星期五\"]\\nactions = [\\'猴子穿新衣\\', \\'猴子肚子餓\\', \\'猴子去爬山\\', \\'猴子逛夜市\\',\\'猴子去跳舞\\']\\nlist(zip(days, actions))',\n",
       "  'english = \"book\", \"apple\", \"computer\"',\n",
       "  'english = \"book\", \"apple\", \"computer\"\\nchinese = \"書\", \"蘋果\", \"電腦\"\\nlist(zip(english, chinese))',\n",
       "  'type(chinese)',\n",
       "  'list(zip(english,chinese))',\n",
       "  'for x in range(1,10):\\n    print(x)',\n",
       "  'list(range(0,10))',\n",
       "  'list(range(0,10.2))',\n",
       "  'list(range(1,10.2))',\n",
       "  'list(range(1,10,2))',\n",
       "  'list(range[0,10])',\n",
       "  'list(range(0,10))',\n",
       "  'number_list = list(range(1,6))',\n",
       "  'number_list',\n",
       "  'number_list = []\\nnumber_list.append(1)\\nnumber_list.append(2)\\nnumber_list.append(3)\\nnumber_list.append(4)\\nnumber_list.append(5)\\nnumber_list',\n",
       "  'number_list = []\\nfor n in range(1,6):\\nnumber_list.append(n)',\n",
       "  'number_list = []\\nfor n in range(1,6):\\n    number_list.append(n)',\n",
       "  'number_list',\n",
       "  'number_list = [for n in range(1,6)]',\n",
       "  'number_list = [n for n in range(1,6)]',\n",
       "  'number_list',\n",
       "  'number_list = [n-1 for n in range(1,6)]',\n",
       "  'number_list',\n",
       "  'number_list = [n-2 for n in range(1,6)]',\n",
       "  'number_list',\n",
       "  'a_list = []\\n    for number in range(1,6):\\n    if number % 2 == 1:\\n    a_list.append(number)',\n",
       "  'a_list = []\\nfor number in range(1,6):\\n    if number % 2 == 1:\\n    a_list.append(number)',\n",
       "  'a_list = []\\nfor number in range(1,6):\\n    if number % 2 == 1:\\na_list.append(number)',\n",
       "  '[number for number in range(1,6) if number % 2 == 1]',\n",
       "  'a_list = []\\nfor number in range(1,6):\\n    if number % 2 == 1:\\n    a_list.append(number)',\n",
       "  'a_list = []\\nfor number in range(1,6):\\n    if number % 2 == 1:\\n        a_list.append(number)',\n",
       "  'a_list = []\\nfor number in range(1,6):\\n    if number % 2 == 1:\\n        a_list.append(number)',\n",
       "  'a_list.append',\n",
       "  'a_list',\n",
       "  'row = range(1,10)\\ncols = range(1,10)\\nfor row in rows:\\n    for col in cols:\\n        print(row,col)',\n",
       "  'row = range(1,10)\\ncols = range(1,10)\\nfor row in rows:\\n    for col in cols:\\n        print(row, col)',\n",
       "  \"cells = [(row, '*', col, '=', row*col) for row in range(1,10) for col in\\nrange(1,10)]\\n    for cell in cells:\\n        print(cell)\",\n",
       "  'rows = range(1,10)\\ncols = range(1,10)\\nfor row in rows:\\n    for col in cols:\\n        print(row, col)',\n",
       "  \"for row in range(1,10):\\n    for col in range(1,10):\\n        print(row, '*', col, '=', row*col)\",\n",
       "  \"cells = [(row, '*', col, '=', row*col) for row in range(1,10) for col in range(1,10)]\\n    for cell in cells:\\n        print(cell)\",\n",
       "  \"cells = [(row, '*', col, '=', row*col) for row in range(1,10) for col in range(1,10)]\",\n",
       "  'for cell in cells:\\n    print(cell)',\n",
       "  \"print (\\n    '\\\\n'.join(\\n    ['\\\\t'.join(\\n    ['%d*%d=%d' % (j,i,i*j) for i in range(1,10)]\\n    ) for j in range(1,10)]\\n    )\\n    )\",\n",
       "  \"print (\\n    '\\\\n'.join(\\n        ['\\\\t'.join(\\n            ['%d*%d=%d' % (j,i,i*j) for i in range(1,10)]\\n        ) for j in range(1,10)]\\n        )\\n    )\",\n",
       "  \"print (\\n    '\\\\n'.join(\\n        ['\\\\t'.join(\\n            ['%d*%d=%d' % (j,i,i*j) for i in range(1,10)]\\n        ) for j in range(1,10)]\\n    )\\n)\",\n",
       "  'def do_nothing():\\n    pass',\n",
       "  'do_nothing',\n",
       "  'do_nothing()',\n",
       "  'def add_args(arg1, rag2):\\n    print(rag1 + rag2)',\n",
       "  'def add_args(arg1, rag2):\\n    print(rag1 + rag2)',\n",
       "  'add_args(1, 2)',\n",
       "  'def add_args(arg1, rag2):\\n    print(rag1 + rag2)',\n",
       "  'add_args(1, 2)',\n",
       "  'def add_args(rag1, rag2):\\n    print(rag1 + rag2)',\n",
       "  'add_args(1, 2)',\n",
       "  'def iron_man_color(x):\\n    if iron_man_color == \"紅色\":\\n        return(\"鋼鐵人盔甲是紅色的\")\\n    elif iron_man_color == \"綠色\":\\n        return(\"鋼鐵人其實也可以參考浩克的顏色\")\\n    elif iron_man_color == \"藍色\":\\n        return(\"鋼鐵人變成藍色小精靈也不錯\")\\n    else:\\n        print(\"好像沒有\",iron_man_color)',\n",
       "  'iron_man_color(紅色)',\n",
       "  \"iron_man_color('紅色')\",\n",
       "  'iron_man_color(\"紅色)',\n",
       "  'iron_man_color(\"紅色\")',\n",
       "  'def iron_man_color(x):\\n    if iron_man_color == \"紅色\":\\n        return(\"鋼鐵人盔甲是紅色的\")\\n    elif iron_man_color == \"綠色\":\\n        return(\"鋼鐵人其實也可以參考浩克的顏色\")\\n    elif iron_man_color == \"藍色\":\\n        return(\"鋼鐵人變成藍色小精靈也不錯\")\\n    else:\\n        print(\"好像沒有\",x)',\n",
       "  'iron_man_color(\"紅色\")',\n",
       "  'iron_man_color(\"綠色\")',\n",
       "  'def answer():\\n    print(42)',\n",
       "  'answer()',\n",
       "  'x = answer()',\n",
       "  'print (x)',\n",
       "  'print(x)',\n",
       "  'def run_with_args(func, arg1,arg2):\\n    func(arg1, arg2)',\n",
       "  'run_with_args(add_args, 1, 2)',\n",
       "  'def add_args(rag1, rag2):\\n    print(rag1 + rag2)',\n",
       "  'def run_with_args_new(func, *arg1):\\n    return func (*args)',\n",
       "  'run_with_args_new(add_args, 1,2,3,4,5,6,7,8,9,10)',\n",
       "  'def run_with_args_new(func, *arg1):\\n    return sum (*args)',\n",
       "  'run_with_args_new(add_args, 1,2,3,4,5,6,7,8,9,10)',\n",
       "  'def run_with_args_new(func, *arg1):\\n    return sum (*args)',\n",
       "  'run_with_args_new(add_args, 1,2,3,4,5,6,7,8,9,10)',\n",
       "  'def run_with_args_new(func, *arg1):\\n    return sum (args)',\n",
       "  'run_with_args_new(add_args, 1,2,3,4,5,6,7,8,9,10)',\n",
       "  'def run_with_args_new(func, *args):\\n    return sum (args)',\n",
       "  'run_with_args_new(add_args, 1,2,3,4,5,6,7,8,9,10)',\n",
       "  'def add_args(rag1, rag2):\\n    print(rag1 * rag2)',\n",
       "  'run_with_args_new(add_args, 1,2,3,4,5,6,7,8,9,10)',\n",
       "  'def run_with_args_new(func, *args):\\n    return sum (args)',\n",
       "  'run_with_args_new(add_args, 1,2,3,4,5,6,7,8,9,10)',\n",
       "  'def add_args(rag1, rag2):\\n    print(rag1 + rag2)',\n",
       "  'def run_with_args_new(func, *args):\\n    return sum (args)',\n",
       "  'run_with_args_new(add_args, 1,2,3,4,5,6,7,8,9,10)',\n",
       "  'def cowsay(saying):\\n    def inner(quote):\\n        return \"Cowsay: \\'%s\\'\" % quote\\n    return inner(saying)',\n",
       "  \"cowsay('Yes')\",\n",
       "  'def cowsay(saying):\\n    def inner():\\n        return \"Cowsay: \\'%s\\'\" % saying\\n    return inner',\n",
       "  \"a = cowsay('Yes')\",\n",
       "  'a()',\n",
       "  'def gen_power(base):\\n    def power(exp):\\n        return base + exp\\n    return power',\n",
       "  'power2 = gen_power(10)',\n",
       "  'power2',\n",
       "  'power2()',\n",
       "  'def gen_power(base):\\n    def power():\\n        return base\\n    return power',\n",
       "  'power2 = gen_power(10)',\n",
       "  'power2()',\n",
       "  'def gen_power(base):\\n    def power(exp):\\n        return base + exp\\n    return power',\n",
       "  'power2 = gen_power(10)\\npower3 = gen_power(20)',\n",
       "  'power2(3)',\n",
       "  'power3(2)',\n",
       "  'def edit_story(words, func):\\n    for word in words:\\n        print(func(word))\\n        ',\n",
       "  \"A= ['hello', 'hi', 'hey', ‘oops']\",\n",
       "  \"A= ['hello', 'hi', 'hey', 'oops']\",\n",
       "  \"def cap(word):\\n    return word.capitalize() + '!'\",\n",
       "  'edit_story(A, cap)',\n",
       "  \"def document_it(func):\\n    def new_function(*args, **kwargs):\\n        print('執行行函式',func.__name__)\\n        print('參數位置', args)\\n        print('關鍵字參參數', kwargs)\\n        result = func(*args, **kwargs)\\n        print('結果:',result)\\n        return result\\n    return new_function\",\n",
       "  'def add_ints(a, b):\\n    return a + b\\nadd_ints(3, 5)',\n",
       "  '@document_it',\n",
       "  '@document_it\\ndef add_ints(a, b):\\n    return a + b',\n",
       "  'add_ints(3, 5)',\n",
       "  \"a ='pig'\",\n",
       "  \"def print_global():\\n    print('全域變數', a)\",\n",
       "  'print_global()',\n",
       "  'def s():\\n    print(45)',\n",
       "  'xx = s()',\n",
       "  'print(xx)',\n",
       "  \"def change_local():\\n    a = 'dog'\\n    paint(a)\",\n",
       "  'change_local()',\n",
       "  \"def change_local():\\n    a = 'dog'\\n    print(a)\",\n",
       "  'change_local()',\n",
       "  'globals()'],\n",
       " 'Out': {7: [('星期一', '猴子穿新衣'),\n",
       "   ('星期二', '猴子肚子餓'),\n",
       "   ('星期三', '猴子去爬山'),\n",
       "   ('星期四', '猴子逛夜市'),\n",
       "   ('星期五', '猴子去跳舞')],\n",
       "  9: [('book', '書'), ('apple', '蘋果'), ('computer', '電腦')],\n",
       "  10: tuple,\n",
       "  11: [('book', '書'), ('apple', '蘋果'), ('computer', '電腦')],\n",
       "  13: [0, 1, 2, 3, 4, 5, 6, 7, 8, 9],\n",
       "  16: [1, 3, 5, 7, 9],\n",
       "  18: [0, 1, 2, 3, 4, 5, 6, 7, 8, 9],\n",
       "  20: [1, 2, 3, 4, 5],\n",
       "  21: [1, 2, 3, 4, 5],\n",
       "  24: [1, 2, 3, 4, 5],\n",
       "  27: [1, 2, 3, 4, 5],\n",
       "  29: [0, 1, 2, 3, 4],\n",
       "  31: [-1, 0, 1, 2, 3],\n",
       "  35: [1, 3, 5],\n",
       "  39: <function list.append>,\n",
       "  40: [1, 3, 5],\n",
       "  53: <function __main__.do_nothing>,\n",
       "  87: 55,\n",
       "  89: 55,\n",
       "  91: 55,\n",
       "  94: 55,\n",
       "  96: \"Cowsay: 'Yes'\",\n",
       "  99: \"Cowsay: 'Yes'\",\n",
       "  102: <function __main__.gen_power.<locals>.power>,\n",
       "  106: 10,\n",
       "  109: 13,\n",
       "  110: 22,\n",
       "  117: 8,\n",
       "  120: 8},\n",
       " '_': 8,\n",
       " '_10': tuple,\n",
       " '_102': <function __main__.gen_power.<locals>.power>,\n",
       " '_106': 10,\n",
       " '_109': 13,\n",
       " '_11': [('book', '書'), ('apple', '蘋果'), ('computer', '電腦')],\n",
       " '_110': 22,\n",
       " '_117': 8,\n",
       " '_120': 8,\n",
       " '_13': [0, 1, 2, 3, 4, 5, 6, 7, 8, 9],\n",
       " '_16': [1, 3, 5, 7, 9],\n",
       " '_18': [0, 1, 2, 3, 4, 5, 6, 7, 8, 9],\n",
       " '_20': [1, 2, 3, 4, 5],\n",
       " '_21': [1, 2, 3, 4, 5],\n",
       " '_24': [1, 2, 3, 4, 5],\n",
       " '_27': [1, 2, 3, 4, 5],\n",
       " '_29': [0, 1, 2, 3, 4],\n",
       " '_31': [-1, 0, 1, 2, 3],\n",
       " '_35': [1, 3, 5],\n",
       " '_39': <function list.append>,\n",
       " '_40': [1, 3, 5],\n",
       " '_53': <function __main__.do_nothing>,\n",
       " '_7': [('星期一', '猴子穿新衣'),\n",
       "  ('星期二', '猴子肚子餓'),\n",
       "  ('星期三', '猴子去爬山'),\n",
       "  ('星期四', '猴子逛夜市'),\n",
       "  ('星期五', '猴子去跳舞')],\n",
       " '_87': 55,\n",
       " '_89': 55,\n",
       " '_9': [('book', '書'), ('apple', '蘋果'), ('computer', '電腦')],\n",
       " '_91': 55,\n",
       " '_94': 55,\n",
       " '_96': \"Cowsay: 'Yes'\",\n",
       " '_99': \"Cowsay: 'Yes'\",\n",
       " '__': 8,\n",
       " '___': 22,\n",
       " '__builtin__': <module 'builtins' (built-in)>,\n",
       " '__builtins__': <module 'builtins' (built-in)>,\n",
       " '__doc__': 'Automatically created module for IPython interactive environment',\n",
       " '__loader__': None,\n",
       " '__name__': '__main__',\n",
       " '__package__': None,\n",
       " '__spec__': None,\n",
       " '_dh': ['C:\\\\Users\\\\user\\\\Documents\\\\GitHub\\\\test'],\n",
       " '_i': 'change_local()',\n",
       " '_i1': 'days = [\"星期一\", \"星期二\", \"星期三\", \"星期四\", \"星期五\"]\\nmovies = [\\'魔戒\\', \\'葉問\\', \\'小王子\\', \\'007\\', \\'高年級實習生\\']\\ndrinks = [\"紅茶\", \"奶茶\", \"可樂\", \"烏龍茶\", \"高山茶\"]\\nfor days, movies, drinks in zip(days, movies, drinks):\\n    print(days, \"看\", movies, \"喝\", drinks)\\n\\n星期一 看 魔戒 喝 紅茶\\n星期二 看 葉問 喝 奶茶\\n星期三 看 小王子 喝 可樂\\n星期四 看 007 喝 烏龍茶\\n星期五 看 高年年級實習生 喝 高山茶',\n",
       " '_i10': 'type(chinese)',\n",
       " '_i100': 'def gen_power(base):\\n    def power(exp):\\n        return base + exp\\n    return power',\n",
       " '_i101': 'power2 = gen_power(10)',\n",
       " '_i102': 'power2',\n",
       " '_i103': 'power2()',\n",
       " '_i104': 'def gen_power(base):\\n    def power():\\n        return base\\n    return power',\n",
       " '_i105': 'power2 = gen_power(10)',\n",
       " '_i106': 'power2()',\n",
       " '_i107': 'def gen_power(base):\\n    def power(exp):\\n        return base + exp\\n    return power',\n",
       " '_i108': 'power2 = gen_power(10)\\npower3 = gen_power(20)',\n",
       " '_i109': 'power2(3)',\n",
       " '_i11': 'list(zip(english,chinese))',\n",
       " '_i110': 'power3(2)',\n",
       " '_i111': 'def edit_story(words, func):\\n    for word in words:\\n        print(func(word))\\n        ',\n",
       " '_i112': \"A= ['hello', 'hi', 'hey', ‘oops']\",\n",
       " '_i113': \"A= ['hello', 'hi', 'hey', 'oops']\",\n",
       " '_i114': \"def cap(word):\\n    return word.capitalize() + '!'\",\n",
       " '_i115': 'edit_story(A, cap)',\n",
       " '_i116': \"def document_it(func):\\n    def new_function(*args, **kwargs):\\n        print('執行行函式',func.__name__)\\n        print('參數位置', args)\\n        print('關鍵字參參數', kwargs)\\n        result = func(*args, **kwargs)\\n        print('結果:',result)\\n        return result\\n    return new_function\",\n",
       " '_i117': 'def add_ints(a, b):\\n    return a + b\\nadd_ints(3, 5)',\n",
       " '_i118': '@document_it',\n",
       " '_i119': '@document_it\\ndef add_ints(a, b):\\n    return a + b',\n",
       " '_i12': 'for x in range(1,10):\\n    print(x)',\n",
       " '_i120': 'add_ints(3, 5)',\n",
       " '_i121': \"a ='pig'\",\n",
       " '_i122': \"def print_global():\\n    print('全域變數', a)\",\n",
       " '_i123': 'print_global()',\n",
       " '_i124': 'def s():\\n    print(45)',\n",
       " '_i125': 'xx = s()',\n",
       " '_i126': 'print(xx)',\n",
       " '_i127': \"def change_local():\\n    a = 'dog'\\n    paint(a)\",\n",
       " '_i128': 'change_local()',\n",
       " '_i129': \"def change_local():\\n    a = 'dog'\\n    print(a)\",\n",
       " '_i13': 'list(range(0,10))',\n",
       " '_i130': 'change_local()',\n",
       " '_i131': 'globals()',\n",
       " '_i14': 'list(range(0,10.2))',\n",
       " '_i15': 'list(range(1,10.2))',\n",
       " '_i16': 'list(range(1,10,2))',\n",
       " '_i17': 'list(range[0,10])',\n",
       " '_i18': 'list(range(0,10))',\n",
       " '_i19': 'number_list = list(range(1,6))',\n",
       " '_i2': 'days = [\"星期一\", \"星期二\", \"星期三\", \"星期四\", \"星期五\"]\\nmovies = [\\'魔戒\\', \\'葉問\\', \\'小王子\\', \\'007\\', \\'高年級實習生\\']\\ndrinks = [\"紅茶\", \"奶茶\", \"可樂\", \"烏龍茶\", \"高山茶\"]\\nfor days, movies, drinks in zip(days, movies, drinks):\\n    print(days, \"看\", movies, \"喝\", drinks)\\n\\n#星期一 看 魔戒 喝 紅茶\\n#星期二 看 葉問 喝 奶茶\\n#星期三 看 小王子 喝 可樂\\n#星期四 看 007 喝 烏龍茶\\n#星期五 看 高年年級實習生 喝 高山茶',\n",
       " '_i20': 'number_list',\n",
       " '_i21': 'number_list = []\\nnumber_list.append(1)\\nnumber_list.append(2)\\nnumber_list.append(3)\\nnumber_list.append(4)\\nnumber_list.append(5)\\nnumber_list',\n",
       " '_i22': 'number_list = []\\nfor n in range(1,6):\\nnumber_list.append(n)',\n",
       " '_i23': 'number_list = []\\nfor n in range(1,6):\\n    number_list.append(n)',\n",
       " '_i24': 'number_list',\n",
       " '_i25': 'number_list = [for n in range(1,6)]',\n",
       " '_i26': 'number_list = [n for n in range(1,6)]',\n",
       " '_i27': 'number_list',\n",
       " '_i28': 'number_list = [n-1 for n in range(1,6)]',\n",
       " '_i29': 'number_list',\n",
       " '_i3': 'days = [\"星期一\", \"星期二\", \"星期三\", \"星期四\", \"星期五\"]\\n    actions = [\\'猴子穿新衣\\', \\'猴子肚子餓\\', \\'猴子去爬山\\', \\'猴子逛夜市\\',\\n\\'猴子去跳舞\\']\\n    list(zip(days, actions))\\n[(\\'星期一\\', \\'猴子穿新衣\\'), (\\'星期二\\', \\'猴子肚子餓\\'), (\\'星期三\\', \\'猴子去爬山\\'),\\n(\\'星期四\\', \\'猴子逛夜市\\'), (\\'星期五\\', \\'猴子去跳舞\\')]',\n",
       " '_i30': 'number_list = [n-2 for n in range(1,6)]',\n",
       " '_i31': 'number_list',\n",
       " '_i32': 'a_list = []\\n    for number in range(1,6):\\n    if number % 2 == 1:\\n    a_list.append(number)',\n",
       " '_i33': 'a_list = []\\nfor number in range(1,6):\\n    if number % 2 == 1:\\n    a_list.append(number)',\n",
       " '_i34': 'a_list = []\\nfor number in range(1,6):\\n    if number % 2 == 1:\\na_list.append(number)',\n",
       " '_i35': '[number for number in range(1,6) if number % 2 == 1]',\n",
       " '_i36': 'a_list = []\\nfor number in range(1,6):\\n    if number % 2 == 1:\\n    a_list.append(number)',\n",
       " '_i37': 'a_list = []\\nfor number in range(1,6):\\n    if number % 2 == 1:\\n        a_list.append(number)',\n",
       " '_i38': 'a_list = []\\nfor number in range(1,6):\\n    if number % 2 == 1:\\n        a_list.append(number)',\n",
       " '_i39': 'a_list.append',\n",
       " '_i4': 'days = [\"星期一\", \"星期二\", \"星期三\", \"星期四\", \"星期五\"]\\n    actions = [\\'猴子穿新衣\\', \\'猴子肚子餓\\', \\'猴子去爬山\\', \\'猴子逛夜市\\',\\'猴子去跳舞\\']\\n    list(zip(days, actions))\\n[(\\'星期一\\', \\'猴子穿新衣\\'), (\\'星期二\\', \\'猴子肚子餓\\'), (\\'星期三\\', \\'猴子去爬山\\'),\\n(\\'星期四\\', \\'猴子逛夜市\\'), (\\'星期五\\', \\'猴子去跳舞\\')]',\n",
       " '_i40': 'a_list',\n",
       " '_i41': 'row = range(1,10)\\ncols = range(1,10)\\nfor row in rows:\\n    for col in cols:\\n        print(row,col)',\n",
       " '_i42': 'row = range(1,10)\\ncols = range(1,10)\\nfor row in rows:\\n    for col in cols:\\n        print(row, col)',\n",
       " '_i43': \"cells = [(row, '*', col, '=', row*col) for row in range(1,10) for col in\\nrange(1,10)]\\n    for cell in cells:\\n        print(cell)\",\n",
       " '_i44': 'rows = range(1,10)\\ncols = range(1,10)\\nfor row in rows:\\n    for col in cols:\\n        print(row, col)',\n",
       " '_i45': \"for row in range(1,10):\\n    for col in range(1,10):\\n        print(row, '*', col, '=', row*col)\",\n",
       " '_i46': \"cells = [(row, '*', col, '=', row*col) for row in range(1,10) for col in range(1,10)]\\n    for cell in cells:\\n        print(cell)\",\n",
       " '_i47': \"cells = [(row, '*', col, '=', row*col) for row in range(1,10) for col in range(1,10)]\",\n",
       " '_i48': '    for cell in cells:\\n        print(cell)',\n",
       " '_i49': \"print (\\n    '\\\\n'.join(\\n    ['\\\\t'.join(\\n    ['%d*%d=%d' % (j,i,i*j) for i in range(1,10)]\\n    ) for j in range(1,10)]\\n    )\\n    )\",\n",
       " '_i5': 'days = [\"星期一\", \"星期二\", \"星期三\", \"星期四\", \"星期五\"]\\n    actions = [\\'猴子穿新衣\\', \\'猴子肚子餓\\', \\'猴子去爬山\\', \\'猴子逛夜市\\',\\'猴子去跳舞\\']\\n    list(zip(days, actions))',\n",
       " '_i50': \"print (\\n    '\\\\n'.join(\\n        ['\\\\t'.join(\\n            ['%d*%d=%d' % (j,i,i*j) for i in range(1,10)]\\n        ) for j in range(1,10)]\\n        )\\n    )\",\n",
       " '_i51': \"print (\\n    '\\\\n'.join(\\n        ['\\\\t'.join(\\n            ['%d*%d=%d' % (j,i,i*j) for i in range(1,10)]\\n        ) for j in range(1,10)]\\n    )\\n)\",\n",
       " '_i52': 'def do_nothing():\\n    pass',\n",
       " '_i53': 'do_nothing',\n",
       " '_i54': 'do_nothing()',\n",
       " '_i55': 'def add_args(arg1, rag2):\\n    print(rag1 + rag2)',\n",
       " '_i56': 'def add_args(arg1, rag2):\\n    print(rag1 + rag2)',\n",
       " '_i57': 'add_args(1, 2)',\n",
       " '_i58': 'def add_args(arg1, rag2):\\n    print(rag1 + rag2)',\n",
       " '_i59': 'add_args(1, 2)',\n",
       " '_i6': 'days = [\"星期一\", \"星期二\", \"星期三\", \"星期四\", \"星期五\"]\\n    actions = [\\'猴子穿新衣\\', \\'猴子肚子餓\\', \\'猴子去爬山\\', \\'猴子逛夜市\\',\\'猴子去跳舞\\']\\n    list(zip(days, actions))',\n",
       " '_i60': 'def add_args(rag1, rag2):\\n    print(rag1 + rag2)',\n",
       " '_i61': 'add_args(1, 2)',\n",
       " '_i62': 'def iron_man_color(x):\\n    if iron_man_color == \"紅色\":\\n        return(\"鋼鐵人盔甲是紅色的\")\\n    elif iron_man_color == \"綠色\":\\n        return(\"鋼鐵人其實也可以參考浩克的顏色\")\\n    elif iron_man_color == \"藍色\":\\n        return(\"鋼鐵人變成藍色小精靈也不錯\")\\n    else:\\n        print(\"好像沒有\",iron_man_color)',\n",
       " '_i63': 'iron_man_color(紅色)',\n",
       " '_i64': \"iron_man_color('紅色')\",\n",
       " '_i65': 'iron_man_color(\"紅色)',\n",
       " '_i66': 'iron_man_color(\"紅色\")',\n",
       " '_i67': 'def iron_man_color(x):\\n    if iron_man_color == \"紅色\":\\n        return(\"鋼鐵人盔甲是紅色的\")\\n    elif iron_man_color == \"綠色\":\\n        return(\"鋼鐵人其實也可以參考浩克的顏色\")\\n    elif iron_man_color == \"藍色\":\\n        return(\"鋼鐵人變成藍色小精靈也不錯\")\\n    else:\\n        print(\"好像沒有\",x)',\n",
       " '_i68': 'iron_man_color(\"紅色\")',\n",
       " '_i69': 'iron_man_color(\"綠色\")',\n",
       " '_i7': 'days = [\"星期一\", \"星期二\", \"星期三\", \"星期四\", \"星期五\"]\\nactions = [\\'猴子穿新衣\\', \\'猴子肚子餓\\', \\'猴子去爬山\\', \\'猴子逛夜市\\',\\'猴子去跳舞\\']\\nlist(zip(days, actions))',\n",
       " '_i70': 'def answer():\\n    print(42)',\n",
       " '_i71': 'answer()',\n",
       " '_i72': 'x = answer()',\n",
       " '_i73': 'print (x)',\n",
       " '_i74': 'print(x)',\n",
       " '_i75': 'def run_with_args(func, arg1,arg2):\\n    func(arg1, arg2)',\n",
       " '_i76': 'run_with_args(add_args, 1, 2)',\n",
       " '_i77': 'def add_args(rag1, rag2):\\n    print(rag1 + rag2)',\n",
       " '_i78': 'def run_with_args_new(func, *arg1):\\n    return func (*args)',\n",
       " '_i79': 'run_with_args_new(add_args, 1,2,3,4,5,6,7,8,9,10)',\n",
       " '_i8': 'english = \"book\", \"apple\", \"computer\"',\n",
       " '_i80': 'def run_with_args_new(func, *arg1):\\n    return sum (*args)',\n",
       " '_i81': 'run_with_args_new(add_args, 1,2,3,4,5,6,7,8,9,10)',\n",
       " '_i82': 'def run_with_args_new(func, *arg1):\\n    return sum (*args)',\n",
       " '_i83': 'run_with_args_new(add_args, 1,2,3,4,5,6,7,8,9,10)',\n",
       " '_i84': 'def run_with_args_new(func, *arg1):\\n    return sum (args)',\n",
       " '_i85': 'run_with_args_new(add_args, 1,2,3,4,5,6,7,8,9,10)',\n",
       " '_i86': 'def run_with_args_new(func, *args):\\n    return sum (args)',\n",
       " '_i87': 'run_with_args_new(add_args, 1,2,3,4,5,6,7,8,9,10)',\n",
       " '_i88': 'def add_args(rag1, rag2):\\n    print(rag1 * rag2)',\n",
       " '_i89': 'run_with_args_new(add_args, 1,2,3,4,5,6,7,8,9,10)',\n",
       " '_i9': 'english = \"book\", \"apple\", \"computer\"\\nchinese = \"書\", \"蘋果\", \"電腦\"\\nlist(zip(english, chinese))',\n",
       " '_i90': 'def run_with_args_new(func, *args):\\n    return sum (args)',\n",
       " '_i91': 'run_with_args_new(add_args, 1,2,3,4,5,6,7,8,9,10)',\n",
       " '_i92': 'def add_args(rag1, rag2):\\n    print(rag1 + rag2)',\n",
       " '_i93': 'def run_with_args_new(func, *args):\\n    return sum (args)',\n",
       " '_i94': 'run_with_args_new(add_args, 1,2,3,4,5,6,7,8,9,10)',\n",
       " '_i95': 'def cowsay(saying):\\n    def inner(quote):\\n        return \"Cowsay: \\'%s\\'\" % quote\\n    return inner(saying)',\n",
       " '_i96': \"cowsay('Yes')\",\n",
       " '_i97': 'def cowsay(saying):\\n    def inner():\\n        return \"Cowsay: \\'%s\\'\" % saying\\n    return inner',\n",
       " '_i98': \"a = cowsay('Yes')\",\n",
       " '_i99': 'a()',\n",
       " '_ih': ['',\n",
       "  'days = [\"星期一\", \"星期二\", \"星期三\", \"星期四\", \"星期五\"]\\nmovies = [\\'魔戒\\', \\'葉問\\', \\'小王子\\', \\'007\\', \\'高年級實習生\\']\\ndrinks = [\"紅茶\", \"奶茶\", \"可樂\", \"烏龍茶\", \"高山茶\"]\\nfor days, movies, drinks in zip(days, movies, drinks):\\n    print(days, \"看\", movies, \"喝\", drinks)\\n\\n星期一 看 魔戒 喝 紅茶\\n星期二 看 葉問 喝 奶茶\\n星期三 看 小王子 喝 可樂\\n星期四 看 007 喝 烏龍茶\\n星期五 看 高年年級實習生 喝 高山茶',\n",
       "  'days = [\"星期一\", \"星期二\", \"星期三\", \"星期四\", \"星期五\"]\\nmovies = [\\'魔戒\\', \\'葉問\\', \\'小王子\\', \\'007\\', \\'高年級實習生\\']\\ndrinks = [\"紅茶\", \"奶茶\", \"可樂\", \"烏龍茶\", \"高山茶\"]\\nfor days, movies, drinks in zip(days, movies, drinks):\\n    print(days, \"看\", movies, \"喝\", drinks)\\n\\n#星期一 看 魔戒 喝 紅茶\\n#星期二 看 葉問 喝 奶茶\\n#星期三 看 小王子 喝 可樂\\n#星期四 看 007 喝 烏龍茶\\n#星期五 看 高年年級實習生 喝 高山茶',\n",
       "  'days = [\"星期一\", \"星期二\", \"星期三\", \"星期四\", \"星期五\"]\\n    actions = [\\'猴子穿新衣\\', \\'猴子肚子餓\\', \\'猴子去爬山\\', \\'猴子逛夜市\\',\\n\\'猴子去跳舞\\']\\n    list(zip(days, actions))\\n[(\\'星期一\\', \\'猴子穿新衣\\'), (\\'星期二\\', \\'猴子肚子餓\\'), (\\'星期三\\', \\'猴子去爬山\\'),\\n(\\'星期四\\', \\'猴子逛夜市\\'), (\\'星期五\\', \\'猴子去跳舞\\')]',\n",
       "  'days = [\"星期一\", \"星期二\", \"星期三\", \"星期四\", \"星期五\"]\\n    actions = [\\'猴子穿新衣\\', \\'猴子肚子餓\\', \\'猴子去爬山\\', \\'猴子逛夜市\\',\\'猴子去跳舞\\']\\n    list(zip(days, actions))\\n[(\\'星期一\\', \\'猴子穿新衣\\'), (\\'星期二\\', \\'猴子肚子餓\\'), (\\'星期三\\', \\'猴子去爬山\\'),\\n(\\'星期四\\', \\'猴子逛夜市\\'), (\\'星期五\\', \\'猴子去跳舞\\')]',\n",
       "  'days = [\"星期一\", \"星期二\", \"星期三\", \"星期四\", \"星期五\"]\\n    actions = [\\'猴子穿新衣\\', \\'猴子肚子餓\\', \\'猴子去爬山\\', \\'猴子逛夜市\\',\\'猴子去跳舞\\']\\n    list(zip(days, actions))',\n",
       "  'days = [\"星期一\", \"星期二\", \"星期三\", \"星期四\", \"星期五\"]\\n    actions = [\\'猴子穿新衣\\', \\'猴子肚子餓\\', \\'猴子去爬山\\', \\'猴子逛夜市\\',\\'猴子去跳舞\\']\\n    list(zip(days, actions))',\n",
       "  'days = [\"星期一\", \"星期二\", \"星期三\", \"星期四\", \"星期五\"]\\nactions = [\\'猴子穿新衣\\', \\'猴子肚子餓\\', \\'猴子去爬山\\', \\'猴子逛夜市\\',\\'猴子去跳舞\\']\\nlist(zip(days, actions))',\n",
       "  'english = \"book\", \"apple\", \"computer\"',\n",
       "  'english = \"book\", \"apple\", \"computer\"\\nchinese = \"書\", \"蘋果\", \"電腦\"\\nlist(zip(english, chinese))',\n",
       "  'type(chinese)',\n",
       "  'list(zip(english,chinese))',\n",
       "  'for x in range(1,10):\\n    print(x)',\n",
       "  'list(range(0,10))',\n",
       "  'list(range(0,10.2))',\n",
       "  'list(range(1,10.2))',\n",
       "  'list(range(1,10,2))',\n",
       "  'list(range[0,10])',\n",
       "  'list(range(0,10))',\n",
       "  'number_list = list(range(1,6))',\n",
       "  'number_list',\n",
       "  'number_list = []\\nnumber_list.append(1)\\nnumber_list.append(2)\\nnumber_list.append(3)\\nnumber_list.append(4)\\nnumber_list.append(5)\\nnumber_list',\n",
       "  'number_list = []\\nfor n in range(1,6):\\nnumber_list.append(n)',\n",
       "  'number_list = []\\nfor n in range(1,6):\\n    number_list.append(n)',\n",
       "  'number_list',\n",
       "  'number_list = [for n in range(1,6)]',\n",
       "  'number_list = [n for n in range(1,6)]',\n",
       "  'number_list',\n",
       "  'number_list = [n-1 for n in range(1,6)]',\n",
       "  'number_list',\n",
       "  'number_list = [n-2 for n in range(1,6)]',\n",
       "  'number_list',\n",
       "  'a_list = []\\n    for number in range(1,6):\\n    if number % 2 == 1:\\n    a_list.append(number)',\n",
       "  'a_list = []\\nfor number in range(1,6):\\n    if number % 2 == 1:\\n    a_list.append(number)',\n",
       "  'a_list = []\\nfor number in range(1,6):\\n    if number % 2 == 1:\\na_list.append(number)',\n",
       "  '[number for number in range(1,6) if number % 2 == 1]',\n",
       "  'a_list = []\\nfor number in range(1,6):\\n    if number % 2 == 1:\\n    a_list.append(number)',\n",
       "  'a_list = []\\nfor number in range(1,6):\\n    if number % 2 == 1:\\n        a_list.append(number)',\n",
       "  'a_list = []\\nfor number in range(1,6):\\n    if number % 2 == 1:\\n        a_list.append(number)',\n",
       "  'a_list.append',\n",
       "  'a_list',\n",
       "  'row = range(1,10)\\ncols = range(1,10)\\nfor row in rows:\\n    for col in cols:\\n        print(row,col)',\n",
       "  'row = range(1,10)\\ncols = range(1,10)\\nfor row in rows:\\n    for col in cols:\\n        print(row, col)',\n",
       "  \"cells = [(row, '*', col, '=', row*col) for row in range(1,10) for col in\\nrange(1,10)]\\n    for cell in cells:\\n        print(cell)\",\n",
       "  'rows = range(1,10)\\ncols = range(1,10)\\nfor row in rows:\\n    for col in cols:\\n        print(row, col)',\n",
       "  \"for row in range(1,10):\\n    for col in range(1,10):\\n        print(row, '*', col, '=', row*col)\",\n",
       "  \"cells = [(row, '*', col, '=', row*col) for row in range(1,10) for col in range(1,10)]\\n    for cell in cells:\\n        print(cell)\",\n",
       "  \"cells = [(row, '*', col, '=', row*col) for row in range(1,10) for col in range(1,10)]\",\n",
       "  'for cell in cells:\\n    print(cell)',\n",
       "  \"print (\\n    '\\\\n'.join(\\n    ['\\\\t'.join(\\n    ['%d*%d=%d' % (j,i,i*j) for i in range(1,10)]\\n    ) for j in range(1,10)]\\n    )\\n    )\",\n",
       "  \"print (\\n    '\\\\n'.join(\\n        ['\\\\t'.join(\\n            ['%d*%d=%d' % (j,i,i*j) for i in range(1,10)]\\n        ) for j in range(1,10)]\\n        )\\n    )\",\n",
       "  \"print (\\n    '\\\\n'.join(\\n        ['\\\\t'.join(\\n            ['%d*%d=%d' % (j,i,i*j) for i in range(1,10)]\\n        ) for j in range(1,10)]\\n    )\\n)\",\n",
       "  'def do_nothing():\\n    pass',\n",
       "  'do_nothing',\n",
       "  'do_nothing()',\n",
       "  'def add_args(arg1, rag2):\\n    print(rag1 + rag2)',\n",
       "  'def add_args(arg1, rag2):\\n    print(rag1 + rag2)',\n",
       "  'add_args(1, 2)',\n",
       "  'def add_args(arg1, rag2):\\n    print(rag1 + rag2)',\n",
       "  'add_args(1, 2)',\n",
       "  'def add_args(rag1, rag2):\\n    print(rag1 + rag2)',\n",
       "  'add_args(1, 2)',\n",
       "  'def iron_man_color(x):\\n    if iron_man_color == \"紅色\":\\n        return(\"鋼鐵人盔甲是紅色的\")\\n    elif iron_man_color == \"綠色\":\\n        return(\"鋼鐵人其實也可以參考浩克的顏色\")\\n    elif iron_man_color == \"藍色\":\\n        return(\"鋼鐵人變成藍色小精靈也不錯\")\\n    else:\\n        print(\"好像沒有\",iron_man_color)',\n",
       "  'iron_man_color(紅色)',\n",
       "  \"iron_man_color('紅色')\",\n",
       "  'iron_man_color(\"紅色)',\n",
       "  'iron_man_color(\"紅色\")',\n",
       "  'def iron_man_color(x):\\n    if iron_man_color == \"紅色\":\\n        return(\"鋼鐵人盔甲是紅色的\")\\n    elif iron_man_color == \"綠色\":\\n        return(\"鋼鐵人其實也可以參考浩克的顏色\")\\n    elif iron_man_color == \"藍色\":\\n        return(\"鋼鐵人變成藍色小精靈也不錯\")\\n    else:\\n        print(\"好像沒有\",x)',\n",
       "  'iron_man_color(\"紅色\")',\n",
       "  'iron_man_color(\"綠色\")',\n",
       "  'def answer():\\n    print(42)',\n",
       "  'answer()',\n",
       "  'x = answer()',\n",
       "  'print (x)',\n",
       "  'print(x)',\n",
       "  'def run_with_args(func, arg1,arg2):\\n    func(arg1, arg2)',\n",
       "  'run_with_args(add_args, 1, 2)',\n",
       "  'def add_args(rag1, rag2):\\n    print(rag1 + rag2)',\n",
       "  'def run_with_args_new(func, *arg1):\\n    return func (*args)',\n",
       "  'run_with_args_new(add_args, 1,2,3,4,5,6,7,8,9,10)',\n",
       "  'def run_with_args_new(func, *arg1):\\n    return sum (*args)',\n",
       "  'run_with_args_new(add_args, 1,2,3,4,5,6,7,8,9,10)',\n",
       "  'def run_with_args_new(func, *arg1):\\n    return sum (*args)',\n",
       "  'run_with_args_new(add_args, 1,2,3,4,5,6,7,8,9,10)',\n",
       "  'def run_with_args_new(func, *arg1):\\n    return sum (args)',\n",
       "  'run_with_args_new(add_args, 1,2,3,4,5,6,7,8,9,10)',\n",
       "  'def run_with_args_new(func, *args):\\n    return sum (args)',\n",
       "  'run_with_args_new(add_args, 1,2,3,4,5,6,7,8,9,10)',\n",
       "  'def add_args(rag1, rag2):\\n    print(rag1 * rag2)',\n",
       "  'run_with_args_new(add_args, 1,2,3,4,5,6,7,8,9,10)',\n",
       "  'def run_with_args_new(func, *args):\\n    return sum (args)',\n",
       "  'run_with_args_new(add_args, 1,2,3,4,5,6,7,8,9,10)',\n",
       "  'def add_args(rag1, rag2):\\n    print(rag1 + rag2)',\n",
       "  'def run_with_args_new(func, *args):\\n    return sum (args)',\n",
       "  'run_with_args_new(add_args, 1,2,3,4,5,6,7,8,9,10)',\n",
       "  'def cowsay(saying):\\n    def inner(quote):\\n        return \"Cowsay: \\'%s\\'\" % quote\\n    return inner(saying)',\n",
       "  \"cowsay('Yes')\",\n",
       "  'def cowsay(saying):\\n    def inner():\\n        return \"Cowsay: \\'%s\\'\" % saying\\n    return inner',\n",
       "  \"a = cowsay('Yes')\",\n",
       "  'a()',\n",
       "  'def gen_power(base):\\n    def power(exp):\\n        return base + exp\\n    return power',\n",
       "  'power2 = gen_power(10)',\n",
       "  'power2',\n",
       "  'power2()',\n",
       "  'def gen_power(base):\\n    def power():\\n        return base\\n    return power',\n",
       "  'power2 = gen_power(10)',\n",
       "  'power2()',\n",
       "  'def gen_power(base):\\n    def power(exp):\\n        return base + exp\\n    return power',\n",
       "  'power2 = gen_power(10)\\npower3 = gen_power(20)',\n",
       "  'power2(3)',\n",
       "  'power3(2)',\n",
       "  'def edit_story(words, func):\\n    for word in words:\\n        print(func(word))\\n        ',\n",
       "  \"A= ['hello', 'hi', 'hey', ‘oops']\",\n",
       "  \"A= ['hello', 'hi', 'hey', 'oops']\",\n",
       "  \"def cap(word):\\n    return word.capitalize() + '!'\",\n",
       "  'edit_story(A, cap)',\n",
       "  \"def document_it(func):\\n    def new_function(*args, **kwargs):\\n        print('執行行函式',func.__name__)\\n        print('參數位置', args)\\n        print('關鍵字參參數', kwargs)\\n        result = func(*args, **kwargs)\\n        print('結果:',result)\\n        return result\\n    return new_function\",\n",
       "  'def add_ints(a, b):\\n    return a + b\\nadd_ints(3, 5)',\n",
       "  '@document_it',\n",
       "  '@document_it\\ndef add_ints(a, b):\\n    return a + b',\n",
       "  'add_ints(3, 5)',\n",
       "  \"a ='pig'\",\n",
       "  \"def print_global():\\n    print('全域變數', a)\",\n",
       "  'print_global()',\n",
       "  'def s():\\n    print(45)',\n",
       "  'xx = s()',\n",
       "  'print(xx)',\n",
       "  \"def change_local():\\n    a = 'dog'\\n    paint(a)\",\n",
       "  'change_local()',\n",
       "  \"def change_local():\\n    a = 'dog'\\n    print(a)\",\n",
       "  'change_local()',\n",
       "  'globals()'],\n",
       " '_ii': \"def change_local():\\n    a = 'dog'\\n    print(a)\",\n",
       " '_iii': 'change_local()',\n",
       " '_oh': {7: [('星期一', '猴子穿新衣'),\n",
       "   ('星期二', '猴子肚子餓'),\n",
       "   ('星期三', '猴子去爬山'),\n",
       "   ('星期四', '猴子逛夜市'),\n",
       "   ('星期五', '猴子去跳舞')],\n",
       "  9: [('book', '書'), ('apple', '蘋果'), ('computer', '電腦')],\n",
       "  10: tuple,\n",
       "  11: [('book', '書'), ('apple', '蘋果'), ('computer', '電腦')],\n",
       "  13: [0, 1, 2, 3, 4, 5, 6, 7, 8, 9],\n",
       "  16: [1, 3, 5, 7, 9],\n",
       "  18: [0, 1, 2, 3, 4, 5, 6, 7, 8, 9],\n",
       "  20: [1, 2, 3, 4, 5],\n",
       "  21: [1, 2, 3, 4, 5],\n",
       "  24: [1, 2, 3, 4, 5],\n",
       "  27: [1, 2, 3, 4, 5],\n",
       "  29: [0, 1, 2, 3, 4],\n",
       "  31: [-1, 0, 1, 2, 3],\n",
       "  35: [1, 3, 5],\n",
       "  39: <function list.append>,\n",
       "  40: [1, 3, 5],\n",
       "  53: <function __main__.do_nothing>,\n",
       "  87: 55,\n",
       "  89: 55,\n",
       "  91: 55,\n",
       "  94: 55,\n",
       "  96: \"Cowsay: 'Yes'\",\n",
       "  99: \"Cowsay: 'Yes'\",\n",
       "  102: <function __main__.gen_power.<locals>.power>,\n",
       "  106: 10,\n",
       "  109: 13,\n",
       "  110: 22,\n",
       "  117: 8,\n",
       "  120: 8},\n",
       " 'a': 'pig',\n",
       " 'a_list': [1, 3, 5],\n",
       " 'actions': ['猴子穿新衣', '猴子肚子餓', '猴子去爬山', '猴子逛夜市', '猴子去跳舞'],\n",
       " 'add_args': <function __main__.add_args>,\n",
       " 'add_ints': <function __main__.document_it.<locals>.new_function>,\n",
       " 'answer': <function __main__.answer>,\n",
       " 'cap': <function __main__.cap>,\n",
       " 'cell': (9, '*', 9, '=', 81),\n",
       " 'cells': [(1, '*', 1, '=', 1),\n",
       "  (1, '*', 2, '=', 2),\n",
       "  (1, '*', 3, '=', 3),\n",
       "  (1, '*', 4, '=', 4),\n",
       "  (1, '*', 5, '=', 5),\n",
       "  (1, '*', 6, '=', 6),\n",
       "  (1, '*', 7, '=', 7),\n",
       "  (1, '*', 8, '=', 8),\n",
       "  (1, '*', 9, '=', 9),\n",
       "  (2, '*', 1, '=', 2),\n",
       "  (2, '*', 2, '=', 4),\n",
       "  (2, '*', 3, '=', 6),\n",
       "  (2, '*', 4, '=', 8),\n",
       "  (2, '*', 5, '=', 10),\n",
       "  (2, '*', 6, '=', 12),\n",
       "  (2, '*', 7, '=', 14),\n",
       "  (2, '*', 8, '=', 16),\n",
       "  (2, '*', 9, '=', 18),\n",
       "  (3, '*', 1, '=', 3),\n",
       "  (3, '*', 2, '=', 6),\n",
       "  (3, '*', 3, '=', 9),\n",
       "  (3, '*', 4, '=', 12),\n",
       "  (3, '*', 5, '=', 15),\n",
       "  (3, '*', 6, '=', 18),\n",
       "  (3, '*', 7, '=', 21),\n",
       "  (3, '*', 8, '=', 24),\n",
       "  (3, '*', 9, '=', 27),\n",
       "  (4, '*', 1, '=', 4),\n",
       "  (4, '*', 2, '=', 8),\n",
       "  (4, '*', 3, '=', 12),\n",
       "  (4, '*', 4, '=', 16),\n",
       "  (4, '*', 5, '=', 20),\n",
       "  (4, '*', 6, '=', 24),\n",
       "  (4, '*', 7, '=', 28),\n",
       "  (4, '*', 8, '=', 32),\n",
       "  (4, '*', 9, '=', 36),\n",
       "  (5, '*', 1, '=', 5),\n",
       "  (5, '*', 2, '=', 10),\n",
       "  (5, '*', 3, '=', 15),\n",
       "  (5, '*', 4, '=', 20),\n",
       "  (5, '*', 5, '=', 25),\n",
       "  (5, '*', 6, '=', 30),\n",
       "  (5, '*', 7, '=', 35),\n",
       "  (5, '*', 8, '=', 40),\n",
       "  (5, '*', 9, '=', 45),\n",
       "  (6, '*', 1, '=', 6),\n",
       "  (6, '*', 2, '=', 12),\n",
       "  (6, '*', 3, '=', 18),\n",
       "  (6, '*', 4, '=', 24),\n",
       "  (6, '*', 5, '=', 30),\n",
       "  (6, '*', 6, '=', 36),\n",
       "  (6, '*', 7, '=', 42),\n",
       "  (6, '*', 8, '=', 48),\n",
       "  (6, '*', 9, '=', 54),\n",
       "  (7, '*', 1, '=', 7),\n",
       "  (7, '*', 2, '=', 14),\n",
       "  (7, '*', 3, '=', 21),\n",
       "  (7, '*', 4, '=', 28),\n",
       "  (7, '*', 5, '=', 35),\n",
       "  (7, '*', 6, '=', 42),\n",
       "  (7, '*', 7, '=', 49),\n",
       "  (7, '*', 8, '=', 56),\n",
       "  (7, '*', 9, '=', 63),\n",
       "  (8, '*', 1, '=', 8),\n",
       "  (8, '*', 2, '=', 16),\n",
       "  (8, '*', 3, '=', 24),\n",
       "  (8, '*', 4, '=', 32),\n",
       "  (8, '*', 5, '=', 40),\n",
       "  (8, '*', 6, '=', 48),\n",
       "  (8, '*', 7, '=', 56),\n",
       "  (8, '*', 8, '=', 64),\n",
       "  (8, '*', 9, '=', 72),\n",
       "  (9, '*', 1, '=', 9),\n",
       "  (9, '*', 2, '=', 18),\n",
       "  (9, '*', 3, '=', 27),\n",
       "  (9, '*', 4, '=', 36),\n",
       "  (9, '*', 5, '=', 45),\n",
       "  (9, '*', 6, '=', 54),\n",
       "  (9, '*', 7, '=', 63),\n",
       "  (9, '*', 8, '=', 72),\n",
       "  (9, '*', 9, '=', 81)],\n",
       " 'change_local': <function __main__.change_local>,\n",
       " 'chinese': ('書', '蘋果', '電腦'),\n",
       " 'col': 9,\n",
       " 'cols': range(1, 10),\n",
       " 'cowsay': <function __main__.cowsay>,\n",
       " 'days': ['星期一', '星期二', '星期三', '星期四', '星期五'],\n",
       " 'do_nothing': <function __main__.do_nothing>,\n",
       " 'document_it': <function __main__.document_it>,\n",
       " 'drinks': '高山茶',\n",
       " 'edit_story': <function __main__.edit_story>,\n",
       " 'english': ('book', 'apple', 'computer'),\n",
       " 'exit': <IPython.core.autocall.ZMQExitAutocall at 0x543b6a0>,\n",
       " 'gen_power': <function __main__.gen_power>,\n",
       " 'get_ipython': <bound method InteractiveShell.get_ipython of <ipykernel.zmqshell.ZMQInteractiveShell object at 0x0000000005422278>>,\n",
       " 'iron_man_color': <function __main__.iron_man_color>,\n",
       " 'movies': '高年級實習生',\n",
       " 'n': 5,\n",
       " 'number': 5,\n",
       " 'number_list': [-1, 0, 1, 2, 3],\n",
       " 'power2': <function __main__.gen_power.<locals>.power>,\n",
       " 'power3': <function __main__.gen_power.<locals>.power>,\n",
       " 'print_global': <function __main__.print_global>,\n",
       " 'quit': <IPython.core.autocall.ZMQExitAutocall at 0x543b6a0>,\n",
       " 'row': 9,\n",
       " 'rows': range(1, 10),\n",
       " 'run_with_args': <function __main__.run_with_args>,\n",
       " 'run_with_args_new': <function __main__.run_with_args_new>,\n",
       " 's': <function __main__.s>,\n",
       " 'x': None,\n",
       " 'xx': None}"
      ]
     },
     "execution_count": 131,
     "metadata": {},
     "output_type": "execute_result"
    }
   ],
   "source": [
    "globals()"
   ]
  },
  {
   "cell_type": "code",
   "execution_count": 134,
   "metadata": {},
   "outputs": [
    {
     "ename": "IndexError",
     "evalue": "list index out of range",
     "output_type": "error",
     "traceback": [
      "\u001b[1;31m---------------------------------------------------------------------------\u001b[0m",
      "\u001b[1;31mIndexError\u001b[0m                                Traceback (most recent call last)",
      "\u001b[1;32m<ipython-input-134-bff2c3453f72>\u001b[0m in \u001b[0;36m<module>\u001b[1;34m()\u001b[0m\n\u001b[0;32m      1\u001b[0m \u001b[0mAvengers\u001b[0m \u001b[1;33m=\u001b[0m \u001b[1;33m[\u001b[0m\u001b[1;34m'鋼鐵人'\u001b[0m\u001b[1;33m,\u001b[0m\u001b[1;34m'浩克'\u001b[0m\u001b[1;33m,\u001b[0m\u001b[1;34m'美國隊長'\u001b[0m\u001b[1;33m]\u001b[0m\u001b[1;33m\u001b[0m\u001b[0m\n\u001b[0;32m      2\u001b[0m \u001b[0mposition\u001b[0m \u001b[1;33m=\u001b[0m \u001b[1;36m5\u001b[0m\u001b[1;33m\u001b[0m\u001b[0m\n\u001b[1;32m----> 3\u001b[1;33m \u001b[0mAvengers\u001b[0m\u001b[1;33m[\u001b[0m\u001b[0mposition\u001b[0m\u001b[1;33m]\u001b[0m\u001b[1;33m\u001b[0m\u001b[0m\n\u001b[0m",
      "\u001b[1;31mIndexError\u001b[0m: list index out of range"
     ]
    }
   ],
   "source": [
    "Avengers = ['鋼鐵人','浩克','美國隊長']\n",
    "position = 5\n",
    "Avengers[position]"
   ]
  },
  {
   "cell_type": "code",
   "execution_count": 149,
   "metadata": {},
   "outputs": [
    {
     "name": "stdout",
     "output_type": "stream",
     "text": [
      "數字超過了了拉，你輸入 5 ，請重新輸入(0~2)\n"
     ]
    }
   ],
   "source": [
    "Avengers = ['鋼鐵人','浩克','美國隊長']\n",
    "position = 5\n",
    "try:\n",
    "    Avengers[position]\n",
    "except:\n",
    "    print(\"數字超過了了拉，你輸入\",position,'，請重新輸入(0~2)')"
   ]
  },
  {
   "cell_type": "code",
   "execution_count": 159,
   "metadata": {},
   "outputs": [],
   "source": [
    "def get_description():\n",
    "    import random\n",
    "    possibilities = ['下雨', '下雪', '起霧', '晴天', '誰知道']\n",
    "    return random.choice(possibilities)"
   ]
  },
  {
   "cell_type": "code",
   "execution_count": 160,
   "metadata": {},
   "outputs": [
    {
     "data": {
      "text/plain": [
       "'下雪'"
      ]
     },
     "execution_count": 160,
     "metadata": {},
     "output_type": "execute_result"
    }
   ],
   "source": [
    "get_description()"
   ]
  },
  {
   "cell_type": "code",
   "execution_count": 156,
   "metadata": {},
   "outputs": [],
   "source": [
    "import random\n",
    "def get_description():\n",
    "    possibilities = ['下雨', '下雪', '起霧', '晴天', '誰知道']\n",
    "    return random.choice(possibilities)"
   ]
  },
  {
   "cell_type": "code",
   "execution_count": 158,
   "metadata": {},
   "outputs": [
    {
     "data": {
      "text/plain": [
       "'下雨'"
      ]
     },
     "execution_count": 158,
     "metadata": {},
     "output_type": "execute_result"
    }
   ],
   "source": [
    "get_description()"
   ]
  },
  {
   "cell_type": "code",
   "execution_count": null,
   "metadata": {},
   "outputs": [],
   "source": []
  }
 ],
 "metadata": {
  "kernelspec": {
   "display_name": "Python 3",
   "language": "python",
   "name": "python3"
  },
  "language_info": {
   "codemirror_mode": {
    "name": "ipython",
    "version": 3
   },
   "file_extension": ".py",
   "mimetype": "text/x-python",
   "name": "python",
   "nbconvert_exporter": "python",
   "pygments_lexer": "ipython3",
   "version": "3.6.4"
  }
 },
 "nbformat": 4,
 "nbformat_minor": 2
}
