{
 "cells": [
  {
   "cell_type": "code",
   "execution_count": 4,
   "metadata": {},
   "outputs": [],
   "source": [
    "import pandas as pd"
   ]
  },
  {
   "cell_type": "markdown",
   "metadata": {},
   "source": [
    "# List"
   ]
  },
  {
   "cell_type": "code",
   "execution_count": 2,
   "metadata": {},
   "outputs": [
    {
     "data": {
      "text/plain": [
       "0    A\n",
       "1    B\n",
       "2    C\n",
       "dtype: object"
      ]
     },
     "execution_count": 2,
     "metadata": {},
     "output_type": "execute_result"
    }
   ],
   "source": [
    "new = ['A','B','C']\n",
    "pd.Series(new)"
   ]
  },
  {
   "cell_type": "code",
   "execution_count": 3,
   "metadata": {},
   "outputs": [
    {
     "data": {
      "text/plain": [
       "0    1\n",
       "1    2\n",
       "2    3\n",
       "dtype: int64"
      ]
     },
     "execution_count": 3,
     "metadata": {},
     "output_type": "execute_result"
    }
   ],
   "source": [
    "new2 = [1,2,3]\n",
    "pd.Series(new2)"
   ]
  },
  {
   "cell_type": "code",
   "execution_count": 4,
   "metadata": {},
   "outputs": [
    {
     "data": {
      "text/plain": [
       "0     True\n",
       "1     True\n",
       "2    False\n",
       "3    False\n",
       "dtype: bool"
      ]
     },
     "execution_count": 4,
     "metadata": {},
     "output_type": "execute_result"
    }
   ],
   "source": [
    "new3 = [True,True,False,False]\n",
    "pd.Series(new3)"
   ]
  },
  {
   "cell_type": "markdown",
   "metadata": {},
   "source": [
    "# Dictionary"
   ]
  },
  {
   "cell_type": "code",
   "execution_count": 5,
   "metadata": {},
   "outputs": [],
   "source": [
    "w = {\n",
    "    'm1':'jerry',\n",
    "    'm2':'Bill',\n",
    "}"
   ]
  },
  {
   "cell_type": "code",
   "execution_count": 6,
   "metadata": {},
   "outputs": [
    {
     "data": {
      "text/plain": [
       "m1    jerry\n",
       "m2     Bill\n",
       "dtype: object"
      ]
     },
     "execution_count": 6,
     "metadata": {},
     "output_type": "execute_result"
    }
   ],
   "source": [
    "pd.Series(w)"
   ]
  },
  {
   "cell_type": "markdown",
   "metadata": {},
   "source": [
    "# Attributes"
   ]
  },
  {
   "cell_type": "code",
   "execution_count": 7,
   "metadata": {},
   "outputs": [
    {
     "data": {
      "text/plain": [
       "0    老實\n",
       "1    忠誠\n",
       "2     帥\n",
       "dtype: object"
      ]
     },
     "execution_count": 7,
     "metadata": {},
     "output_type": "execute_result"
    }
   ],
   "source": [
    "about_me = [\"老實\",\"忠誠\",\"帥\"]\n",
    "x = pd.Series(about_me)\n",
    "x"
   ]
  },
  {
   "cell_type": "code",
   "execution_count": 8,
   "metadata": {},
   "outputs": [
    {
     "data": {
      "text/plain": [
       "array(['老實', '忠誠', '帥'], dtype=object)"
      ]
     },
     "execution_count": 8,
     "metadata": {},
     "output_type": "execute_result"
    }
   ],
   "source": [
    "x.values"
   ]
  },
  {
   "cell_type": "code",
   "execution_count": 9,
   "metadata": {},
   "outputs": [
    {
     "data": {
      "text/plain": [
       "RangeIndex(start=0, stop=3, step=1)"
      ]
     },
     "execution_count": 9,
     "metadata": {},
     "output_type": "execute_result"
    }
   ],
   "source": [
    "x.index"
   ]
  },
  {
   "cell_type": "code",
   "execution_count": 10,
   "metadata": {},
   "outputs": [
    {
     "data": {
      "text/plain": [
       "dtype('O')"
      ]
     },
     "execution_count": 10,
     "metadata": {},
     "output_type": "execute_result"
    }
   ],
   "source": [
    "x.dtype"
   ]
  },
  {
   "cell_type": "code",
   "execution_count": 11,
   "metadata": {},
   "outputs": [
    {
     "data": {
      "text/plain": [
       "0    1\n",
       "1    2\n",
       "2    3\n",
       "dtype: int64"
      ]
     },
     "execution_count": 11,
     "metadata": {},
     "output_type": "execute_result"
    }
   ],
   "source": [
    "about_me_number = [1,2,3]\n",
    "x = pd.Series(about_me_number)\n",
    "x"
   ]
  },
  {
   "cell_type": "code",
   "execution_count": 12,
   "metadata": {},
   "outputs": [
    {
     "data": {
      "text/plain": [
       "dtype('int64')"
      ]
     },
     "execution_count": 12,
     "metadata": {},
     "output_type": "execute_result"
    }
   ],
   "source": [
    "x.dtype"
   ]
  },
  {
   "cell_type": "markdown",
   "metadata": {},
   "source": [
    "# Methods"
   ]
  },
  {
   "cell_type": "code",
   "execution_count": 14,
   "metadata": {},
   "outputs": [
    {
     "data": {
      "text/plain": [
       "0    100\n",
       "1    200\n",
       "2    300\n",
       "dtype: int64"
      ]
     },
     "execution_count": 14,
     "metadata": {},
     "output_type": "execute_result"
    }
   ],
   "source": [
    "prices = [100,200,300]\n",
    "x = pd.Series(prices)\n",
    "x"
   ]
  },
  {
   "cell_type": "code",
   "execution_count": 15,
   "metadata": {},
   "outputs": [
    {
     "data": {
      "text/plain": [
       "600"
      ]
     },
     "execution_count": 15,
     "metadata": {},
     "output_type": "execute_result"
    }
   ],
   "source": [
    "x.sum()"
   ]
  },
  {
   "cell_type": "code",
   "execution_count": 16,
   "metadata": {},
   "outputs": [
    {
     "data": {
      "text/plain": [
       "6000000"
      ]
     },
     "execution_count": 16,
     "metadata": {},
     "output_type": "execute_result"
    }
   ],
   "source": [
    "x.product()"
   ]
  },
  {
   "cell_type": "code",
   "execution_count": 17,
   "metadata": {},
   "outputs": [
    {
     "data": {
      "text/plain": [
       "200.0"
      ]
     },
     "execution_count": 17,
     "metadata": {},
     "output_type": "execute_result"
    }
   ],
   "source": [
    "x.mean()"
   ]
  },
  {
   "cell_type": "code",
   "execution_count": 24,
   "metadata": {},
   "outputs": [
    {
     "data": {
      "text/plain": [
       "100    2\n",
       "200    3\n",
       "300    4\n",
       "dtype: int64"
      ]
     },
     "execution_count": 24,
     "metadata": {},
     "output_type": "execute_result"
    }
   ],
   "source": [
    "# Parameters\n",
    "prices = [100,200,300]\n",
    "prices2 = [2,3,4]\n",
    "x = pd.Series(index=prices, data=prices2)\n",
    "x"
   ]
  },
  {
   "cell_type": "code",
   "execution_count": 25,
   "metadata": {},
   "outputs": [
    {
     "data": {
      "text/plain": [
       "9"
      ]
     },
     "execution_count": 25,
     "metadata": {},
     "output_type": "execute_result"
    }
   ],
   "source": [
    "x.sum()"
   ]
  },
  {
   "cell_type": "markdown",
   "metadata": {},
   "source": [
    "# Read CSV"
   ]
  },
  {
   "cell_type": "code",
   "execution_count": 8,
   "metadata": {
    "collapsed": true
   },
   "outputs": [
    {
     "ename": "TypeError",
     "evalue": "parser_f() missing 1 required positional argument: 'filepath_or_buffer'",
     "output_type": "error",
     "traceback": [
      "\u001b[1;31m---------------------------------------------------------------------------\u001b[0m",
      "\u001b[1;31mTypeError\u001b[0m                                 Traceback (most recent call last)",
      "\u001b[1;32m<ipython-input-8-b23b51c140f4>\u001b[0m in \u001b[0;36m<module>\u001b[1;34m()\u001b[0m\n\u001b[0;32m      1\u001b[0m \u001b[1;31m# Shift + Tab\u001b[0m\u001b[1;33m\u001b[0m\u001b[1;33m\u001b[0m\u001b[0m\n\u001b[1;32m----> 2\u001b[1;33m \u001b[0mpd\u001b[0m\u001b[1;33m.\u001b[0m\u001b[0mread_csv\u001b[0m\u001b[1;33m(\u001b[0m\u001b[1;33m)\u001b[0m\u001b[1;33m\u001b[0m\u001b[0m\n\u001b[0m",
      "\u001b[1;31mTypeError\u001b[0m: parser_f() missing 1 required positional argument: 'filepath_or_buffer'"
     ]
    }
   ],
   "source": [
    "# Shift + Tab \n",
    "pd.read_csv()"
   ]
  },
  {
   "cell_type": "code",
   "execution_count": 6,
   "metadata": {
    "collapsed": true
   },
   "outputs": [
    {
     "data": {
      "text/html": [
       "<div>\n",
       "<style scoped>\n",
       "    .dataframe tbody tr th:only-of-type {\n",
       "        vertical-align: middle;\n",
       "    }\n",
       "\n",
       "    .dataframe tbody tr th {\n",
       "        vertical-align: top;\n",
       "    }\n",
       "\n",
       "    .dataframe thead th {\n",
       "        text-align: right;\n",
       "    }\n",
       "</style>\n",
       "<table border=\"1\" class=\"dataframe\">\n",
       "  <thead>\n",
       "    <tr style=\"text-align: right;\">\n",
       "      <th></th>\n",
       "      <th>日期</th>\n",
       "      <th>時間</th>\n",
       "      <th>場站代號</th>\n",
       "      <th>場站區域</th>\n",
       "      <th>場站名稱</th>\n",
       "      <th>經度</th>\n",
       "      <th>緯度</th>\n",
       "      <th>總停車格</th>\n",
       "      <th>平均車輛數</th>\n",
       "      <th>最大車輛數</th>\n",
       "      <th>最小車輛數</th>\n",
       "      <th>車輛數標準差</th>\n",
       "      <th>平均空位數</th>\n",
       "      <th>最大空位數</th>\n",
       "      <th>最小空位數</th>\n",
       "      <th>空位數標準差</th>\n",
       "    </tr>\n",
       "  </thead>\n",
       "  <tbody>\n",
       "    <tr>\n",
       "      <th>0</th>\n",
       "      <td>2014-12-08</td>\n",
       "      <td>15</td>\n",
       "      <td>2</td>\n",
       "      <td>大安區</td>\n",
       "      <td>捷運國父紀念館站(2號出口)</td>\n",
       "      <td>25.041000</td>\n",
       "      <td>121.556945</td>\n",
       "      <td>48.0</td>\n",
       "      <td>24.000</td>\n",
       "      <td>27</td>\n",
       "      <td>23</td>\n",
       "      <td>1.549</td>\n",
       "      <td>22.000</td>\n",
       "      <td>23</td>\n",
       "      <td>19</td>\n",
       "      <td>2.0</td>\n",
       "    </tr>\n",
       "    <tr>\n",
       "      <th>1</th>\n",
       "      <td>2014-12-08</td>\n",
       "      <td>15</td>\n",
       "      <td>3</td>\n",
       "      <td>信義區</td>\n",
       "      <td>台北市政府</td>\n",
       "      <td>25.037797</td>\n",
       "      <td>121.565169</td>\n",
       "      <td>NaN</td>\n",
       "      <td>10.333</td>\n",
       "      <td>13</td>\n",
       "      <td>8</td>\n",
       "      <td>1.862</td>\n",
       "      <td>29.667</td>\n",
       "      <td>32</td>\n",
       "      <td>27</td>\n",
       "      <td>2.0</td>\n",
       "    </tr>\n",
       "    <tr>\n",
       "      <th>2</th>\n",
       "      <td>2014-12-08</td>\n",
       "      <td>15</td>\n",
       "      <td>4</td>\n",
       "      <td>信義區</td>\n",
       "      <td>市民廣場</td>\n",
       "      <td>25.036036</td>\n",
       "      <td>121.562325</td>\n",
       "      <td>NaN</td>\n",
       "      <td>39.333</td>\n",
       "      <td>40</td>\n",
       "      <td>38</td>\n",
       "      <td>1.033</td>\n",
       "      <td>20.667</td>\n",
       "      <td>22</td>\n",
       "      <td>20</td>\n",
       "      <td>1.0</td>\n",
       "    </tr>\n",
       "    <tr>\n",
       "      <th>3</th>\n",
       "      <td>2014-12-08</td>\n",
       "      <td>15</td>\n",
       "      <td>5</td>\n",
       "      <td>信義區</td>\n",
       "      <td>興雅國中</td>\n",
       "      <td>25.036564</td>\n",
       "      <td>121.568664</td>\n",
       "      <td>60.0</td>\n",
       "      <td>34.167</td>\n",
       "      <td>35</td>\n",
       "      <td>33</td>\n",
       "      <td>0.753</td>\n",
       "      <td>25.833</td>\n",
       "      <td>27</td>\n",
       "      <td>25</td>\n",
       "      <td>1.0</td>\n",
       "    </tr>\n",
       "    <tr>\n",
       "      <th>4</th>\n",
       "      <td>2014-12-08</td>\n",
       "      <td>15</td>\n",
       "      <td>6</td>\n",
       "      <td>信義區</td>\n",
       "      <td>世貿二館</td>\n",
       "      <td>25.034736</td>\n",
       "      <td>121.565658</td>\n",
       "      <td>80.0</td>\n",
       "      <td>31.333</td>\n",
       "      <td>32</td>\n",
       "      <td>31</td>\n",
       "      <td>0.516</td>\n",
       "      <td>47.667</td>\n",
       "      <td>48</td>\n",
       "      <td>47</td>\n",
       "      <td>1.0</td>\n",
       "    </tr>\n",
       "    <tr>\n",
       "      <th>5</th>\n",
       "      <td>2014-12-08</td>\n",
       "      <td>15</td>\n",
       "      <td>7</td>\n",
       "      <td>信義區</td>\n",
       "      <td>信義廣場(台北101)</td>\n",
       "      <td>25.033039</td>\n",
       "      <td>121.565619</td>\n",
       "      <td>80.0</td>\n",
       "      <td>23.571</td>\n",
       "      <td>25</td>\n",
       "      <td>23</td>\n",
       "      <td>0.787</td>\n",
       "      <td>56.429</td>\n",
       "      <td>57</td>\n",
       "      <td>55</td>\n",
       "      <td>1.0</td>\n",
       "    </tr>\n",
       "    <tr>\n",
       "      <th>6</th>\n",
       "      <td>2014-12-08</td>\n",
       "      <td>15</td>\n",
       "      <td>8</td>\n",
       "      <td>信義區</td>\n",
       "      <td>世貿三館</td>\n",
       "      <td>25.035214</td>\n",
       "      <td>121.563689</td>\n",
       "      <td>60.0</td>\n",
       "      <td>19.667</td>\n",
       "      <td>20</td>\n",
       "      <td>19</td>\n",
       "      <td>0.516</td>\n",
       "      <td>40.333</td>\n",
       "      <td>41</td>\n",
       "      <td>40</td>\n",
       "      <td>1.0</td>\n",
       "    </tr>\n",
       "    <tr>\n",
       "      <th>7</th>\n",
       "      <td>2014-12-08</td>\n",
       "      <td>15</td>\n",
       "      <td>9</td>\n",
       "      <td>信義區</td>\n",
       "      <td>松德站</td>\n",
       "      <td>25.031590</td>\n",
       "      <td>121.574353</td>\n",
       "      <td>40.0</td>\n",
       "      <td>23.667</td>\n",
       "      <td>24</td>\n",
       "      <td>23</td>\n",
       "      <td>0.516</td>\n",
       "      <td>16.333</td>\n",
       "      <td>17</td>\n",
       "      <td>16</td>\n",
       "      <td>1.0</td>\n",
       "    </tr>\n",
       "    <tr>\n",
       "      <th>8</th>\n",
       "      <td>2014-12-08</td>\n",
       "      <td>15</td>\n",
       "      <td>10</td>\n",
       "      <td>信義區</td>\n",
       "      <td>台北市災害應變中心</td>\n",
       "      <td>25.028661</td>\n",
       "      <td>121.566117</td>\n",
       "      <td>54.0</td>\n",
       "      <td>16.000</td>\n",
       "      <td>17</td>\n",
       "      <td>14</td>\n",
       "      <td>1.549</td>\n",
       "      <td>38.000</td>\n",
       "      <td>40</td>\n",
       "      <td>37</td>\n",
       "      <td>2.0</td>\n",
       "    </tr>\n",
       "    <tr>\n",
       "      <th>9</th>\n",
       "      <td>2014-12-08</td>\n",
       "      <td>15</td>\n",
       "      <td>11</td>\n",
       "      <td>信義區</td>\n",
       "      <td>三張犁</td>\n",
       "      <td>25.034937</td>\n",
       "      <td>121.557620</td>\n",
       "      <td>66.0</td>\n",
       "      <td>44.167</td>\n",
       "      <td>46</td>\n",
       "      <td>42</td>\n",
       "      <td>1.472</td>\n",
       "      <td>20.833</td>\n",
       "      <td>23</td>\n",
       "      <td>19</td>\n",
       "      <td>1.0</td>\n",
       "    </tr>\n",
       "    <tr>\n",
       "      <th>10</th>\n",
       "      <td>2014-12-08</td>\n",
       "      <td>15</td>\n",
       "      <td>12</td>\n",
       "      <td>信義區</td>\n",
       "      <td>臺北醫學大學</td>\n",
       "      <td>25.026679</td>\n",
       "      <td>121.561747</td>\n",
       "      <td>34.0</td>\n",
       "      <td>25.500</td>\n",
       "      <td>27</td>\n",
       "      <td>23</td>\n",
       "      <td>1.378</td>\n",
       "      <td>8.500</td>\n",
       "      <td>11</td>\n",
       "      <td>7</td>\n",
       "      <td>1.0</td>\n",
       "    </tr>\n",
       "    <tr>\n",
       "      <th>11</th>\n",
       "      <td>2014-12-08</td>\n",
       "      <td>15</td>\n",
       "      <td>13</td>\n",
       "      <td>信義區</td>\n",
       "      <td>福德公園</td>\n",
       "      <td>25.038090</td>\n",
       "      <td>121.583670</td>\n",
       "      <td>66.0</td>\n",
       "      <td>49.000</td>\n",
       "      <td>49</td>\n",
       "      <td>49</td>\n",
       "      <td>0.000</td>\n",
       "      <td>16.000</td>\n",
       "      <td>16</td>\n",
       "      <td>16</td>\n",
       "      <td>0.0</td>\n",
       "    </tr>\n",
       "    <tr>\n",
       "      <th>12</th>\n",
       "      <td>2014-12-08</td>\n",
       "      <td>15</td>\n",
       "      <td>14</td>\n",
       "      <td>中山區</td>\n",
       "      <td>榮星花園</td>\n",
       "      <td>25.064240</td>\n",
       "      <td>121.540370</td>\n",
       "      <td>32.0</td>\n",
       "      <td>8.333</td>\n",
       "      <td>10</td>\n",
       "      <td>7</td>\n",
       "      <td>1.033</td>\n",
       "      <td>23.667</td>\n",
       "      <td>25</td>\n",
       "      <td>22</td>\n",
       "      <td>1.0</td>\n",
       "    </tr>\n",
       "    <tr>\n",
       "      <th>13</th>\n",
       "      <td>2014-12-08</td>\n",
       "      <td>15</td>\n",
       "      <td>15</td>\n",
       "      <td>松山區</td>\n",
       "      <td>饒河夜市</td>\n",
       "      <td>25.049845</td>\n",
       "      <td>121.571885</td>\n",
       "      <td>60.0</td>\n",
       "      <td>38.667</td>\n",
       "      <td>39</td>\n",
       "      <td>38</td>\n",
       "      <td>0.516</td>\n",
       "      <td>20.333</td>\n",
       "      <td>21</td>\n",
       "      <td>20</td>\n",
       "      <td>1.0</td>\n",
       "    </tr>\n",
       "    <tr>\n",
       "      <th>14</th>\n",
       "      <td>2014-12-08</td>\n",
       "      <td>15</td>\n",
       "      <td>16</td>\n",
       "      <td>信義區</td>\n",
       "      <td>松山家商</td>\n",
       "      <td>25.036084</td>\n",
       "      <td>121.579135</td>\n",
       "      <td>48.0</td>\n",
       "      <td>37.000</td>\n",
       "      <td>37</td>\n",
       "      <td>37</td>\n",
       "      <td>0.000</td>\n",
       "      <td>11.000</td>\n",
       "      <td>11</td>\n",
       "      <td>11</td>\n",
       "      <td>0.0</td>\n",
       "    </tr>\n",
       "    <tr>\n",
       "      <th>15</th>\n",
       "      <td>2014-12-08</td>\n",
       "      <td>15</td>\n",
       "      <td>17</td>\n",
       "      <td>松山區</td>\n",
       "      <td>民生光復路口</td>\n",
       "      <td>25.058400</td>\n",
       "      <td>121.555040</td>\n",
       "      <td>34.0</td>\n",
       "      <td>25.333</td>\n",
       "      <td>26</td>\n",
       "      <td>25</td>\n",
       "      <td>0.516</td>\n",
       "      <td>8.667</td>\n",
       "      <td>9</td>\n",
       "      <td>8</td>\n",
       "      <td>1.0</td>\n",
       "    </tr>\n",
       "    <tr>\n",
       "      <th>16</th>\n",
       "      <td>2014-12-08</td>\n",
       "      <td>15</td>\n",
       "      <td>18</td>\n",
       "      <td>松山區</td>\n",
       "      <td>社教館</td>\n",
       "      <td>25.048268</td>\n",
       "      <td>121.552278</td>\n",
       "      <td>38.0</td>\n",
       "      <td>13.500</td>\n",
       "      <td>15</td>\n",
       "      <td>12</td>\n",
       "      <td>1.225</td>\n",
       "      <td>22.500</td>\n",
       "      <td>24</td>\n",
       "      <td>21</td>\n",
       "      <td>1.0</td>\n",
       "    </tr>\n",
       "    <tr>\n",
       "      <th>17</th>\n",
       "      <td>2014-12-08</td>\n",
       "      <td>15</td>\n",
       "      <td>19</td>\n",
       "      <td>信義區</td>\n",
       "      <td>中強公園</td>\n",
       "      <td>25.028630</td>\n",
       "      <td>121.569810</td>\n",
       "      <td>30.0</td>\n",
       "      <td>17.167</td>\n",
       "      <td>18</td>\n",
       "      <td>17</td>\n",
       "      <td>0.408</td>\n",
       "      <td>11.833</td>\n",
       "      <td>12</td>\n",
       "      <td>11</td>\n",
       "      <td>0.0</td>\n",
       "    </tr>\n",
       "    <tr>\n",
       "      <th>18</th>\n",
       "      <td>2014-12-08</td>\n",
       "      <td>15</td>\n",
       "      <td>20</td>\n",
       "      <td>大安區</td>\n",
       "      <td>捷運科技大樓站</td>\n",
       "      <td>25.025896</td>\n",
       "      <td>121.543293</td>\n",
       "      <td>56.0</td>\n",
       "      <td>21.667</td>\n",
       "      <td>23</td>\n",
       "      <td>21</td>\n",
       "      <td>0.816</td>\n",
       "      <td>34.333</td>\n",
       "      <td>35</td>\n",
       "      <td>33</td>\n",
       "      <td>1.0</td>\n",
       "    </tr>\n",
       "    <tr>\n",
       "      <th>19</th>\n",
       "      <td>2014-12-08</td>\n",
       "      <td>15</td>\n",
       "      <td>21</td>\n",
       "      <td>松山區</td>\n",
       "      <td>民生敦化路口</td>\n",
       "      <td>25.057985</td>\n",
       "      <td>121.548982</td>\n",
       "      <td>66.0</td>\n",
       "      <td>21.167</td>\n",
       "      <td>22</td>\n",
       "      <td>19</td>\n",
       "      <td>1.329</td>\n",
       "      <td>44.833</td>\n",
       "      <td>47</td>\n",
       "      <td>44</td>\n",
       "      <td>1.0</td>\n",
       "    </tr>\n",
       "    <tr>\n",
       "      <th>20</th>\n",
       "      <td>2014-12-08</td>\n",
       "      <td>15</td>\n",
       "      <td>22</td>\n",
       "      <td>松山區</td>\n",
       "      <td>松山車站</td>\n",
       "      <td>25.048616</td>\n",
       "      <td>121.578095</td>\n",
       "      <td>44.0</td>\n",
       "      <td>13.500</td>\n",
       "      <td>14</td>\n",
       "      <td>12</td>\n",
       "      <td>0.837</td>\n",
       "      <td>30.500</td>\n",
       "      <td>32</td>\n",
       "      <td>30</td>\n",
       "      <td>1.0</td>\n",
       "    </tr>\n",
       "    <tr>\n",
       "      <th>21</th>\n",
       "      <td>2014-12-08</td>\n",
       "      <td>15</td>\n",
       "      <td>23</td>\n",
       "      <td>南港區</td>\n",
       "      <td>東新國小</td>\n",
       "      <td>25.055074</td>\n",
       "      <td>121.602798</td>\n",
       "      <td>32.0</td>\n",
       "      <td>17.333</td>\n",
       "      <td>18</td>\n",
       "      <td>17</td>\n",
       "      <td>0.516</td>\n",
       "      <td>14.667</td>\n",
       "      <td>15</td>\n",
       "      <td>14</td>\n",
       "      <td>1.0</td>\n",
       "    </tr>\n",
       "    <tr>\n",
       "      <th>22</th>\n",
       "      <td>2014-12-08</td>\n",
       "      <td>15</td>\n",
       "      <td>24</td>\n",
       "      <td>大安區</td>\n",
       "      <td>信義建國路口</td>\n",
       "      <td>25.032981</td>\n",
       "      <td>121.537328</td>\n",
       "      <td>46.0</td>\n",
       "      <td>31.500</td>\n",
       "      <td>34</td>\n",
       "      <td>30</td>\n",
       "      <td>1.378</td>\n",
       "      <td>14.500</td>\n",
       "      <td>16</td>\n",
       "      <td>12</td>\n",
       "      <td>1.0</td>\n",
       "    </tr>\n",
       "    <tr>\n",
       "      <th>23</th>\n",
       "      <td>2014-12-08</td>\n",
       "      <td>15</td>\n",
       "      <td>25</td>\n",
       "      <td>信義區</td>\n",
       "      <td>永吉松信路口</td>\n",
       "      <td>25.045430</td>\n",
       "      <td>121.572050</td>\n",
       "      <td>30.0</td>\n",
       "      <td>21.833</td>\n",
       "      <td>23</td>\n",
       "      <td>21</td>\n",
       "      <td>0.983</td>\n",
       "      <td>8.167</td>\n",
       "      <td>9</td>\n",
       "      <td>7</td>\n",
       "      <td>1.0</td>\n",
       "    </tr>\n",
       "    <tr>\n",
       "      <th>24</th>\n",
       "      <td>2014-12-08</td>\n",
       "      <td>15</td>\n",
       "      <td>26</td>\n",
       "      <td>南港區</td>\n",
       "      <td>捷運昆陽站(1號出口)</td>\n",
       "      <td>25.050142</td>\n",
       "      <td>121.592375</td>\n",
       "      <td>42.0</td>\n",
       "      <td>24.500</td>\n",
       "      <td>25</td>\n",
       "      <td>24</td>\n",
       "      <td>0.548</td>\n",
       "      <td>16.500</td>\n",
       "      <td>17</td>\n",
       "      <td>16</td>\n",
       "      <td>1.0</td>\n",
       "    </tr>\n",
       "    <tr>\n",
       "      <th>25</th>\n",
       "      <td>2014-12-08</td>\n",
       "      <td>15</td>\n",
       "      <td>27</td>\n",
       "      <td>南港區</td>\n",
       "      <td>捷運南港展覽館站(5號出口)</td>\n",
       "      <td>25.054690</td>\n",
       "      <td>121.616690</td>\n",
       "      <td>26.0</td>\n",
       "      <td>3.833</td>\n",
       "      <td>4</td>\n",
       "      <td>3</td>\n",
       "      <td>0.408</td>\n",
       "      <td>22.167</td>\n",
       "      <td>23</td>\n",
       "      <td>22</td>\n",
       "      <td>0.0</td>\n",
       "    </tr>\n",
       "    <tr>\n",
       "      <th>26</th>\n",
       "      <td>2014-12-08</td>\n",
       "      <td>15</td>\n",
       "      <td>28</td>\n",
       "      <td>信義區</td>\n",
       "      <td>五常公園</td>\n",
       "      <td>25.048140</td>\n",
       "      <td>121.574670</td>\n",
       "      <td>36.0</td>\n",
       "      <td>11.167</td>\n",
       "      <td>12</td>\n",
       "      <td>10</td>\n",
       "      <td>0.753</td>\n",
       "      <td>22.833</td>\n",
       "      <td>24</td>\n",
       "      <td>22</td>\n",
       "      <td>1.0</td>\n",
       "    </tr>\n",
       "    <tr>\n",
       "      <th>27</th>\n",
       "      <td>2014-12-08</td>\n",
       "      <td>15</td>\n",
       "      <td>29</td>\n",
       "      <td>大安區</td>\n",
       "      <td>金山愛國路口</td>\n",
       "      <td>25.031640</td>\n",
       "      <td>121.526550</td>\n",
       "      <td>54.0</td>\n",
       "      <td>36.667</td>\n",
       "      <td>38</td>\n",
       "      <td>36</td>\n",
       "      <td>0.816</td>\n",
       "      <td>17.333</td>\n",
       "      <td>18</td>\n",
       "      <td>16</td>\n",
       "      <td>1.0</td>\n",
       "    </tr>\n",
       "    <tr>\n",
       "      <th>28</th>\n",
       "      <td>2014-12-08</td>\n",
       "      <td>15</td>\n",
       "      <td>30</td>\n",
       "      <td>大安區</td>\n",
       "      <td>基隆長興路口</td>\n",
       "      <td>25.017054</td>\n",
       "      <td>121.544352</td>\n",
       "      <td>74.0</td>\n",
       "      <td>44.500</td>\n",
       "      <td>45</td>\n",
       "      <td>44</td>\n",
       "      <td>0.548</td>\n",
       "      <td>29.500</td>\n",
       "      <td>30</td>\n",
       "      <td>29</td>\n",
       "      <td>1.0</td>\n",
       "    </tr>\n",
       "    <tr>\n",
       "      <th>29</th>\n",
       "      <td>2014-12-08</td>\n",
       "      <td>15</td>\n",
       "      <td>31</td>\n",
       "      <td>大安區</td>\n",
       "      <td>辛亥新生路口</td>\n",
       "      <td>25.022413</td>\n",
       "      <td>121.534560</td>\n",
       "      <td>30.0</td>\n",
       "      <td>26.833</td>\n",
       "      <td>29</td>\n",
       "      <td>25</td>\n",
       "      <td>1.329</td>\n",
       "      <td>3.167</td>\n",
       "      <td>5</td>\n",
       "      <td>1</td>\n",
       "      <td>1.0</td>\n",
       "    </tr>\n",
       "    <tr>\n",
       "      <th>...</th>\n",
       "      <td>...</td>\n",
       "      <td>...</td>\n",
       "      <td>...</td>\n",
       "      <td>...</td>\n",
       "      <td>...</td>\n",
       "      <td>...</td>\n",
       "      <td>...</td>\n",
       "      <td>...</td>\n",
       "      <td>...</td>\n",
       "      <td>...</td>\n",
       "      <td>...</td>\n",
       "      <td>...</td>\n",
       "      <td>...</td>\n",
       "      <td>...</td>\n",
       "      <td>...</td>\n",
       "      <td>...</td>\n",
       "    </tr>\n",
       "    <tr>\n",
       "      <th>201984</th>\n",
       "      <td>2015-01-12</td>\n",
       "      <td>12</td>\n",
       "      <td>1037</td>\n",
       "      <td>新店區</td>\n",
       "      <td>中興寶橋路口</td>\n",
       "      <td>24.976180</td>\n",
       "      <td>121.546870</td>\n",
       "      <td>52.0</td>\n",
       "      <td>12.829</td>\n",
       "      <td>17</td>\n",
       "      <td>8</td>\n",
       "      <td>2.467</td>\n",
       "      <td>27.343</td>\n",
       "      <td>30</td>\n",
       "      <td>25</td>\n",
       "      <td>1.0</td>\n",
       "    </tr>\n",
       "    <tr>\n",
       "      <th>201985</th>\n",
       "      <td>2015-01-12</td>\n",
       "      <td>12</td>\n",
       "      <td>1038</td>\n",
       "      <td>新莊區</td>\n",
       "      <td>新莊棒球場</td>\n",
       "      <td>25.041603</td>\n",
       "      <td>121.446053</td>\n",
       "      <td>38.0</td>\n",
       "      <td>4.600</td>\n",
       "      <td>6</td>\n",
       "      <td>3</td>\n",
       "      <td>0.736</td>\n",
       "      <td>33.400</td>\n",
       "      <td>35</td>\n",
       "      <td>32</td>\n",
       "      <td>1.0</td>\n",
       "    </tr>\n",
       "    <tr>\n",
       "      <th>201986</th>\n",
       "      <td>2015-01-12</td>\n",
       "      <td>12</td>\n",
       "      <td>1039</td>\n",
       "      <td>永和區</td>\n",
       "      <td>頂溪國小</td>\n",
       "      <td>25.015811</td>\n",
       "      <td>121.511261</td>\n",
       "      <td>50.0</td>\n",
       "      <td>15.657</td>\n",
       "      <td>17</td>\n",
       "      <td>14</td>\n",
       "      <td>0.802</td>\n",
       "      <td>32.343</td>\n",
       "      <td>34</td>\n",
       "      <td>31</td>\n",
       "      <td>1.0</td>\n",
       "    </tr>\n",
       "    <tr>\n",
       "      <th>201987</th>\n",
       "      <td>2015-01-12</td>\n",
       "      <td>12</td>\n",
       "      <td>1040</td>\n",
       "      <td>永和區</td>\n",
       "      <td>永和國小</td>\n",
       "      <td>25.002272</td>\n",
       "      <td>121.517442</td>\n",
       "      <td>38.0</td>\n",
       "      <td>17.057</td>\n",
       "      <td>20</td>\n",
       "      <td>15</td>\n",
       "      <td>1.798</td>\n",
       "      <td>18.943</td>\n",
       "      <td>21</td>\n",
       "      <td>16</td>\n",
       "      <td>2.0</td>\n",
       "    </tr>\n",
       "    <tr>\n",
       "      <th>201988</th>\n",
       "      <td>2015-01-12</td>\n",
       "      <td>12</td>\n",
       "      <td>1041</td>\n",
       "      <td>永和區</td>\n",
       "      <td>秀朗國小</td>\n",
       "      <td>24.999392</td>\n",
       "      <td>121.522843</td>\n",
       "      <td>46.0</td>\n",
       "      <td>2.486</td>\n",
       "      <td>3</td>\n",
       "      <td>2</td>\n",
       "      <td>0.507</td>\n",
       "      <td>37.286</td>\n",
       "      <td>38</td>\n",
       "      <td>37</td>\n",
       "      <td>0.0</td>\n",
       "    </tr>\n",
       "    <tr>\n",
       "      <th>201989</th>\n",
       "      <td>2015-01-12</td>\n",
       "      <td>12</td>\n",
       "      <td>1042</td>\n",
       "      <td>新店區</td>\n",
       "      <td>台北慈濟醫院</td>\n",
       "      <td>24.985872</td>\n",
       "      <td>121.536887</td>\n",
       "      <td>40.0</td>\n",
       "      <td>29.514</td>\n",
       "      <td>31</td>\n",
       "      <td>28</td>\n",
       "      <td>1.011</td>\n",
       "      <td>10.486</td>\n",
       "      <td>12</td>\n",
       "      <td>9</td>\n",
       "      <td>1.0</td>\n",
       "    </tr>\n",
       "    <tr>\n",
       "      <th>201990</th>\n",
       "      <td>2015-01-12</td>\n",
       "      <td>12</td>\n",
       "      <td>1043</td>\n",
       "      <td>永和區</td>\n",
       "      <td>捷運頂溪站(1號出口)</td>\n",
       "      <td>25.012176</td>\n",
       "      <td>121.515271</td>\n",
       "      <td>36.0</td>\n",
       "      <td>21.086</td>\n",
       "      <td>23</td>\n",
       "      <td>18</td>\n",
       "      <td>1.634</td>\n",
       "      <td>11.914</td>\n",
       "      <td>15</td>\n",
       "      <td>10</td>\n",
       "      <td>2.0</td>\n",
       "    </tr>\n",
       "    <tr>\n",
       "      <th>201991</th>\n",
       "      <td>2015-01-12</td>\n",
       "      <td>12</td>\n",
       "      <td>1044</td>\n",
       "      <td>永和區</td>\n",
       "      <td>保安永平路口</td>\n",
       "      <td>25.012691</td>\n",
       "      <td>121.506471</td>\n",
       "      <td>42.0</td>\n",
       "      <td>0.371</td>\n",
       "      <td>1</td>\n",
       "      <td>0</td>\n",
       "      <td>0.490</td>\n",
       "      <td>37.629</td>\n",
       "      <td>38</td>\n",
       "      <td>37</td>\n",
       "      <td>0.0</td>\n",
       "    </tr>\n",
       "    <tr>\n",
       "      <th>201992</th>\n",
       "      <td>2015-01-12</td>\n",
       "      <td>12</td>\n",
       "      <td>1045</td>\n",
       "      <td>新店區</td>\n",
       "      <td>崇光女中</td>\n",
       "      <td>24.972127</td>\n",
       "      <td>121.539554</td>\n",
       "      <td>36.0</td>\n",
       "      <td>8.971</td>\n",
       "      <td>11</td>\n",
       "      <td>8</td>\n",
       "      <td>0.664</td>\n",
       "      <td>25.686</td>\n",
       "      <td>27</td>\n",
       "      <td>23</td>\n",
       "      <td>1.0</td>\n",
       "    </tr>\n",
       "    <tr>\n",
       "      <th>201993</th>\n",
       "      <td>2015-01-12</td>\n",
       "      <td>12</td>\n",
       "      <td>1046</td>\n",
       "      <td>新店區</td>\n",
       "      <td>新店高中</td>\n",
       "      <td>24.974181</td>\n",
       "      <td>121.534209</td>\n",
       "      <td>42.0</td>\n",
       "      <td>1.971</td>\n",
       "      <td>4</td>\n",
       "      <td>0</td>\n",
       "      <td>1.465</td>\n",
       "      <td>40.029</td>\n",
       "      <td>42</td>\n",
       "      <td>38</td>\n",
       "      <td>1.0</td>\n",
       "    </tr>\n",
       "    <tr>\n",
       "      <th>201994</th>\n",
       "      <td>2015-01-12</td>\n",
       "      <td>12</td>\n",
       "      <td>1047</td>\n",
       "      <td>新莊區</td>\n",
       "      <td>新莊文化藝術中心</td>\n",
       "      <td>25.047150</td>\n",
       "      <td>121.444453</td>\n",
       "      <td>48.0</td>\n",
       "      <td>28.914</td>\n",
       "      <td>30</td>\n",
       "      <td>28</td>\n",
       "      <td>0.702</td>\n",
       "      <td>19.086</td>\n",
       "      <td>20</td>\n",
       "      <td>18</td>\n",
       "      <td>1.0</td>\n",
       "    </tr>\n",
       "    <tr>\n",
       "      <th>201995</th>\n",
       "      <td>2015-01-12</td>\n",
       "      <td>12</td>\n",
       "      <td>1048</td>\n",
       "      <td>新莊區</td>\n",
       "      <td>中華中原路口</td>\n",
       "      <td>25.054232</td>\n",
       "      <td>121.451752</td>\n",
       "      <td>58.0</td>\n",
       "      <td>35.943</td>\n",
       "      <td>36</td>\n",
       "      <td>35</td>\n",
       "      <td>0.236</td>\n",
       "      <td>21.057</td>\n",
       "      <td>22</td>\n",
       "      <td>21</td>\n",
       "      <td>0.0</td>\n",
       "    </tr>\n",
       "    <tr>\n",
       "      <th>201996</th>\n",
       "      <td>2015-01-12</td>\n",
       "      <td>12</td>\n",
       "      <td>1049</td>\n",
       "      <td>三重區</td>\n",
       "      <td>新北高中</td>\n",
       "      <td>25.087225</td>\n",
       "      <td>121.489525</td>\n",
       "      <td>60.0</td>\n",
       "      <td>34.771</td>\n",
       "      <td>35</td>\n",
       "      <td>34</td>\n",
       "      <td>0.426</td>\n",
       "      <td>24.229</td>\n",
       "      <td>25</td>\n",
       "      <td>24</td>\n",
       "      <td>0.0</td>\n",
       "    </tr>\n",
       "    <tr>\n",
       "      <th>201997</th>\n",
       "      <td>2015-01-12</td>\n",
       "      <td>12</td>\n",
       "      <td>1050</td>\n",
       "      <td>新莊區</td>\n",
       "      <td>福壽公園</td>\n",
       "      <td>25.051829</td>\n",
       "      <td>121.457746</td>\n",
       "      <td>36.0</td>\n",
       "      <td>12.000</td>\n",
       "      <td>14</td>\n",
       "      <td>11</td>\n",
       "      <td>0.970</td>\n",
       "      <td>22.000</td>\n",
       "      <td>23</td>\n",
       "      <td>20</td>\n",
       "      <td>1.0</td>\n",
       "    </tr>\n",
       "    <tr>\n",
       "      <th>201998</th>\n",
       "      <td>2015-01-12</td>\n",
       "      <td>12</td>\n",
       "      <td>1051</td>\n",
       "      <td>汐止區</td>\n",
       "      <td>保長公園</td>\n",
       "      <td>25.079523</td>\n",
       "      <td>121.674342</td>\n",
       "      <td>28.0</td>\n",
       "      <td>5.343</td>\n",
       "      <td>6</td>\n",
       "      <td>5</td>\n",
       "      <td>0.482</td>\n",
       "      <td>22.657</td>\n",
       "      <td>23</td>\n",
       "      <td>22</td>\n",
       "      <td>0.0</td>\n",
       "    </tr>\n",
       "    <tr>\n",
       "      <th>201999</th>\n",
       "      <td>2015-01-12</td>\n",
       "      <td>12</td>\n",
       "      <td>1054</td>\n",
       "      <td>新店區</td>\n",
       "      <td>惠國市場</td>\n",
       "      <td>24.970415</td>\n",
       "      <td>121.543384</td>\n",
       "      <td>36.0</td>\n",
       "      <td>10.914</td>\n",
       "      <td>12</td>\n",
       "      <td>9</td>\n",
       "      <td>0.919</td>\n",
       "      <td>24.086</td>\n",
       "      <td>26</td>\n",
       "      <td>23</td>\n",
       "      <td>1.0</td>\n",
       "    </tr>\n",
       "    <tr>\n",
       "      <th>202000</th>\n",
       "      <td>2015-01-12</td>\n",
       "      <td>12</td>\n",
       "      <td>1055</td>\n",
       "      <td>新店區</td>\n",
       "      <td>陽光橋</td>\n",
       "      <td>24.978494</td>\n",
       "      <td>121.524176</td>\n",
       "      <td>40.0</td>\n",
       "      <td>22.971</td>\n",
       "      <td>24</td>\n",
       "      <td>22</td>\n",
       "      <td>0.514</td>\n",
       "      <td>16.029</td>\n",
       "      <td>17</td>\n",
       "      <td>15</td>\n",
       "      <td>1.0</td>\n",
       "    </tr>\n",
       "    <tr>\n",
       "      <th>202001</th>\n",
       "      <td>2015-01-12</td>\n",
       "      <td>12</td>\n",
       "      <td>1056</td>\n",
       "      <td>新店區</td>\n",
       "      <td>中興寶慶街口</td>\n",
       "      <td>24.986942</td>\n",
       "      <td>121.541950</td>\n",
       "      <td>50.0</td>\n",
       "      <td>7.914</td>\n",
       "      <td>10</td>\n",
       "      <td>6</td>\n",
       "      <td>1.011</td>\n",
       "      <td>42.086</td>\n",
       "      <td>44</td>\n",
       "      <td>40</td>\n",
       "      <td>1.0</td>\n",
       "    </tr>\n",
       "    <tr>\n",
       "      <th>202002</th>\n",
       "      <td>2015-01-12</td>\n",
       "      <td>12</td>\n",
       "      <td>1057</td>\n",
       "      <td>汐止區</td>\n",
       "      <td>東方科學園區</td>\n",
       "      <td>25.061262</td>\n",
       "      <td>121.649512</td>\n",
       "      <td>52.0</td>\n",
       "      <td>19.286</td>\n",
       "      <td>22</td>\n",
       "      <td>18</td>\n",
       "      <td>1.564</td>\n",
       "      <td>32.714</td>\n",
       "      <td>34</td>\n",
       "      <td>30</td>\n",
       "      <td>2.0</td>\n",
       "    </tr>\n",
       "    <tr>\n",
       "      <th>202003</th>\n",
       "      <td>2015-01-12</td>\n",
       "      <td>12</td>\n",
       "      <td>1059</td>\n",
       "      <td>汐止區</td>\n",
       "      <td>青山國民中小學</td>\n",
       "      <td>25.061034</td>\n",
       "      <td>121.655586</td>\n",
       "      <td>50.0</td>\n",
       "      <td>13.857</td>\n",
       "      <td>15</td>\n",
       "      <td>13</td>\n",
       "      <td>0.944</td>\n",
       "      <td>36.143</td>\n",
       "      <td>37</td>\n",
       "      <td>35</td>\n",
       "      <td>1.0</td>\n",
       "    </tr>\n",
       "    <tr>\n",
       "      <th>202004</th>\n",
       "      <td>2015-01-12</td>\n",
       "      <td>12</td>\n",
       "      <td>1060</td>\n",
       "      <td>汐止區</td>\n",
       "      <td>汐止區綜合運動場</td>\n",
       "      <td>25.066238</td>\n",
       "      <td>121.659067</td>\n",
       "      <td>44.0</td>\n",
       "      <td>26.086</td>\n",
       "      <td>27</td>\n",
       "      <td>26</td>\n",
       "      <td>0.284</td>\n",
       "      <td>16.914</td>\n",
       "      <td>17</td>\n",
       "      <td>16</td>\n",
       "      <td>0.0</td>\n",
       "    </tr>\n",
       "    <tr>\n",
       "      <th>202005</th>\n",
       "      <td>2015-01-12</td>\n",
       "      <td>12</td>\n",
       "      <td>1061</td>\n",
       "      <td>汐止區</td>\n",
       "      <td>汐止公園</td>\n",
       "      <td>25.067682</td>\n",
       "      <td>121.659763</td>\n",
       "      <td>52.0</td>\n",
       "      <td>18.686</td>\n",
       "      <td>23</td>\n",
       "      <td>17</td>\n",
       "      <td>1.811</td>\n",
       "      <td>32.314</td>\n",
       "      <td>34</td>\n",
       "      <td>28</td>\n",
       "      <td>2.0</td>\n",
       "    </tr>\n",
       "    <tr>\n",
       "      <th>202006</th>\n",
       "      <td>2015-01-12</td>\n",
       "      <td>12</td>\n",
       "      <td>1064</td>\n",
       "      <td>新店區</td>\n",
       "      <td>中正國小</td>\n",
       "      <td>24.971496</td>\n",
       "      <td>121.536296</td>\n",
       "      <td>32.0</td>\n",
       "      <td>15.429</td>\n",
       "      <td>18</td>\n",
       "      <td>14</td>\n",
       "      <td>1.220</td>\n",
       "      <td>15.571</td>\n",
       "      <td>17</td>\n",
       "      <td>13</td>\n",
       "      <td>1.0</td>\n",
       "    </tr>\n",
       "    <tr>\n",
       "      <th>202007</th>\n",
       "      <td>2015-01-12</td>\n",
       "      <td>12</td>\n",
       "      <td>1065</td>\n",
       "      <td>三重區</td>\n",
       "      <td>開元市民活動中心</td>\n",
       "      <td>25.066074</td>\n",
       "      <td>121.503557</td>\n",
       "      <td>42.0</td>\n",
       "      <td>15.457</td>\n",
       "      <td>17</td>\n",
       "      <td>14</td>\n",
       "      <td>0.657</td>\n",
       "      <td>26.543</td>\n",
       "      <td>28</td>\n",
       "      <td>25</td>\n",
       "      <td>1.0</td>\n",
       "    </tr>\n",
       "    <tr>\n",
       "      <th>202008</th>\n",
       "      <td>2015-01-12</td>\n",
       "      <td>12</td>\n",
       "      <td>1066</td>\n",
       "      <td>汐止區</td>\n",
       "      <td>雍和科學園區</td>\n",
       "      <td>25.058078</td>\n",
       "      <td>121.626018</td>\n",
       "      <td>44.0</td>\n",
       "      <td>19.000</td>\n",
       "      <td>19</td>\n",
       "      <td>19</td>\n",
       "      <td>0.000</td>\n",
       "      <td>25.000</td>\n",
       "      <td>25</td>\n",
       "      <td>25</td>\n",
       "      <td>0.0</td>\n",
       "    </tr>\n",
       "    <tr>\n",
       "      <th>202009</th>\n",
       "      <td>2015-01-12</td>\n",
       "      <td>12</td>\n",
       "      <td>1068</td>\n",
       "      <td>三重區</td>\n",
       "      <td>二重國中</td>\n",
       "      <td>25.065957</td>\n",
       "      <td>121.480465</td>\n",
       "      <td>70.0</td>\n",
       "      <td>32.000</td>\n",
       "      <td>32</td>\n",
       "      <td>32</td>\n",
       "      <td>0.000</td>\n",
       "      <td>37.000</td>\n",
       "      <td>37</td>\n",
       "      <td>37</td>\n",
       "      <td>0.0</td>\n",
       "    </tr>\n",
       "    <tr>\n",
       "      <th>202010</th>\n",
       "      <td>2015-01-12</td>\n",
       "      <td>12</td>\n",
       "      <td>1070</td>\n",
       "      <td>三重區</td>\n",
       "      <td>新北市立圖書館三重分館</td>\n",
       "      <td>25.066099</td>\n",
       "      <td>121.495529</td>\n",
       "      <td>50.0</td>\n",
       "      <td>21.229</td>\n",
       "      <td>22</td>\n",
       "      <td>20</td>\n",
       "      <td>0.646</td>\n",
       "      <td>28.771</td>\n",
       "      <td>30</td>\n",
       "      <td>28</td>\n",
       "      <td>1.0</td>\n",
       "    </tr>\n",
       "    <tr>\n",
       "      <th>202011</th>\n",
       "      <td>2015-01-12</td>\n",
       "      <td>12</td>\n",
       "      <td>1071</td>\n",
       "      <td>三重區</td>\n",
       "      <td>三張公園</td>\n",
       "      <td>25.070507</td>\n",
       "      <td>121.490935</td>\n",
       "      <td>44.0</td>\n",
       "      <td>14.057</td>\n",
       "      <td>15</td>\n",
       "      <td>13</td>\n",
       "      <td>0.684</td>\n",
       "      <td>29.943</td>\n",
       "      <td>31</td>\n",
       "      <td>29</td>\n",
       "      <td>1.0</td>\n",
       "    </tr>\n",
       "    <tr>\n",
       "      <th>202012</th>\n",
       "      <td>2015-01-12</td>\n",
       "      <td>12</td>\n",
       "      <td>70</td>\n",
       "      <td>信義區</td>\n",
       "      <td>捷運台北101/世貿站</td>\n",
       "      <td>25.032752</td>\n",
       "      <td>121.561645</td>\n",
       "      <td>52.0</td>\n",
       "      <td>6.353</td>\n",
       "      <td>16</td>\n",
       "      <td>0</td>\n",
       "      <td>4.760</td>\n",
       "      <td>44.206</td>\n",
       "      <td>50</td>\n",
       "      <td>35</td>\n",
       "      <td>5.0</td>\n",
       "    </tr>\n",
       "    <tr>\n",
       "      <th>202013</th>\n",
       "      <td>2015-01-12</td>\n",
       "      <td>12</td>\n",
       "      <td>121</td>\n",
       "      <td>中山區</td>\n",
       "      <td>龍江南京路口</td>\n",
       "      <td>25.052980</td>\n",
       "      <td>121.540568</td>\n",
       "      <td>66.0</td>\n",
       "      <td>27.419</td>\n",
       "      <td>31</td>\n",
       "      <td>25</td>\n",
       "      <td>1.608</td>\n",
       "      <td>38.581</td>\n",
       "      <td>41</td>\n",
       "      <td>35</td>\n",
       "      <td>2.0</td>\n",
       "    </tr>\n",
       "  </tbody>\n",
       "</table>\n",
       "<p>202014 rows × 16 columns</p>\n",
       "</div>"
      ],
      "text/plain": [
       "                日期  時間  場站代號 場站區域            場站名稱         經度          緯度  \\\n",
       "0       2014-12-08  15     2  大安區  捷運國父紀念館站(2號出口)  25.041000  121.556945   \n",
       "1       2014-12-08  15     3  信義區           台北市政府  25.037797  121.565169   \n",
       "2       2014-12-08  15     4  信義區            市民廣場  25.036036  121.562325   \n",
       "3       2014-12-08  15     5  信義區            興雅國中  25.036564  121.568664   \n",
       "4       2014-12-08  15     6  信義區            世貿二館  25.034736  121.565658   \n",
       "5       2014-12-08  15     7  信義區     信義廣場(台北101)  25.033039  121.565619   \n",
       "6       2014-12-08  15     8  信義區            世貿三館  25.035214  121.563689   \n",
       "7       2014-12-08  15     9  信義區             松德站  25.031590  121.574353   \n",
       "8       2014-12-08  15    10  信義區       台北市災害應變中心  25.028661  121.566117   \n",
       "9       2014-12-08  15    11  信義區             三張犁  25.034937  121.557620   \n",
       "10      2014-12-08  15    12  信義區          臺北醫學大學  25.026679  121.561747   \n",
       "11      2014-12-08  15    13  信義區            福德公園  25.038090  121.583670   \n",
       "12      2014-12-08  15    14  中山區            榮星花園  25.064240  121.540370   \n",
       "13      2014-12-08  15    15  松山區            饒河夜市  25.049845  121.571885   \n",
       "14      2014-12-08  15    16  信義區            松山家商  25.036084  121.579135   \n",
       "15      2014-12-08  15    17  松山區          民生光復路口  25.058400  121.555040   \n",
       "16      2014-12-08  15    18  松山區             社教館  25.048268  121.552278   \n",
       "17      2014-12-08  15    19  信義區            中強公園  25.028630  121.569810   \n",
       "18      2014-12-08  15    20  大安區         捷運科技大樓站  25.025896  121.543293   \n",
       "19      2014-12-08  15    21  松山區          民生敦化路口  25.057985  121.548982   \n",
       "20      2014-12-08  15    22  松山區            松山車站  25.048616  121.578095   \n",
       "21      2014-12-08  15    23  南港區            東新國小  25.055074  121.602798   \n",
       "22      2014-12-08  15    24  大安區          信義建國路口  25.032981  121.537328   \n",
       "23      2014-12-08  15    25  信義區          永吉松信路口  25.045430  121.572050   \n",
       "24      2014-12-08  15    26  南港區     捷運昆陽站(1號出口)  25.050142  121.592375   \n",
       "25      2014-12-08  15    27  南港區  捷運南港展覽館站(5號出口)  25.054690  121.616690   \n",
       "26      2014-12-08  15    28  信義區            五常公園  25.048140  121.574670   \n",
       "27      2014-12-08  15    29  大安區          金山愛國路口  25.031640  121.526550   \n",
       "28      2014-12-08  15    30  大安區          基隆長興路口  25.017054  121.544352   \n",
       "29      2014-12-08  15    31  大安區          辛亥新生路口  25.022413  121.534560   \n",
       "...            ...  ..   ...  ...             ...        ...         ...   \n",
       "201984  2015-01-12  12  1037  新店區          中興寶橋路口  24.976180  121.546870   \n",
       "201985  2015-01-12  12  1038  新莊區           新莊棒球場  25.041603  121.446053   \n",
       "201986  2015-01-12  12  1039  永和區            頂溪國小  25.015811  121.511261   \n",
       "201987  2015-01-12  12  1040  永和區            永和國小  25.002272  121.517442   \n",
       "201988  2015-01-12  12  1041  永和區            秀朗國小  24.999392  121.522843   \n",
       "201989  2015-01-12  12  1042  新店區          台北慈濟醫院  24.985872  121.536887   \n",
       "201990  2015-01-12  12  1043  永和區     捷運頂溪站(1號出口)  25.012176  121.515271   \n",
       "201991  2015-01-12  12  1044  永和區          保安永平路口  25.012691  121.506471   \n",
       "201992  2015-01-12  12  1045  新店區            崇光女中  24.972127  121.539554   \n",
       "201993  2015-01-12  12  1046  新店區            新店高中  24.974181  121.534209   \n",
       "201994  2015-01-12  12  1047  新莊區        新莊文化藝術中心  25.047150  121.444453   \n",
       "201995  2015-01-12  12  1048  新莊區          中華中原路口  25.054232  121.451752   \n",
       "201996  2015-01-12  12  1049  三重區            新北高中  25.087225  121.489525   \n",
       "201997  2015-01-12  12  1050  新莊區            福壽公園  25.051829  121.457746   \n",
       "201998  2015-01-12  12  1051  汐止區            保長公園  25.079523  121.674342   \n",
       "201999  2015-01-12  12  1054  新店區            惠國市場  24.970415  121.543384   \n",
       "202000  2015-01-12  12  1055  新店區             陽光橋  24.978494  121.524176   \n",
       "202001  2015-01-12  12  1056  新店區          中興寶慶街口  24.986942  121.541950   \n",
       "202002  2015-01-12  12  1057  汐止區          東方科學園區  25.061262  121.649512   \n",
       "202003  2015-01-12  12  1059  汐止區         青山國民中小學  25.061034  121.655586   \n",
       "202004  2015-01-12  12  1060  汐止區        汐止區綜合運動場  25.066238  121.659067   \n",
       "202005  2015-01-12  12  1061  汐止區            汐止公園  25.067682  121.659763   \n",
       "202006  2015-01-12  12  1064  新店區            中正國小  24.971496  121.536296   \n",
       "202007  2015-01-12  12  1065  三重區        開元市民活動中心  25.066074  121.503557   \n",
       "202008  2015-01-12  12  1066  汐止區          雍和科學園區  25.058078  121.626018   \n",
       "202009  2015-01-12  12  1068  三重區            二重國中  25.065957  121.480465   \n",
       "202010  2015-01-12  12  1070  三重區     新北市立圖書館三重分館  25.066099  121.495529   \n",
       "202011  2015-01-12  12  1071  三重區            三張公園  25.070507  121.490935   \n",
       "202012  2015-01-12  12    70  信義區     捷運台北101/世貿站  25.032752  121.561645   \n",
       "202013  2015-01-12  12   121  中山區          龍江南京路口  25.052980  121.540568   \n",
       "\n",
       "        總停車格   平均車輛數  最大車輛數  最小車輛數  車輛數標準差   平均空位數  最大空位數  最小空位數  空位數標準差  \n",
       "0       48.0  24.000     27     23   1.549  22.000     23     19     2.0  \n",
       "1        NaN  10.333     13      8   1.862  29.667     32     27     2.0  \n",
       "2        NaN  39.333     40     38   1.033  20.667     22     20     1.0  \n",
       "3       60.0  34.167     35     33   0.753  25.833     27     25     1.0  \n",
       "4       80.0  31.333     32     31   0.516  47.667     48     47     1.0  \n",
       "5       80.0  23.571     25     23   0.787  56.429     57     55     1.0  \n",
       "6       60.0  19.667     20     19   0.516  40.333     41     40     1.0  \n",
       "7       40.0  23.667     24     23   0.516  16.333     17     16     1.0  \n",
       "8       54.0  16.000     17     14   1.549  38.000     40     37     2.0  \n",
       "9       66.0  44.167     46     42   1.472  20.833     23     19     1.0  \n",
       "10      34.0  25.500     27     23   1.378   8.500     11      7     1.0  \n",
       "11      66.0  49.000     49     49   0.000  16.000     16     16     0.0  \n",
       "12      32.0   8.333     10      7   1.033  23.667     25     22     1.0  \n",
       "13      60.0  38.667     39     38   0.516  20.333     21     20     1.0  \n",
       "14      48.0  37.000     37     37   0.000  11.000     11     11     0.0  \n",
       "15      34.0  25.333     26     25   0.516   8.667      9      8     1.0  \n",
       "16      38.0  13.500     15     12   1.225  22.500     24     21     1.0  \n",
       "17      30.0  17.167     18     17   0.408  11.833     12     11     0.0  \n",
       "18      56.0  21.667     23     21   0.816  34.333     35     33     1.0  \n",
       "19      66.0  21.167     22     19   1.329  44.833     47     44     1.0  \n",
       "20      44.0  13.500     14     12   0.837  30.500     32     30     1.0  \n",
       "21      32.0  17.333     18     17   0.516  14.667     15     14     1.0  \n",
       "22      46.0  31.500     34     30   1.378  14.500     16     12     1.0  \n",
       "23      30.0  21.833     23     21   0.983   8.167      9      7     1.0  \n",
       "24      42.0  24.500     25     24   0.548  16.500     17     16     1.0  \n",
       "25      26.0   3.833      4      3   0.408  22.167     23     22     0.0  \n",
       "26      36.0  11.167     12     10   0.753  22.833     24     22     1.0  \n",
       "27      54.0  36.667     38     36   0.816  17.333     18     16     1.0  \n",
       "28      74.0  44.500     45     44   0.548  29.500     30     29     1.0  \n",
       "29      30.0  26.833     29     25   1.329   3.167      5      1     1.0  \n",
       "...      ...     ...    ...    ...     ...     ...    ...    ...     ...  \n",
       "201984  52.0  12.829     17      8   2.467  27.343     30     25     1.0  \n",
       "201985  38.0   4.600      6      3   0.736  33.400     35     32     1.0  \n",
       "201986  50.0  15.657     17     14   0.802  32.343     34     31     1.0  \n",
       "201987  38.0  17.057     20     15   1.798  18.943     21     16     2.0  \n",
       "201988  46.0   2.486      3      2   0.507  37.286     38     37     0.0  \n",
       "201989  40.0  29.514     31     28   1.011  10.486     12      9     1.0  \n",
       "201990  36.0  21.086     23     18   1.634  11.914     15     10     2.0  \n",
       "201991  42.0   0.371      1      0   0.490  37.629     38     37     0.0  \n",
       "201992  36.0   8.971     11      8   0.664  25.686     27     23     1.0  \n",
       "201993  42.0   1.971      4      0   1.465  40.029     42     38     1.0  \n",
       "201994  48.0  28.914     30     28   0.702  19.086     20     18     1.0  \n",
       "201995  58.0  35.943     36     35   0.236  21.057     22     21     0.0  \n",
       "201996  60.0  34.771     35     34   0.426  24.229     25     24     0.0  \n",
       "201997  36.0  12.000     14     11   0.970  22.000     23     20     1.0  \n",
       "201998  28.0   5.343      6      5   0.482  22.657     23     22     0.0  \n",
       "201999  36.0  10.914     12      9   0.919  24.086     26     23     1.0  \n",
       "202000  40.0  22.971     24     22   0.514  16.029     17     15     1.0  \n",
       "202001  50.0   7.914     10      6   1.011  42.086     44     40     1.0  \n",
       "202002  52.0  19.286     22     18   1.564  32.714     34     30     2.0  \n",
       "202003  50.0  13.857     15     13   0.944  36.143     37     35     1.0  \n",
       "202004  44.0  26.086     27     26   0.284  16.914     17     16     0.0  \n",
       "202005  52.0  18.686     23     17   1.811  32.314     34     28     2.0  \n",
       "202006  32.0  15.429     18     14   1.220  15.571     17     13     1.0  \n",
       "202007  42.0  15.457     17     14   0.657  26.543     28     25     1.0  \n",
       "202008  44.0  19.000     19     19   0.000  25.000     25     25     0.0  \n",
       "202009  70.0  32.000     32     32   0.000  37.000     37     37     0.0  \n",
       "202010  50.0  21.229     22     20   0.646  28.771     30     28     1.0  \n",
       "202011  44.0  14.057     15     13   0.684  29.943     31     29     1.0  \n",
       "202012  52.0   6.353     16      0   4.760  44.206     50     35     5.0  \n",
       "202013  66.0  27.419     31     25   1.608  38.581     41     35     2.0  \n",
       "\n",
       "[202014 rows x 16 columns]"
      ]
     },
     "execution_count": 6,
     "metadata": {},
     "output_type": "execute_result"
    }
   ],
   "source": [
    "pd.read_csv(\"ubike-utf8.csv\")"
   ]
  },
  {
   "cell_type": "code",
   "execution_count": 14,
   "metadata": {},
   "outputs": [
    {
     "data": {
      "text/html": [
       "<div>\n",
       "<style scoped>\n",
       "    .dataframe tbody tr th:only-of-type {\n",
       "        vertical-align: middle;\n",
       "    }\n",
       "\n",
       "    .dataframe tbody tr th {\n",
       "        vertical-align: top;\n",
       "    }\n",
       "\n",
       "    .dataframe thead th {\n",
       "        text-align: right;\n",
       "    }\n",
       "</style>\n",
       "<table border=\"1\" class=\"dataframe\">\n",
       "  <thead>\n",
       "    <tr style=\"text-align: right;\">\n",
       "      <th></th>\n",
       "      <th>日期</th>\n",
       "      <th>時間</th>\n",
       "    </tr>\n",
       "  </thead>\n",
       "  <tbody>\n",
       "    <tr>\n",
       "      <th>0</th>\n",
       "      <td>2014-12-08</td>\n",
       "      <td>15</td>\n",
       "    </tr>\n",
       "    <tr>\n",
       "      <th>1</th>\n",
       "      <td>2014-12-08</td>\n",
       "      <td>15</td>\n",
       "    </tr>\n",
       "    <tr>\n",
       "      <th>2</th>\n",
       "      <td>2014-12-08</td>\n",
       "      <td>15</td>\n",
       "    </tr>\n",
       "    <tr>\n",
       "      <th>3</th>\n",
       "      <td>2014-12-08</td>\n",
       "      <td>15</td>\n",
       "    </tr>\n",
       "    <tr>\n",
       "      <th>4</th>\n",
       "      <td>2014-12-08</td>\n",
       "      <td>15</td>\n",
       "    </tr>\n",
       "    <tr>\n",
       "      <th>5</th>\n",
       "      <td>2014-12-08</td>\n",
       "      <td>15</td>\n",
       "    </tr>\n",
       "    <tr>\n",
       "      <th>6</th>\n",
       "      <td>2014-12-08</td>\n",
       "      <td>15</td>\n",
       "    </tr>\n",
       "    <tr>\n",
       "      <th>7</th>\n",
       "      <td>2014-12-08</td>\n",
       "      <td>15</td>\n",
       "    </tr>\n",
       "    <tr>\n",
       "      <th>8</th>\n",
       "      <td>2014-12-08</td>\n",
       "      <td>15</td>\n",
       "    </tr>\n",
       "    <tr>\n",
       "      <th>9</th>\n",
       "      <td>2014-12-08</td>\n",
       "      <td>15</td>\n",
       "    </tr>\n",
       "    <tr>\n",
       "      <th>10</th>\n",
       "      <td>2014-12-08</td>\n",
       "      <td>15</td>\n",
       "    </tr>\n",
       "    <tr>\n",
       "      <th>11</th>\n",
       "      <td>2014-12-08</td>\n",
       "      <td>15</td>\n",
       "    </tr>\n",
       "    <tr>\n",
       "      <th>12</th>\n",
       "      <td>2014-12-08</td>\n",
       "      <td>15</td>\n",
       "    </tr>\n",
       "    <tr>\n",
       "      <th>13</th>\n",
       "      <td>2014-12-08</td>\n",
       "      <td>15</td>\n",
       "    </tr>\n",
       "    <tr>\n",
       "      <th>14</th>\n",
       "      <td>2014-12-08</td>\n",
       "      <td>15</td>\n",
       "    </tr>\n",
       "    <tr>\n",
       "      <th>15</th>\n",
       "      <td>2014-12-08</td>\n",
       "      <td>15</td>\n",
       "    </tr>\n",
       "    <tr>\n",
       "      <th>16</th>\n",
       "      <td>2014-12-08</td>\n",
       "      <td>15</td>\n",
       "    </tr>\n",
       "    <tr>\n",
       "      <th>17</th>\n",
       "      <td>2014-12-08</td>\n",
       "      <td>15</td>\n",
       "    </tr>\n",
       "    <tr>\n",
       "      <th>18</th>\n",
       "      <td>2014-12-08</td>\n",
       "      <td>15</td>\n",
       "    </tr>\n",
       "    <tr>\n",
       "      <th>19</th>\n",
       "      <td>2014-12-08</td>\n",
       "      <td>15</td>\n",
       "    </tr>\n",
       "    <tr>\n",
       "      <th>20</th>\n",
       "      <td>2014-12-08</td>\n",
       "      <td>15</td>\n",
       "    </tr>\n",
       "    <tr>\n",
       "      <th>21</th>\n",
       "      <td>2014-12-08</td>\n",
       "      <td>15</td>\n",
       "    </tr>\n",
       "    <tr>\n",
       "      <th>22</th>\n",
       "      <td>2014-12-08</td>\n",
       "      <td>15</td>\n",
       "    </tr>\n",
       "    <tr>\n",
       "      <th>23</th>\n",
       "      <td>2014-12-08</td>\n",
       "      <td>15</td>\n",
       "    </tr>\n",
       "    <tr>\n",
       "      <th>24</th>\n",
       "      <td>2014-12-08</td>\n",
       "      <td>15</td>\n",
       "    </tr>\n",
       "    <tr>\n",
       "      <th>25</th>\n",
       "      <td>2014-12-08</td>\n",
       "      <td>15</td>\n",
       "    </tr>\n",
       "    <tr>\n",
       "      <th>26</th>\n",
       "      <td>2014-12-08</td>\n",
       "      <td>15</td>\n",
       "    </tr>\n",
       "    <tr>\n",
       "      <th>27</th>\n",
       "      <td>2014-12-08</td>\n",
       "      <td>15</td>\n",
       "    </tr>\n",
       "    <tr>\n",
       "      <th>28</th>\n",
       "      <td>2014-12-08</td>\n",
       "      <td>15</td>\n",
       "    </tr>\n",
       "    <tr>\n",
       "      <th>29</th>\n",
       "      <td>2014-12-08</td>\n",
       "      <td>15</td>\n",
       "    </tr>\n",
       "    <tr>\n",
       "      <th>...</th>\n",
       "      <td>...</td>\n",
       "      <td>...</td>\n",
       "    </tr>\n",
       "    <tr>\n",
       "      <th>201984</th>\n",
       "      <td>2015-01-12</td>\n",
       "      <td>12</td>\n",
       "    </tr>\n",
       "    <tr>\n",
       "      <th>201985</th>\n",
       "      <td>2015-01-12</td>\n",
       "      <td>12</td>\n",
       "    </tr>\n",
       "    <tr>\n",
       "      <th>201986</th>\n",
       "      <td>2015-01-12</td>\n",
       "      <td>12</td>\n",
       "    </tr>\n",
       "    <tr>\n",
       "      <th>201987</th>\n",
       "      <td>2015-01-12</td>\n",
       "      <td>12</td>\n",
       "    </tr>\n",
       "    <tr>\n",
       "      <th>201988</th>\n",
       "      <td>2015-01-12</td>\n",
       "      <td>12</td>\n",
       "    </tr>\n",
       "    <tr>\n",
       "      <th>201989</th>\n",
       "      <td>2015-01-12</td>\n",
       "      <td>12</td>\n",
       "    </tr>\n",
       "    <tr>\n",
       "      <th>201990</th>\n",
       "      <td>2015-01-12</td>\n",
       "      <td>12</td>\n",
       "    </tr>\n",
       "    <tr>\n",
       "      <th>201991</th>\n",
       "      <td>2015-01-12</td>\n",
       "      <td>12</td>\n",
       "    </tr>\n",
       "    <tr>\n",
       "      <th>201992</th>\n",
       "      <td>2015-01-12</td>\n",
       "      <td>12</td>\n",
       "    </tr>\n",
       "    <tr>\n",
       "      <th>201993</th>\n",
       "      <td>2015-01-12</td>\n",
       "      <td>12</td>\n",
       "    </tr>\n",
       "    <tr>\n",
       "      <th>201994</th>\n",
       "      <td>2015-01-12</td>\n",
       "      <td>12</td>\n",
       "    </tr>\n",
       "    <tr>\n",
       "      <th>201995</th>\n",
       "      <td>2015-01-12</td>\n",
       "      <td>12</td>\n",
       "    </tr>\n",
       "    <tr>\n",
       "      <th>201996</th>\n",
       "      <td>2015-01-12</td>\n",
       "      <td>12</td>\n",
       "    </tr>\n",
       "    <tr>\n",
       "      <th>201997</th>\n",
       "      <td>2015-01-12</td>\n",
       "      <td>12</td>\n",
       "    </tr>\n",
       "    <tr>\n",
       "      <th>201998</th>\n",
       "      <td>2015-01-12</td>\n",
       "      <td>12</td>\n",
       "    </tr>\n",
       "    <tr>\n",
       "      <th>201999</th>\n",
       "      <td>2015-01-12</td>\n",
       "      <td>12</td>\n",
       "    </tr>\n",
       "    <tr>\n",
       "      <th>202000</th>\n",
       "      <td>2015-01-12</td>\n",
       "      <td>12</td>\n",
       "    </tr>\n",
       "    <tr>\n",
       "      <th>202001</th>\n",
       "      <td>2015-01-12</td>\n",
       "      <td>12</td>\n",
       "    </tr>\n",
       "    <tr>\n",
       "      <th>202002</th>\n",
       "      <td>2015-01-12</td>\n",
       "      <td>12</td>\n",
       "    </tr>\n",
       "    <tr>\n",
       "      <th>202003</th>\n",
       "      <td>2015-01-12</td>\n",
       "      <td>12</td>\n",
       "    </tr>\n",
       "    <tr>\n",
       "      <th>202004</th>\n",
       "      <td>2015-01-12</td>\n",
       "      <td>12</td>\n",
       "    </tr>\n",
       "    <tr>\n",
       "      <th>202005</th>\n",
       "      <td>2015-01-12</td>\n",
       "      <td>12</td>\n",
       "    </tr>\n",
       "    <tr>\n",
       "      <th>202006</th>\n",
       "      <td>2015-01-12</td>\n",
       "      <td>12</td>\n",
       "    </tr>\n",
       "    <tr>\n",
       "      <th>202007</th>\n",
       "      <td>2015-01-12</td>\n",
       "      <td>12</td>\n",
       "    </tr>\n",
       "    <tr>\n",
       "      <th>202008</th>\n",
       "      <td>2015-01-12</td>\n",
       "      <td>12</td>\n",
       "    </tr>\n",
       "    <tr>\n",
       "      <th>202009</th>\n",
       "      <td>2015-01-12</td>\n",
       "      <td>12</td>\n",
       "    </tr>\n",
       "    <tr>\n",
       "      <th>202010</th>\n",
       "      <td>2015-01-12</td>\n",
       "      <td>12</td>\n",
       "    </tr>\n",
       "    <tr>\n",
       "      <th>202011</th>\n",
       "      <td>2015-01-12</td>\n",
       "      <td>12</td>\n",
       "    </tr>\n",
       "    <tr>\n",
       "      <th>202012</th>\n",
       "      <td>2015-01-12</td>\n",
       "      <td>12</td>\n",
       "    </tr>\n",
       "    <tr>\n",
       "      <th>202013</th>\n",
       "      <td>2015-01-12</td>\n",
       "      <td>12</td>\n",
       "    </tr>\n",
       "  </tbody>\n",
       "</table>\n",
       "<p>202014 rows × 2 columns</p>\n",
       "</div>"
      ],
      "text/plain": [
       "                日期  時間\n",
       "0       2014-12-08  15\n",
       "1       2014-12-08  15\n",
       "2       2014-12-08  15\n",
       "3       2014-12-08  15\n",
       "4       2014-12-08  15\n",
       "5       2014-12-08  15\n",
       "6       2014-12-08  15\n",
       "7       2014-12-08  15\n",
       "8       2014-12-08  15\n",
       "9       2014-12-08  15\n",
       "10      2014-12-08  15\n",
       "11      2014-12-08  15\n",
       "12      2014-12-08  15\n",
       "13      2014-12-08  15\n",
       "14      2014-12-08  15\n",
       "15      2014-12-08  15\n",
       "16      2014-12-08  15\n",
       "17      2014-12-08  15\n",
       "18      2014-12-08  15\n",
       "19      2014-12-08  15\n",
       "20      2014-12-08  15\n",
       "21      2014-12-08  15\n",
       "22      2014-12-08  15\n",
       "23      2014-12-08  15\n",
       "24      2014-12-08  15\n",
       "25      2014-12-08  15\n",
       "26      2014-12-08  15\n",
       "27      2014-12-08  15\n",
       "28      2014-12-08  15\n",
       "29      2014-12-08  15\n",
       "...            ...  ..\n",
       "201984  2015-01-12  12\n",
       "201985  2015-01-12  12\n",
       "201986  2015-01-12  12\n",
       "201987  2015-01-12  12\n",
       "201988  2015-01-12  12\n",
       "201989  2015-01-12  12\n",
       "201990  2015-01-12  12\n",
       "201991  2015-01-12  12\n",
       "201992  2015-01-12  12\n",
       "201993  2015-01-12  12\n",
       "201994  2015-01-12  12\n",
       "201995  2015-01-12  12\n",
       "201996  2015-01-12  12\n",
       "201997  2015-01-12  12\n",
       "201998  2015-01-12  12\n",
       "201999  2015-01-12  12\n",
       "202000  2015-01-12  12\n",
       "202001  2015-01-12  12\n",
       "202002  2015-01-12  12\n",
       "202003  2015-01-12  12\n",
       "202004  2015-01-12  12\n",
       "202005  2015-01-12  12\n",
       "202006  2015-01-12  12\n",
       "202007  2015-01-12  12\n",
       "202008  2015-01-12  12\n",
       "202009  2015-01-12  12\n",
       "202010  2015-01-12  12\n",
       "202011  2015-01-12  12\n",
       "202012  2015-01-12  12\n",
       "202013  2015-01-12  12\n",
       "\n",
       "[202014 rows x 2 columns]"
      ]
     },
     "execution_count": 14,
     "metadata": {},
     "output_type": "execute_result"
    }
   ],
   "source": [
    "pd.read_csv(\"ubike-utf8.csv\", usecols=['日期','時間'])"
   ]
  },
  {
   "cell_type": "code",
   "execution_count": 15,
   "metadata": {},
   "outputs": [],
   "source": [
    "ubike_date = pd.read_csv(\"ubike-utf8.csv\", usecols=['日期'], squeeze=True)"
   ]
  },
  {
   "cell_type": "code",
   "execution_count": 16,
   "metadata": {},
   "outputs": [
    {
     "data": {
      "text/plain": [
       "0         2014-12-08\n",
       "1         2014-12-08\n",
       "2         2014-12-08\n",
       "3         2014-12-08\n",
       "4         2014-12-08\n",
       "5         2014-12-08\n",
       "6         2014-12-08\n",
       "7         2014-12-08\n",
       "8         2014-12-08\n",
       "9         2014-12-08\n",
       "10        2014-12-08\n",
       "11        2014-12-08\n",
       "12        2014-12-08\n",
       "13        2014-12-08\n",
       "14        2014-12-08\n",
       "15        2014-12-08\n",
       "16        2014-12-08\n",
       "17        2014-12-08\n",
       "18        2014-12-08\n",
       "19        2014-12-08\n",
       "20        2014-12-08\n",
       "21        2014-12-08\n",
       "22        2014-12-08\n",
       "23        2014-12-08\n",
       "24        2014-12-08\n",
       "25        2014-12-08\n",
       "26        2014-12-08\n",
       "27        2014-12-08\n",
       "28        2014-12-08\n",
       "29        2014-12-08\n",
       "             ...    \n",
       "201984    2015-01-12\n",
       "201985    2015-01-12\n",
       "201986    2015-01-12\n",
       "201987    2015-01-12\n",
       "201988    2015-01-12\n",
       "201989    2015-01-12\n",
       "201990    2015-01-12\n",
       "201991    2015-01-12\n",
       "201992    2015-01-12\n",
       "201993    2015-01-12\n",
       "201994    2015-01-12\n",
       "201995    2015-01-12\n",
       "201996    2015-01-12\n",
       "201997    2015-01-12\n",
       "201998    2015-01-12\n",
       "201999    2015-01-12\n",
       "202000    2015-01-12\n",
       "202001    2015-01-12\n",
       "202002    2015-01-12\n",
       "202003    2015-01-12\n",
       "202004    2015-01-12\n",
       "202005    2015-01-12\n",
       "202006    2015-01-12\n",
       "202007    2015-01-12\n",
       "202008    2015-01-12\n",
       "202009    2015-01-12\n",
       "202010    2015-01-12\n",
       "202011    2015-01-12\n",
       "202012    2015-01-12\n",
       "202013    2015-01-12\n",
       "Name: 日期, Length: 202014, dtype: object"
      ]
     },
     "execution_count": 16,
     "metadata": {},
     "output_type": "execute_result"
    }
   ],
   "source": [
    "ubike_date"
   ]
  },
  {
   "cell_type": "code",
   "execution_count": 17,
   "metadata": {},
   "outputs": [
    {
     "data": {
      "text/plain": [
       "0    2014-12-08\n",
       "1    2014-12-08\n",
       "2    2014-12-08\n",
       "3    2014-12-08\n",
       "4    2014-12-08\n",
       "Name: 日期, dtype: object"
      ]
     },
     "execution_count": 17,
     "metadata": {},
     "output_type": "execute_result"
    }
   ],
   "source": [
    "ubike_date.head()"
   ]
  },
  {
   "cell_type": "code",
   "execution_count": 18,
   "metadata": {},
   "outputs": [
    {
     "data": {
      "text/plain": [
       "0    2014-12-08\n",
       "1    2014-12-08\n",
       "Name: 日期, dtype: object"
      ]
     },
     "execution_count": 18,
     "metadata": {},
     "output_type": "execute_result"
    }
   ],
   "source": [
    "ubike_date.head(2)"
   ]
  },
  {
   "cell_type": "code",
   "execution_count": 12,
   "metadata": {},
   "outputs": [
    {
     "data": {
      "text/plain": [
       "202009    2015-01-12\n",
       "202010    2015-01-12\n",
       "202011    2015-01-12\n",
       "202012    2015-01-12\n",
       "202013    2015-01-12\n",
       "Name: 日期, dtype: object"
      ]
     },
     "execution_count": 12,
     "metadata": {},
     "output_type": "execute_result"
    }
   ],
   "source": [
    "ubike_date.tail()"
   ]
  },
  {
   "cell_type": "code",
   "execution_count": 17,
   "metadata": {},
   "outputs": [
    {
     "data": {
      "text/plain": [
       "array(['2014-12-08', '2014-12-08', '2014-12-08', ..., '2015-01-12',\n",
       "       '2015-01-12', '2015-01-12'], dtype=object)"
      ]
     },
     "execution_count": 17,
     "metadata": {},
     "output_type": "execute_result"
    }
   ],
   "source": [
    "ubike_date.values"
   ]
  },
  {
   "cell_type": "code",
   "execution_count": 18,
   "metadata": {},
   "outputs": [
    {
     "data": {
      "text/plain": [
       "RangeIndex(start=0, stop=202014, step=1)"
      ]
     },
     "execution_count": 18,
     "metadata": {},
     "output_type": "execute_result"
    }
   ],
   "source": [
    "ubike_date.index"
   ]
  },
  {
   "cell_type": "code",
   "execution_count": 19,
   "metadata": {},
   "outputs": [
    {
     "data": {
      "text/plain": [
       "dtype('O')"
      ]
     },
     "execution_count": 19,
     "metadata": {},
     "output_type": "execute_result"
    }
   ],
   "source": [
    "ubike_date.dtypes"
   ]
  },
  {
   "cell_type": "code",
   "execution_count": 22,
   "metadata": {},
   "outputs": [
    {
     "data": {
      "text/plain": [
       "False"
      ]
     },
     "execution_count": 22,
     "metadata": {},
     "output_type": "execute_result"
    }
   ],
   "source": [
    "#判斷是否一樣\n",
    "ubike_date.is_unique"
   ]
  },
  {
   "cell_type": "code",
   "execution_count": 36,
   "metadata": {},
   "outputs": [
    {
     "data": {
      "text/plain": [
       "(202014,)"
      ]
     },
     "execution_count": 36,
     "metadata": {},
     "output_type": "execute_result"
    }
   ],
   "source": [
    "ubike_date.shape"
   ]
  },
  {
   "cell_type": "code",
   "execution_count": 37,
   "metadata": {},
   "outputs": [
    {
     "data": {
      "text/plain": [
       "202014"
      ]
     },
     "execution_count": 37,
     "metadata": {},
     "output_type": "execute_result"
    }
   ],
   "source": [
    "ubike_date.size"
   ]
  },
  {
   "cell_type": "code",
   "execution_count": 40,
   "metadata": {},
   "outputs": [
    {
     "data": {
      "text/plain": [
       "'日期'"
      ]
     },
     "execution_count": 40,
     "metadata": {},
     "output_type": "execute_result"
    }
   ],
   "source": [
    "ubike_date.name"
   ]
  },
  {
   "cell_type": "code",
   "execution_count": 54,
   "metadata": {},
   "outputs": [
    {
     "data": {
      "text/plain": [
       "66262     0000-00-00\n",
       "184366    0000-00-00\n",
       "0         2014-12-08\n",
       "1335      2014-12-08\n",
       "1334      2014-12-08\n",
       "1333      2014-12-08\n",
       "1332      2014-12-08\n",
       "1331      2014-12-08\n",
       "1330      2014-12-08\n",
       "1329      2014-12-08\n",
       "1328      2014-12-08\n",
       "1327      2014-12-08\n",
       "1326      2014-12-08\n",
       "1325      2014-12-08\n",
       "1324      2014-12-08\n",
       "1323      2014-12-08\n",
       "1321      2014-12-08\n",
       "1336      2014-12-08\n",
       "1320      2014-12-08\n",
       "1319      2014-12-08\n",
       "1318      2014-12-08\n",
       "1317      2014-12-08\n",
       "1316      2014-12-08\n",
       "1315      2014-12-08\n",
       "1314      2014-12-08\n",
       "1313      2014-12-08\n",
       "1312      2014-12-08\n",
       "1311      2014-12-08\n",
       "1310      2014-12-08\n",
       "1309      2014-12-08\n",
       "             ...    \n",
       "199826    2015-01-12\n",
       "199816    2015-01-12\n",
       "199803    2015-01-12\n",
       "199802    2015-01-12\n",
       "199801    2015-01-12\n",
       "199778    2015-01-12\n",
       "199779    2015-01-12\n",
       "199780    2015-01-12\n",
       "199781    2015-01-12\n",
       "199782    2015-01-12\n",
       "199783    2015-01-12\n",
       "199784    2015-01-12\n",
       "199785    2015-01-12\n",
       "199786    2015-01-12\n",
       "199787    2015-01-12\n",
       "199788    2015-01-12\n",
       "199789    2015-01-12\n",
       "199790    2015-01-12\n",
       "199791    2015-01-12\n",
       "199792    2015-01-12\n",
       "199793    2015-01-12\n",
       "199794    2015-01-12\n",
       "199795    2015-01-12\n",
       "199796    2015-01-12\n",
       "199797    2015-01-12\n",
       "199798    2015-01-12\n",
       "199799    2015-01-12\n",
       "199800    2015-01-12\n",
       "200348    2015-01-12\n",
       "202013    2015-01-12\n",
       "Name: 日期, Length: 202014, dtype: object"
      ]
     },
     "execution_count": 54,
     "metadata": {},
     "output_type": "execute_result"
    }
   ],
   "source": [
    "ubike_date.sort_values()"
   ]
  },
  {
   "cell_type": "code",
   "execution_count": 53,
   "metadata": {},
   "outputs": [
    {
     "data": {
      "text/plain": [
       "66262     0000-00-00\n",
       "184366    0000-00-00\n",
       "0         2014-12-08\n",
       "1335      2014-12-08\n",
       "1334      2014-12-08\n",
       "Name: 日期, dtype: object"
      ]
     },
     "execution_count": 53,
     "metadata": {},
     "output_type": "execute_result"
    }
   ],
   "source": [
    "ubike_date.sort_values().head()"
   ]
  },
  {
   "cell_type": "code",
   "execution_count": 56,
   "metadata": {},
   "outputs": [
    {
     "data": {
      "text/plain": [
       "202013    2015-01-12\n",
       "200348    2015-01-12\n",
       "199800    2015-01-12\n",
       "199799    2015-01-12\n",
       "199798    2015-01-12\n",
       "199797    2015-01-12\n",
       "199796    2015-01-12\n",
       "199795    2015-01-12\n",
       "199794    2015-01-12\n",
       "199793    2015-01-12\n",
       "199792    2015-01-12\n",
       "199791    2015-01-12\n",
       "199790    2015-01-12\n",
       "199789    2015-01-12\n",
       "199788    2015-01-12\n",
       "199787    2015-01-12\n",
       "199786    2015-01-12\n",
       "199785    2015-01-12\n",
       "199784    2015-01-12\n",
       "199783    2015-01-12\n",
       "199782    2015-01-12\n",
       "199781    2015-01-12\n",
       "199780    2015-01-12\n",
       "199779    2015-01-12\n",
       "199778    2015-01-12\n",
       "199801    2015-01-12\n",
       "199802    2015-01-12\n",
       "199803    2015-01-12\n",
       "199816    2015-01-12\n",
       "199826    2015-01-12\n",
       "             ...    \n",
       "1309      2014-12-08\n",
       "1310      2014-12-08\n",
       "1311      2014-12-08\n",
       "1312      2014-12-08\n",
       "1313      2014-12-08\n",
       "1314      2014-12-08\n",
       "1315      2014-12-08\n",
       "1316      2014-12-08\n",
       "1317      2014-12-08\n",
       "1318      2014-12-08\n",
       "1319      2014-12-08\n",
       "1320      2014-12-08\n",
       "1336      2014-12-08\n",
       "1321      2014-12-08\n",
       "1323      2014-12-08\n",
       "1324      2014-12-08\n",
       "1325      2014-12-08\n",
       "1326      2014-12-08\n",
       "1327      2014-12-08\n",
       "1328      2014-12-08\n",
       "1329      2014-12-08\n",
       "1330      2014-12-08\n",
       "1331      2014-12-08\n",
       "1332      2014-12-08\n",
       "1333      2014-12-08\n",
       "1334      2014-12-08\n",
       "1335      2014-12-08\n",
       "0         2014-12-08\n",
       "184366    0000-00-00\n",
       "66262     0000-00-00\n",
       "Name: 日期, Length: 202014, dtype: object"
      ]
     },
     "execution_count": 56,
     "metadata": {},
     "output_type": "execute_result"
    }
   ],
   "source": [
    "ubike_date.sort_values(ascending=False)"
   ]
  },
  {
   "cell_type": "code",
   "execution_count": 57,
   "metadata": {},
   "outputs": [
    {
     "data": {
      "text/plain": [
       "1334      2014-12-08\n",
       "1335      2014-12-08\n",
       "0         2014-12-08\n",
       "184366    0000-00-00\n",
       "66262     0000-00-00\n",
       "Name: 日期, dtype: object"
      ]
     },
     "execution_count": 57,
     "metadata": {},
     "output_type": "execute_result"
    }
   ],
   "source": [
    "ubike_date.sort_values(ascending=False).tail()"
   ]
  },
  {
   "cell_type": "code",
   "execution_count": 68,
   "metadata": {
    "collapsed": true
   },
   "outputs": [],
   "source": [
    "ubike_date = pd.read_csv(\"ubike-utf8.csv\", usecols=['日期'], squeeze=True)"
   ]
  },
  {
   "cell_type": "code",
   "execution_count": 69,
   "metadata": {},
   "outputs": [
    {
     "data": {
      "text/plain": [
       "0         2014-12-08\n",
       "1         2014-12-08\n",
       "2         2014-12-08\n",
       "3         2014-12-08\n",
       "4         2014-12-08\n",
       "5         2014-12-08\n",
       "6         2014-12-08\n",
       "7         2014-12-08\n",
       "8         2014-12-08\n",
       "9         2014-12-08\n",
       "10        2014-12-08\n",
       "11        2014-12-08\n",
       "12        2014-12-08\n",
       "13        2014-12-08\n",
       "14        2014-12-08\n",
       "15        2014-12-08\n",
       "16        2014-12-08\n",
       "17        2014-12-08\n",
       "18        2014-12-08\n",
       "19        2014-12-08\n",
       "20        2014-12-08\n",
       "21        2014-12-08\n",
       "22        2014-12-08\n",
       "23        2014-12-08\n",
       "24        2014-12-08\n",
       "25        2014-12-08\n",
       "26        2014-12-08\n",
       "27        2014-12-08\n",
       "28        2014-12-08\n",
       "29        2014-12-08\n",
       "             ...    \n",
       "201984    2015-01-12\n",
       "201985    2015-01-12\n",
       "201986    2015-01-12\n",
       "201987    2015-01-12\n",
       "201988    2015-01-12\n",
       "201989    2015-01-12\n",
       "201990    2015-01-12\n",
       "201991    2015-01-12\n",
       "201992    2015-01-12\n",
       "201993    2015-01-12\n",
       "201994    2015-01-12\n",
       "201995    2015-01-12\n",
       "201996    2015-01-12\n",
       "201997    2015-01-12\n",
       "201998    2015-01-12\n",
       "201999    2015-01-12\n",
       "202000    2015-01-12\n",
       "202001    2015-01-12\n",
       "202002    2015-01-12\n",
       "202003    2015-01-12\n",
       "202004    2015-01-12\n",
       "202005    2015-01-12\n",
       "202006    2015-01-12\n",
       "202007    2015-01-12\n",
       "202008    2015-01-12\n",
       "202009    2015-01-12\n",
       "202010    2015-01-12\n",
       "202011    2015-01-12\n",
       "202012    2015-01-12\n",
       "202013    2015-01-12\n",
       "Name: 日期, Length: 202014, dtype: object"
      ]
     },
     "execution_count": 69,
     "metadata": {},
     "output_type": "execute_result"
    }
   ],
   "source": [
    "ubike_date"
   ]
  },
  {
   "cell_type": "code",
   "execution_count": 70,
   "metadata": {
    "collapsed": true
   },
   "outputs": [],
   "source": [
    "#sort.index()\n",
    "#inplace = True 可以將排序結束的資料指派為原本的變數（如：ubike_date）\n",
    "ubike_date.sort_values(ascending = False, inplace=True)"
   ]
  },
  {
   "cell_type": "code",
   "execution_count": 71,
   "metadata": {},
   "outputs": [
    {
     "data": {
      "text/plain": [
       "202013    2015-01-12\n",
       "200348    2015-01-12\n",
       "199800    2015-01-12\n",
       "199799    2015-01-12\n",
       "199798    2015-01-12\n",
       "Name: 日期, dtype: object"
      ]
     },
     "execution_count": 71,
     "metadata": {},
     "output_type": "execute_result"
    }
   ],
   "source": [
    "ubike_date.head()"
   ]
  },
  {
   "cell_type": "code",
   "execution_count": 76,
   "metadata": {},
   "outputs": [
    {
     "data": {
      "text/plain": [
       "0    2014-12-08\n",
       "1    2014-12-08\n",
       "2    2014-12-08\n",
       "3    2014-12-08\n",
       "4    2014-12-08\n",
       "5    2014-12-08\n",
       "6    2014-12-08\n",
       "7    2014-12-08\n",
       "8    2014-12-08\n",
       "9    2014-12-08\n",
       "Name: 日期, dtype: object"
      ]
     },
     "execution_count": 76,
     "metadata": {},
     "output_type": "execute_result"
    }
   ],
   "source": [
    "ubike_date.head(10)"
   ]
  },
  {
   "cell_type": "code",
   "execution_count": 89,
   "metadata": {},
   "outputs": [
    {
     "data": {
      "text/plain": [
       "202013    2015-01-12\n",
       "200348    2015-01-12\n",
       "199800    2015-01-12\n",
       "199799    2015-01-12\n",
       "199798    2015-01-12\n",
       "199797    2015-01-12\n",
       "199796    2015-01-12\n",
       "199795    2015-01-12\n",
       "199794    2015-01-12\n",
       "199793    2015-01-12\n",
       "Name: 日期, dtype: object"
      ]
     },
     "execution_count": 89,
     "metadata": {},
     "output_type": "execute_result"
    }
   ],
   "source": [
    "ubike_date = pd.read_csv(\"ubike-utf8.csv\", usecols=['日期'], squeeze=True)\n",
    "ubike_date.sort_values(ascending = False).head(10)"
   ]
  },
  {
   "cell_type": "code",
   "execution_count": 75,
   "metadata": {},
   "outputs": [
    {
     "data": {
      "text/plain": [
       "0    2014-12-08\n",
       "1    2014-12-08\n",
       "2    2014-12-08\n",
       "3    2014-12-08\n",
       "4    2014-12-08\n",
       "5    2014-12-08\n",
       "6    2014-12-08\n",
       "7    2014-12-08\n",
       "8    2014-12-08\n",
       "9    2014-12-08\n",
       "Name: 日期, dtype: object"
      ]
     },
     "execution_count": 75,
     "metadata": {},
     "output_type": "execute_result"
    }
   ],
   "source": [
    "ubike_date.head(10)"
   ]
  },
  {
   "cell_type": "code",
   "execution_count": 78,
   "metadata": {},
   "outputs": [
    {
     "data": {
      "text/plain": [
       "0    2014-12-08\n",
       "1    2014-12-08\n",
       "2    2014-12-08\n",
       "3    2014-12-08\n",
       "4    2014-12-08\n",
       "5    2014-12-08\n",
       "6    2014-12-08\n",
       "7    2014-12-08\n",
       "8    2014-12-08\n",
       "9    2014-12-08\n",
       "Name: 日期, dtype: object"
      ]
     },
     "execution_count": 78,
     "metadata": {},
     "output_type": "execute_result"
    }
   ],
   "source": [
    "ubike_date.sort_index().head(10)"
   ]
  },
  {
   "cell_type": "code",
   "execution_count": 79,
   "metadata": {},
   "outputs": [
    {
     "data": {
      "text/plain": [
       "202013    2015-01-12\n",
       "202012    2015-01-12\n",
       "202011    2015-01-12\n",
       "202010    2015-01-12\n",
       "202009    2015-01-12\n",
       "202008    2015-01-12\n",
       "202007    2015-01-12\n",
       "202006    2015-01-12\n",
       "202005    2015-01-12\n",
       "202004    2015-01-12\n",
       "Name: 日期, dtype: object"
      ]
     },
     "execution_count": 79,
     "metadata": {},
     "output_type": "execute_result"
    }
   ],
   "source": [
    "ubike_date.sort_index(ascending=False).head(10)"
   ]
  },
  {
   "cell_type": "code",
   "execution_count": 90,
   "metadata": {},
   "outputs": [
    {
     "data": {
      "text/plain": [
       "0    2014-12-08\n",
       "1    2014-12-08\n",
       "2    2014-12-08\n",
       "3    2014-12-08\n",
       "4    2014-12-08\n",
       "5    2014-12-08\n",
       "6    2014-12-08\n",
       "7    2014-12-08\n",
       "8    2014-12-08\n",
       "9    2014-12-08\n",
       "Name: 日期, dtype: object"
      ]
     },
     "execution_count": 90,
     "metadata": {},
     "output_type": "execute_result"
    }
   ],
   "source": [
    "ubike_date.head(10)"
   ]
  },
  {
   "cell_type": "code",
   "execution_count": 92,
   "metadata": {},
   "outputs": [
    {
     "data": {
      "text/plain": [
       "True"
      ]
     },
     "execution_count": 92,
     "metadata": {},
     "output_type": "execute_result"
    }
   ],
   "source": [
    "9 in ubike_date.index"
   ]
  },
  {
   "cell_type": "code",
   "execution_count": 94,
   "metadata": {},
   "outputs": [
    {
     "data": {
      "text/plain": [
       "RangeIndex(start=0, stop=202014, step=1)"
      ]
     },
     "execution_count": 94,
     "metadata": {},
     "output_type": "execute_result"
    }
   ],
   "source": [
    "ubike_date.index"
   ]
  },
  {
   "cell_type": "code",
   "execution_count": 96,
   "metadata": {},
   "outputs": [
    {
     "data": {
      "text/plain": [
       "True"
      ]
     },
     "execution_count": 96,
     "metadata": {},
     "output_type": "execute_result"
    }
   ],
   "source": [
    "'2014-12-08' in ubike_date.values"
   ]
  },
  {
   "cell_type": "code",
   "execution_count": 98,
   "metadata": {},
   "outputs": [
    {
     "data": {
      "text/plain": [
       "True"
      ]
     },
     "execution_count": 98,
     "metadata": {},
     "output_type": "execute_result"
    }
   ],
   "source": [
    "'2014-12-08' in ubike_date.values"
   ]
  },
  {
   "cell_type": "code",
   "execution_count": 99,
   "metadata": {},
   "outputs": [
    {
     "data": {
      "text/plain": [
       "'2014-12-08'"
      ]
     },
     "execution_count": 99,
     "metadata": {},
     "output_type": "execute_result"
    }
   ],
   "source": [
    "ubike_date[1]"
   ]
  },
  {
   "cell_type": "code",
   "execution_count": 104,
   "metadata": {},
   "outputs": [
    {
     "data": {
      "text/plain": [
       "1         2014-12-08\n",
       "190000    2015-01-10\n",
       "100000    2014-12-26\n",
       "Name: 日期, dtype: object"
      ]
     },
     "execution_count": 104,
     "metadata": {},
     "output_type": "execute_result"
    }
   ],
   "source": [
    "ubike_date[[1,190000,100000]]"
   ]
  },
  {
   "cell_type": "code",
   "execution_count": 107,
   "metadata": {},
   "outputs": [
    {
     "data": {
      "text/plain": [
       "1    2014-12-08\n",
       "2    2014-12-08\n",
       "3    2014-12-08\n",
       "4    2014-12-08\n",
       "5    2014-12-08\n",
       "6    2014-12-08\n",
       "7    2014-12-08\n",
       "8    2014-12-08\n",
       "9    2014-12-08\n",
       "Name: 日期, dtype: object"
      ]
     },
     "execution_count": 107,
     "metadata": {},
     "output_type": "execute_result"
    }
   ],
   "source": [
    "ubike_date[1:10]"
   ]
  },
  {
   "cell_type": "code",
   "execution_count": 1,
   "metadata": {
    "collapsed": true
   },
   "outputs": [],
   "source": [
    "#The Math Methods"
   ]
  },
  {
   "cell_type": "code",
   "execution_count": 15,
   "metadata": {},
   "outputs": [],
   "source": [
    "ubike_car = pd.read_csv(\"ubike-utf8.csv\", usecols=['平均車輛數'], squeeze=True )"
   ]
  },
  {
   "cell_type": "code",
   "execution_count": 17,
   "metadata": {},
   "outputs": [
    {
     "data": {
      "text/plain": [
       "0    24.000\n",
       "1    10.333\n",
       "2    39.333\n",
       "3    34.167\n",
       "4    31.333\n",
       "5    23.571\n",
       "6    19.667\n",
       "7    23.667\n",
       "8    16.000\n",
       "9    44.167\n",
       "Name: 平均車輛數, dtype: float64"
      ]
     },
     "execution_count": 17,
     "metadata": {},
     "output_type": "execute_result"
    }
   ],
   "source": [
    "ubike_car.head(10)"
   ]
  },
  {
   "cell_type": "code",
   "execution_count": 18,
   "metadata": {},
   "outputs": [
    {
     "data": {
      "text/plain": [
       "202014"
      ]
     },
     "execution_count": 18,
     "metadata": {},
     "output_type": "execute_result"
    }
   ],
   "source": [
    "ubike_car.count()"
   ]
  },
  {
   "cell_type": "code",
   "execution_count": 19,
   "metadata": {},
   "outputs": [
    {
     "data": {
      "text/plain": [
       "202014"
      ]
     },
     "execution_count": 19,
     "metadata": {},
     "output_type": "execute_result"
    }
   ],
   "source": [
    "len(ubike_car)"
   ]
  },
  {
   "cell_type": "code",
   "execution_count": 20,
   "metadata": {},
   "outputs": [
    {
     "data": {
      "text/plain": [
       "3122637.0470000003"
      ]
     },
     "execution_count": 20,
     "metadata": {},
     "output_type": "execute_result"
    }
   ],
   "source": [
    "ubike_car.sum()"
   ]
  },
  {
   "cell_type": "code",
   "execution_count": 21,
   "metadata": {},
   "outputs": [
    {
     "data": {
      "text/plain": [
       "15.457527928757415"
      ]
     },
     "execution_count": 21,
     "metadata": {},
     "output_type": "execute_result"
    }
   ],
   "source": [
    "ubike_car.mean()"
   ]
  },
  {
   "cell_type": "code",
   "execution_count": 22,
   "metadata": {},
   "outputs": [
    {
     "data": {
      "text/plain": [
       "15.457527928757415"
      ]
     },
     "execution_count": 22,
     "metadata": {},
     "output_type": "execute_result"
    }
   ],
   "source": [
    "ubike_car.sum() / ubike_car.count()"
   ]
  },
  {
   "cell_type": "code",
   "execution_count": 23,
   "metadata": {},
   "outputs": [
    {
     "data": {
      "text/plain": [
       "12.521467869287511"
      ]
     },
     "execution_count": 23,
     "metadata": {},
     "output_type": "execute_result"
    }
   ],
   "source": [
    "ubike_car.std()"
   ]
  },
  {
   "cell_type": "code",
   "execution_count": 24,
   "metadata": {},
   "outputs": [
    {
     "data": {
      "text/plain": [
       "0.0"
      ]
     },
     "execution_count": 24,
     "metadata": {},
     "output_type": "execute_result"
    }
   ],
   "source": [
    "ubike_car.min()"
   ]
  },
  {
   "cell_type": "code",
   "execution_count": 25,
   "metadata": {},
   "outputs": [
    {
     "data": {
      "text/plain": [
       "171.0"
      ]
     },
     "execution_count": 25,
     "metadata": {},
     "output_type": "execute_result"
    }
   ],
   "source": [
    "ubike_car.max()"
   ]
  },
  {
   "cell_type": "code",
   "execution_count": 26,
   "metadata": {},
   "outputs": [
    {
     "data": {
      "text/plain": [
       "13.4535"
      ]
     },
     "execution_count": 26,
     "metadata": {},
     "output_type": "execute_result"
    }
   ],
   "source": [
    "ubike_car.median()"
   ]
  },
  {
   "cell_type": "code",
   "execution_count": 29,
   "metadata": {},
   "outputs": [
    {
     "data": {
      "text/plain": [
       "count    202014.000000\n",
       "mean         15.457528\n",
       "std          12.521468\n",
       "min           0.000000\n",
       "25%           5.767000\n",
       "50%          13.453500\n",
       "75%          22.000000\n",
       "max         171.000000\n",
       "Name: 平均車輛數, dtype: float64"
      ]
     },
     "execution_count": 29,
     "metadata": {},
     "output_type": "execute_result"
    }
   ],
   "source": [
    "ubike_car.describe()"
   ]
  },
  {
   "cell_type": "code",
   "execution_count": 33,
   "metadata": {},
   "outputs": [
    {
     "data": {
      "text/plain": [
       "681"
      ]
     },
     "execution_count": 33,
     "metadata": {},
     "output_type": "execute_result"
    }
   ],
   "source": [
    "ubike_car.idxmin()"
   ]
  },
  {
   "cell_type": "code",
   "execution_count": 34,
   "metadata": {},
   "outputs": [
    {
     "data": {
      "text/plain": [
       "0.0"
      ]
     },
     "execution_count": 34,
     "metadata": {},
     "output_type": "execute_result"
    }
   ],
   "source": [
    "ubike_car[681]"
   ]
  },
  {
   "cell_type": "code",
   "execution_count": 35,
   "metadata": {},
   "outputs": [
    {
     "data": {
      "text/plain": [
       "146381"
      ]
     },
     "execution_count": 35,
     "metadata": {},
     "output_type": "execute_result"
    }
   ],
   "source": [
    "ubike_car.idxmax()"
   ]
  },
  {
   "cell_type": "code",
   "execution_count": 36,
   "metadata": {},
   "outputs": [
    {
     "data": {
      "text/plain": [
       "171.0"
      ]
     },
     "execution_count": 36,
     "metadata": {},
     "output_type": "execute_result"
    }
   ],
   "source": [
    "ubike_car[146381]"
   ]
  },
  {
   "cell_type": "code",
   "execution_count": 37,
   "metadata": {},
   "outputs": [
    {
     "data": {
      "text/plain": [
       "171.0"
      ]
     },
     "execution_count": 37,
     "metadata": {},
     "output_type": "execute_result"
    }
   ],
   "source": [
    "ubike_car[ubike_car.idxmax()]"
   ]
  },
  {
   "cell_type": "code",
   "execution_count": 38,
   "metadata": {},
   "outputs": [
    {
     "data": {
      "text/plain": [
       "0.000      1162\n",
       "14.000      874\n",
       "1.000       835\n",
       "11.000      831\n",
       "13.000      815\n",
       "16.000      811\n",
       "12.000      804\n",
       "17.000      804\n",
       "15.000      800\n",
       "19.000      798\n",
       "18.000      797\n",
       "2.000       796\n",
       "20.000      794\n",
       "10.000      789\n",
       "21.000      725\n",
       "7.000       677\n",
       "9.000       674\n",
       "3.000       668\n",
       "23.000      665\n",
       "8.000       659\n",
       "22.000      654\n",
       "25.000      615\n",
       "24.000      598\n",
       "6.000       597\n",
       "4.000       594\n",
       "5.000       573\n",
       "26.000      479\n",
       "27.000      454\n",
       "28.000      427\n",
       "1.400       352\n",
       "           ... \n",
       "17.903        1\n",
       "62.429        1\n",
       "81.733        1\n",
       "80.267        1\n",
       "45.818        1\n",
       "52.269        1\n",
       "12.617        1\n",
       "32.196        1\n",
       "12.619        1\n",
       "21.963        1\n",
       "46.517        1\n",
       "5.692         1\n",
       "24.435        1\n",
       "20.106        1\n",
       "16.457        1\n",
       "4.812         1\n",
       "45.258        1\n",
       "29.149        1\n",
       "60.200        1\n",
       "69.067        1\n",
       "5.519         1\n",
       "9.314         1\n",
       "24.465        1\n",
       "0.537         1\n",
       "18.742        1\n",
       "36.812        1\n",
       "12.839        1\n",
       "17.129        1\n",
       "62.379        1\n",
       "120.214       1\n",
       "Name: 平均車輛數, Length: 14037, dtype: int64"
      ]
     },
     "execution_count": 38,
     "metadata": {},
     "output_type": "execute_result"
    }
   ],
   "source": [
    "#The value_counts() Method 次數分配表\n",
    "ubike_car.value_counts()"
   ]
  },
  {
   "cell_type": "code",
   "execution_count": 42,
   "metadata": {},
   "outputs": [
    {
     "data": {
      "text/plain": [
       "0.000      1162\n",
       "14.000      874\n",
       "1.000       835\n",
       "11.000      831\n",
       "13.000      815\n",
       "16.000      811\n",
       "12.000      804\n",
       "17.000      804\n",
       "15.000      800\n",
       "19.000      798\n",
       "18.000      797\n",
       "2.000       796\n",
       "20.000      794\n",
       "10.000      789\n",
       "21.000      725\n",
       "7.000       677\n",
       "9.000       674\n",
       "3.000       668\n",
       "23.000      665\n",
       "8.000       659\n",
       "22.000      654\n",
       "25.000      615\n",
       "24.000      598\n",
       "6.000       597\n",
       "4.000       594\n",
       "5.000       573\n",
       "26.000      479\n",
       "27.000      454\n",
       "28.000      427\n",
       "1.400       352\n",
       "           ... \n",
       "17.903        1\n",
       "62.429        1\n",
       "81.733        1\n",
       "80.267        1\n",
       "45.818        1\n",
       "52.269        1\n",
       "12.617        1\n",
       "32.196        1\n",
       "12.619        1\n",
       "21.963        1\n",
       "46.517        1\n",
       "5.692         1\n",
       "24.435        1\n",
       "20.106        1\n",
       "16.457        1\n",
       "4.812         1\n",
       "45.258        1\n",
       "29.149        1\n",
       "60.200        1\n",
       "69.067        1\n",
       "5.519         1\n",
       "9.314         1\n",
       "24.465        1\n",
       "0.537         1\n",
       "18.742        1\n",
       "36.812        1\n",
       "12.839        1\n",
       "17.129        1\n",
       "62.379        1\n",
       "120.214       1\n",
       "Name: 平均車輛數, Length: 14037, dtype: int64"
      ]
     },
     "execution_count": 42,
     "metadata": {},
     "output_type": "execute_result"
    }
   ],
   "source": [
    "ubike_car.value_counts(ascending = False)"
   ]
  },
  {
   "cell_type": "code",
   "execution_count": 43,
   "metadata": {},
   "outputs": [
    {
     "data": {
      "text/plain": [
       "0    24.000\n",
       "1    10.333\n",
       "2    39.333\n",
       "3    34.167\n",
       "4    31.333\n",
       "5    23.571\n",
       "6    19.667\n",
       "7    23.667\n",
       "8    16.000\n",
       "9    44.167\n",
       "Name: 平均車輛數, dtype: float64"
      ]
     },
     "execution_count": 43,
     "metadata": {},
     "output_type": "execute_result"
    }
   ],
   "source": [
    "# The .apply() Method\n",
    "ubike_car = pd.read_csv(\"ubike-utf8.csv\", usecols=['平均車輛數'], squeeze=True )\n",
    "ubike_car.head(10)"
   ]
  },
  {
   "cell_type": "code",
   "execution_count": 44,
   "metadata": {
    "collapsed": true
   },
   "outputs": [],
   "source": [
    "def classify_performance(number):\n",
    "    if number < 10:\n",
    "        return \"ok\"\n",
    "    elif number >= 20 and number < 40:\n",
    "        return \"Great\"\n",
    "    else:\n",
    "        return \"Cool\""
   ]
  },
  {
   "cell_type": "code",
   "execution_count": 46,
   "metadata": {},
   "outputs": [
    {
     "data": {
      "text/plain": [
       "202009    Great\n",
       "202010    Great\n",
       "202011     Cool\n",
       "202012       ok\n",
       "202013    Great\n",
       "Name: 平均車輛數, dtype: object"
      ]
     },
     "execution_count": 46,
     "metadata": {},
     "output_type": "execute_result"
    }
   ],
   "source": [
    "ubike_car.apply(classify_performance).tail()"
   ]
  },
  {
   "cell_type": "code",
   "execution_count": 48,
   "metadata": {},
   "outputs": [
    {
     "data": {
      "text/plain": [
       "0    25.000\n",
       "1    11.333\n",
       "2    40.333\n",
       "3    35.167\n",
       "4    32.333\n",
       "5    24.571\n",
       "6    20.667\n",
       "7    24.667\n",
       "8    17.000\n",
       "9    45.167\n",
       "Name: 平均車輛數, dtype: float64"
      ]
     },
     "execution_count": 48,
     "metadata": {},
     "output_type": "execute_result"
    }
   ],
   "source": [
    "ubike_car.apply(lambda x : x + 1).head(10)"
   ]
  },
  {
   "cell_type": "code",
   "execution_count": 62,
   "metadata": {},
   "outputs": [
    {
     "data": {
      "text/plain": [
       "0    捷運國父紀念館站(2號出口)\n",
       "1             台北市政府\n",
       "2              市民廣場\n",
       "3              興雅國中\n",
       "4              世貿二館\n",
       "Name: 場站名稱, dtype: object"
      ]
     },
     "execution_count": 62,
     "metadata": {},
     "output_type": "execute_result"
    }
   ],
   "source": [
    "ubike_car.head()"
   ]
  },
  {
   "cell_type": "code",
   "execution_count": 63,
   "metadata": {
    "collapsed": true
   },
   "outputs": [],
   "source": [
    "#What does the squeeze parameter change in the .read_csv() method?\n",
    "\n",
    "#A.The column width of each column)\n",
    "#B.The number of rows that are imported from the CSV)\n",
    "#C.The number of columns that are imported from the CSV)\n",
    "#D.The conversion of the CSV's dataset to a pandas Series object instead of a pandas DataFrame object)"
   ]
  },
  {
   "cell_type": "code",
   "execution_count": 64,
   "metadata": {
    "collapsed": true
   },
   "outputs": [],
   "source": [
    "#How many Series rows do the .head() and .tail() methods return if no argument is passed within the parentheses?\n",
    "#A.10\n",
    "#B.5\n",
    "#C.3\n",
    "#D.1"
   ]
  },
  {
   "cell_type": "code",
   "execution_count": 65,
   "metadata": {
    "collapsed": true
   },
   "outputs": [],
   "source": [
    "#What is the syntactical difference between calling a method and an attribute on an object?\n",
    "#A.There is no difference\n",
    "#B.Attributes require parentheses, methods do not.\n",
    "#C.Methods require parentheses, attributes do not."
   ]
  },
  {
   "cell_type": "code",
   "execution_count": 66,
   "metadata": {
    "collapsed": true
   },
   "outputs": [],
   "source": [
    "#What method parameter is used to permanently modify the object the method is called on?\n",
    "#A:inplace\n",
    "#B:save\n",
    "#C:overwrite"
   ]
  },
  {
   "cell_type": "code",
   "execution_count": null,
   "metadata": {
    "collapsed": true
   },
   "outputs": [],
   "source": [
    "#What method is used to call a custom Python function on every value in a Series?\n",
    "#A:.map()\n",
    "#B:.apply()\n",
    "#C:.execute()\n",
    "#D:.loopOver()"
   ]
  },
  {
   "cell_type": "code",
   "execution_count": null,
   "metadata": {
    "collapsed": true
   },
   "outputs": [],
   "source": [
    "#Let's say you want to check if the value \"Red\" exists in the values of a Series called s . Which of the following syntax options will yield the right result?\n",
    "#A:\"Red\" in s.index\n",
    "#B:\"Red\" in s\n",
    "#C:\"Red\" in s.values"
   ]
  },
  {
   "cell_type": "code",
   "execution_count": null,
   "metadata": {
    "collapsed": true
   },
   "outputs": [],
   "source": [
    "#TRUE or FALSE: The index labels in a pandas Series must be unique.\n",
    "#A:TRUE\n",
    "#B:FALSE"
   ]
  }
 ],
 "metadata": {
  "anaconda-cloud": {},
  "kernelspec": {
   "display_name": "Python 3",
   "language": "python",
   "name": "python3"
  },
  "language_info": {
   "codemirror_mode": {
    "name": "ipython",
    "version": 3
   },
   "file_extension": ".py",
   "mimetype": "text/x-python",
   "name": "python",
   "nbconvert_exporter": "python",
   "pygments_lexer": "ipython3",
   "version": "3.6.4"
  }
 },
 "nbformat": 4,
 "nbformat_minor": 1
}
